{
 "cells": [
  {
   "cell_type": "code",
   "execution_count": 7,
   "metadata": {
    "ExecuteTime": {
     "end_time": "2023-08-08T00:26:38.013966Z",
     "start_time": "2023-08-08T00:26:37.982343Z"
    }
   },
   "outputs": [],
   "source": [
    "import sys\n",
    "import os\n",
    "cwd = os.getcwd().replace('/demo', '')\n",
    "sys.path.insert(0, cwd)"
   ]
  },
  {
   "cell_type": "code",
   "execution_count": 8,
   "metadata": {
    "ExecuteTime": {
     "end_time": "2023-08-08T00:26:38.015101Z",
     "start_time": "2023-08-08T00:26:37.993391Z"
    }
   },
   "outputs": [],
   "source": [
    "%%capture\n",
    "import mercury as mr\n",
    "import numpy as np\n",
    "import pandas as pd\n",
    "from IPython.display import display\n",
    "import pickle\n",
    "\n",
    "from lucupy.minimodel.constraints import CloudCover, ImageQuality\n",
    "from lucupy.minimodel.site import ALL_SITES, Site\n",
    "from lucupy.minimodel.semester import SemesterHalf\n",
    "from lucupy.observatory.abstract import ObservatoryProperties\n",
    "from lucupy.observatory.gemini import GeminiProperties\n",
    "\n",
    "from definitions import ROOT_DIR\n",
    "from scheduler.core.builder.blueprint import CollectorBlueprint, OptimizerBlueprint\n",
    "from scheduler.core.builder.builder import SchedulerBuilder\n",
    "from scheduler.core.components.collector import *\n",
    "from scheduler.core.output import print_collector_info, plans_table, pickle_plans, pickle_selection\n",
    "from scheduler.core.programprovider.ocs import read_ocs_zipfile, OcsProgramProvider\n",
    "from scheduler.core.statscalculator import StatCalculator\n",
    "from scheduler.services import logger_factory\n"
   ]
  },
  {
   "cell_type": "code",
   "execution_count": 9,
   "metadata": {
    "ExecuteTime": {
     "end_time": "2023-08-08T00:26:38.037828Z",
     "start_time": "2023-08-08T00:26:37.998621Z"
    }
   },
   "outputs": [
    {
     "data": {
      "text/plain": "mercury.App",
      "text/html": "<h3>Mercury Application</h3><small>This output won't appear in the web app.</small>",
      "application/mercury+json": "{\n    \"widget\": \"App\",\n    \"title\": \"Scheduler Validate Test\",\n    \"description\": \"Try the Validation mode for the Scheduler\",\n    \"show_code\": false,\n    \"show_prompt\": true,\n    \"output\": \"app\",\n    \"schedule\": \"\",\n    \"notify\": \"{}\",\n    \"continuous_update\": false,\n    \"static_notebook\": false,\n    \"show_sidebar\": true,\n    \"full_screen\": true,\n    \"allow_download\": true,\n    \"model_id\": \"mercury-app\",\n    \"code_uid\": \"App.0.40.24.2-randde26e27d\"\n}"
     },
     "metadata": {},
     "output_type": "display_data"
    }
   ],
   "source": [
    "# set Application parameters\n",
    "app = mr.App(title=\"Scheduler Validate Test\",\n",
    "        description=\"Try the Validation mode for the Scheduler\",\n",
    "        show_code=False,\n",
    "        show_prompt=True,\n",
    "        continuous_update=False,\n",
    "        static_notebook=False,\n",
    "        show_sidebar=True,\n",
    "        full_screen=True,\n",
    "        allow_download=True)"
   ]
  },
  {
   "cell_type": "code",
   "execution_count": 10,
   "metadata": {
    "ExecuteTime": {
     "end_time": "2023-08-08T00:26:38.064308Z",
     "start_time": "2023-08-08T00:26:38.028042Z"
    }
   },
   "outputs": [
    {
     "data": {
      "application/mercury+json": "{\n    \"widget\": \"OutputDir\",\n    \"model_id\": \"output-dir\",\n    \"code_uid\": \"OutputDir.0.40.18.1-rand0dce7d50\"\n}",
      "text/html": "<h3>Output Directory</h3><small>This output won't appear in the web app.</small>",
      "text/plain": "mercury.OutputDir"
     },
     "metadata": {},
     "output_type": "display_data"
    },
    {
     "name": "stdout",
     "output_type": "stream",
     "text": [
      "Output directory path: .\n"
     ]
    }
   ],
   "source": [
    "out_dir = mr.OutputDir()\n",
    "print(f\"Output directory path: {out_dir.path}\")"
   ]
  },
  {
   "cell_type": "code",
   "execution_count": 1,
   "metadata": {
    "ExecuteTime": {
     "end_time": "2023-08-24T19:42:47.293666Z",
     "start_time": "2023-08-24T19:42:47.286897Z"
    }
   },
   "outputs": [],
   "source": [
    "def set_dates():\n",
    "\n",
    "  start_date = mr.Text(value=\"2018-10-01\", label=\"Start Date\", rows=1)\n",
    "  start_time = mr.Text(value=\"08:00:00\", label=\"Start Time\", rows=1)\n",
    "  end_date = mr.Text(value=\"2018-10-03\", label=\"End Date\", rows=1)\n",
    "  end_time = mr.Text(value=\"08:00:00\", label=\"End Time\", rows=1)\n",
    "  return f'{start_date.value} {start_time.value}', f'{end_date.value} {end_time.value}'\n",
    "\n",
    "def set_sites():\n",
    "    selected = mr.MultiSelect(label=\"Sites\", \n",
    "                              value=[\"GS\", \"GN\"], \n",
    "                              choices=[\"GS\", \"GN\"])\n",
    "    if selected.value:\n",
    "      if 'GS' in selected.value and 'GN' in selected.value:\n",
    "         return ALL_SITES\n",
    "      else:\n",
    "         return frozenset({Site[selected.value[0]]})\n",
    "    return ALL_SITES # HOW TO HANDLE ERRORS? \n",
    "\n",
    "def set_cc():\n",
    "    selected = mr.Select(label='Cloud Cover',\n",
    "                         value='CC50',\n",
    "                         choices=['CC50', 'CC70', 'CC80', 'CCANY'])\n",
    "    if selected.value:\n",
    "            return CloudCover[selected.value]\n",
    "    else:\n",
    "        return CloudCover.CC50\n",
    "    \n",
    "def set_iq():\n",
    "    selected = mr.Select(label='Image Quality',\n",
    "                         value='IQ70',\n",
    "                         choices=['IQ20', 'IQ70', 'IQ85', 'IQANY'])\n",
    "    if selected.value:\n",
    "        return ImageQuality[selected.value]\n",
    "    else:\n",
    "        return ImageQuality.IQ70\n"
   ]
  },
  {
   "cell_type": "markdown",
   "metadata": {},
   "source": [
    "## SCHEDULER \n",
    "\n",
    "It does take a while to load everything. When the run button is enable the Scheduler is ready to work. The initial values shown are the default parameters displayed in the sidebar."
   ]
  },
  {
   "cell_type": "code",
   "execution_count": 12,
   "metadata": {
    "ExecuteTime": {
     "end_time": "2023-08-08T00:26:56.485291Z",
     "start_time": "2023-08-08T00:26:38.073871Z"
    }
   },
   "outputs": [
    {
     "data": {
      "application/vnd.jupyter.widget-view+json": {
       "version_major": 2,
       "version_minor": 0,
       "model_id": "189b953fc70c44ad932c79c1d9a9c334"
      },
      "application/mercury+json": "{\n    \"widget\": \"Text\",\n    \"value\": \"2018-10-01\",\n    \"rows\": 1,\n    \"label\": \"Start Date\",\n    \"model_id\": \"189b953fc70c44ad932c79c1d9a9c334\",\n    \"code_uid\": \"Text.0.40.15.3.14-rand921ee217\",\n    \"url_key\": \"\",\n    \"disabled\": false,\n    \"hidden\": false\n}",
      "text/plain": "mercury.Text"
     },
     "metadata": {},
     "output_type": "display_data"
    },
    {
     "data": {
      "application/vnd.jupyter.widget-view+json": {
       "version_major": 2,
       "version_minor": 0,
       "model_id": "a539d1c3e77945e19b92c4f97632dedf"
      },
      "application/mercury+json": "{\n    \"widget\": \"Text\",\n    \"value\": \"08:00:00\",\n    \"rows\": 1,\n    \"label\": \"Start Time\",\n    \"model_id\": \"a539d1c3e77945e19b92c4f97632dedf\",\n    \"code_uid\": \"Text.0.40.15.4.14-rand8e5bcf96\",\n    \"url_key\": \"\",\n    \"disabled\": false,\n    \"hidden\": false\n}",
      "text/plain": "mercury.Text"
     },
     "metadata": {},
     "output_type": "display_data"
    },
    {
     "data": {
      "application/vnd.jupyter.widget-view+json": {
       "version_major": 2,
       "version_minor": 0,
       "model_id": "ad593f6c34254f8ba5cff3701157377c"
      },
      "application/mercury+json": "{\n    \"widget\": \"Text\",\n    \"value\": \"2018-10-03\",\n    \"rows\": 1,\n    \"label\": \"End Date\",\n    \"model_id\": \"ad593f6c34254f8ba5cff3701157377c\",\n    \"code_uid\": \"Text.0.40.15.5.14-rand50ed39f2\",\n    \"url_key\": \"\",\n    \"disabled\": false,\n    \"hidden\": false\n}",
      "text/plain": "mercury.Text"
     },
     "metadata": {},
     "output_type": "display_data"
    },
    {
     "data": {
      "application/vnd.jupyter.widget-view+json": {
       "version_major": 2,
       "version_minor": 0,
       "model_id": "e9bc62e579424123add622d61433c244"
      },
      "application/mercury+json": "{\n    \"widget\": \"Text\",\n    \"value\": \"08:00:00\",\n    \"rows\": 1,\n    \"label\": \"End Time\",\n    \"model_id\": \"e9bc62e579424123add622d61433c244\",\n    \"code_uid\": \"Text.0.40.15.6.14-randa471a4bb\",\n    \"url_key\": \"\",\n    \"disabled\": false,\n    \"hidden\": false\n}",
      "text/plain": "mercury.Text"
     },
     "metadata": {},
     "output_type": "display_data"
    },
    {
     "data": {
      "application/vnd.jupyter.widget-view+json": {
       "version_major": 2,
       "version_minor": 0,
       "model_id": "b30808fe5cb343aa9b538f84066c8d2c"
      },
      "application/mercury+json": "{\n    \"widget\": \"MultiSelect\",\n    \"value\": [\n        \"GS\",\n        \"GN\"\n    ],\n    \"choices\": [\n        \"GS\",\n        \"GN\"\n    ],\n    \"label\": \"Sites\",\n    \"model_id\": \"b30808fe5cb343aa9b538f84066c8d2c\",\n    \"code_uid\": \"MultiSelect.0.40.16.10.15-rand7e2dafad\",\n    \"url_key\": \"\",\n    \"disabled\": false,\n    \"hidden\": false\n}",
      "text/plain": "mercury.MultiSelect"
     },
     "metadata": {},
     "output_type": "display_data"
    },
    {
     "name": "stdout",
     "output_type": "stream",
     "text": [
      "Pre-Collector / Collector running from:\n",
      "   start time:       2018-10-01 08:00:00.000\n",
      "   end time:         2018-10-03 08:00:00.000\n",
      "   time slot length: 1.0 min\n",
      "\n",
      "\n",
      "+++++ NIGHT EVENTS FOR GS +++++\n",
      "* DAY 0: 2018-09-30 20:36:00.000005-03:00 to 2018-10-01 06:29:00.000017-03:00, 594 time slots.\n",
      "\tmidnight:         2018-10-01 03:00:00\n",
      "\tsunset:           2018-09-30 22:51:51.313\n",
      "\tsunrise:          2018-10-01 10:13:08.138\n",
      "\t12° eve twilight: 2018-09-30 23:35:59.594\n",
      "\t12° mor twilight: 2018-10-01 09:29:01.995\n",
      "\tmoonrise:         2018-10-01 04:10:15.720\n",
      "\tmoonset:          2018-10-01 15:12:31.872\n",
      "* DAY 1: 2018-10-01 20:37:00.000002-03:00 to 2018-10-02 06:26:59.999984-03:00, 591 time slots.\n",
      "\tmidnight:         2018-10-02 03:00:00\n",
      "\tsunset:           2018-10-01 22:52:26.854\n",
      "\tsunrise:          2018-10-02 10:11:54.093\n",
      "\t12° eve twilight: 2018-10-01 23:36:38.176\n",
      "\t12° mor twilight: 2018-10-02 09:27:44.847\n",
      "\tmoonrise:         2018-10-02 05:10:48.546\n",
      "\tmoonset:          2018-10-01 15:12:32.555\n",
      "* DAY 2: 2018-10-02 20:37:59.999998-03:00 to 2018-10-03 06:25:59.999987-03:00, 589 time slots.\n",
      "\tmidnight:         2018-10-03 03:00:00\n",
      "\tsunset:           2018-10-02 22:53:02.704\n",
      "\tsunrise:          2018-10-03 10:10:40.358\n",
      "\t12° eve twilight: 2018-10-02 23:37:17.240\n",
      "\t12° mor twilight: 2018-10-03 09:26:27.834\n",
      "\tmoonrise:         2018-10-03 06:08:46.669\n",
      "\tmoonset:          2018-10-02 16:09:09.475\n",
      "\n",
      "\n",
      "+++++ NIGHT EVENTS FOR GN +++++\n",
      "* DAY 0: 2018-09-30 19:59:00.000017-09:00 to 2018-10-01 06:24:59.999991-09:00, 627 time slots.\n",
      "\tmidnight:         2018-10-01 09:00:00\n",
      "\tsunset:           2018-10-01 04:19:43.031\n",
      "\tsunrise:          2018-10-01 16:03:41.092\n",
      "\t12° eve twilight: 2018-10-01 04:58:06.957\n",
      "\t12° mor twilight: 2018-10-01 15:25:15.286\n",
      "\tmoonrise:         2018-10-01 08:39:18.887\n",
      "\tmoonset:          2018-09-30 21:31:49.933\n",
      "* DAY 1: 2018-10-01 19:57:59.999980-09:00 to 2018-10-02 06:24:59.999991-09:00, 628 time slots.\n",
      "\tmidnight:         2018-10-02 09:00:00\n",
      "\tsunset:           2018-10-02 04:18:50.410\n",
      "\tsunrise:          2018-10-02 16:03:55.278\n",
      "\t12° eve twilight: 2018-10-02 04:57:14.601\n",
      "\t12° mor twilight: 2018-10-02 15:25:29.158\n",
      "\tmoonrise:         2018-10-02 09:35:27.368\n",
      "\tmoonset:          2018-10-01 22:31:17.931\n",
      "* DAY 2: 2018-10-02 19:56:59.999984-09:00 to 2018-10-03 06:24:59.999991-09:00, 629 time slots.\n",
      "\tmidnight:         2018-10-03 09:00:00\n",
      "\tsunset:           2018-10-03 04:17:58.161\n",
      "\tsunrise:          2018-10-03 16:04:09.713\n",
      "\t12° eve twilight: 2018-10-03 04:56:22.739\n",
      "\t12° mor twilight: 2018-10-03 15:25:43.156\n",
      "\tmoonrise:         2018-10-03 10:35:13.150\n",
      "\tmoonset:          2018-10-02 23:29:55.909\n"
     ]
    },
    {
     "data": {
      "text/plain": "<IPython.core.display.Markdown object>",
      "text/markdown": "## Night Idx: 1 "
     },
     "metadata": {},
     "output_type": "display_data"
    },
    {
     "data": {
      "text/plain": "<IPython.core.display.Markdown object>",
      "text/markdown": "### Site: Gemini South "
     },
     "metadata": {},
     "output_type": "display_data"
    },
    {
     "data": {
      "text/plain": "                             Start        Observation  Atom start  Atom end  \\\n0 2018-09-30 20:47:00.000005-03:00  GS-2018B-Q-115-11           0        11   \n1 2018-09-30 23:31:00.000005-03:00  GS-2018B-Q-206-10           0         7   \n2 2018-10-01 01:20:00.000005-03:00   GS-2018B-Q-115-7           0         5   \n3 2018-10-01 05:38:00.000005-03:00  GS-2018B-Q-115-10           0         1   \n4 2018-10-01 05:48:00.000005-03:00  GS-2018B-Q-223-31           0        55   \n\n   Length        Score  Instrument  \n0     169  2152.974606      GMOS-S  \n1     117  2297.100818      GMOS-S  \n2     258  3012.094366      GMOS-S  \n3       8    54.510731      GMOS-S  \n4      43   834.144459  Flamingos2  ",
      "text/html": "<div>\n<style scoped>\n    .dataframe tbody tr th:only-of-type {\n        vertical-align: middle;\n    }\n\n    .dataframe tbody tr th {\n        vertical-align: top;\n    }\n\n    .dataframe thead th {\n        text-align: right;\n    }\n</style>\n<table border=\"1\" class=\"dataframe\">\n  <thead>\n    <tr style=\"text-align: right;\">\n      <th></th>\n      <th>Start</th>\n      <th>Observation</th>\n      <th>Atom start</th>\n      <th>Atom end</th>\n      <th>Length</th>\n      <th>Score</th>\n      <th>Instrument</th>\n    </tr>\n  </thead>\n  <tbody>\n    <tr>\n      <th>0</th>\n      <td>2018-09-30 20:47:00.000005-03:00</td>\n      <td>GS-2018B-Q-115-11</td>\n      <td>0</td>\n      <td>11</td>\n      <td>169</td>\n      <td>2152.974606</td>\n      <td>GMOS-S</td>\n    </tr>\n    <tr>\n      <th>1</th>\n      <td>2018-09-30 23:31:00.000005-03:00</td>\n      <td>GS-2018B-Q-206-10</td>\n      <td>0</td>\n      <td>7</td>\n      <td>117</td>\n      <td>2297.100818</td>\n      <td>GMOS-S</td>\n    </tr>\n    <tr>\n      <th>2</th>\n      <td>2018-10-01 01:20:00.000005-03:00</td>\n      <td>GS-2018B-Q-115-7</td>\n      <td>0</td>\n      <td>5</td>\n      <td>258</td>\n      <td>3012.094366</td>\n      <td>GMOS-S</td>\n    </tr>\n    <tr>\n      <th>3</th>\n      <td>2018-10-01 05:38:00.000005-03:00</td>\n      <td>GS-2018B-Q-115-10</td>\n      <td>0</td>\n      <td>1</td>\n      <td>8</td>\n      <td>54.510731</td>\n      <td>GMOS-S</td>\n    </tr>\n    <tr>\n      <th>4</th>\n      <td>2018-10-01 05:48:00.000005-03:00</td>\n      <td>GS-2018B-Q-223-31</td>\n      <td>0</td>\n      <td>55</td>\n      <td>43</td>\n      <td>834.144459</td>\n      <td>Flamingos2</td>\n    </tr>\n  </tbody>\n</table>\n</div>"
     },
     "metadata": {},
     "output_type": "display_data"
    },
    {
     "data": {
      "text/plain": "<IPython.core.display.Markdown object>",
      "text/markdown": "### Site: Gemini North "
     },
     "metadata": {},
     "output_type": "display_data"
    },
    {
     "data": {
      "text/plain": "                              Start          Observation  Atom start  \\\n0  2018-09-30 20:20:00.000017-09:00    GN-2018B-Q-127-10           0   \n1  2018-09-30 23:54:00.000017-09:00    GN-2018B-Q-104-10           0   \n2  2018-10-01 00:52:00.000017-09:00     GN-2018B-Q-903-8           0   \n3  2018-10-01 01:15:00.000017-09:00     GN-2018B-Q-230-7           0   \n4  2018-10-01 01:41:00.000017-09:00    GN-2018B-Q-223-30           0   \n5  2018-10-01 02:04:00.000017-09:00    GN-2018B-Q-223-26           0   \n6  2018-10-01 02:26:00.000017-09:00  GN-2018B-Q-101-1393           0   \n7  2018-10-01 03:28:00.000017-09:00  GN-2018B-Q-101-1451           0   \n8  2018-10-01 03:46:00.000017-09:00  GN-2018B-Q-101-1413           0   \n9  2018-10-01 04:04:00.000017-09:00  GN-2018B-Q-101-1330           0   \n10 2018-10-01 05:06:00.000017-09:00  GN-2018B-Q-101-1337           0   \n11 2018-10-01 06:08:00.000017-09:00  GN-2018B-Q-101-1419           0   \n\n    Atom end  Length        Score Instrument  \n0         13     232  4572.674857     GMOS-N  \n1          6      59   243.526152     GMOS-N  \n2          3      23    17.871510     GMOS-N  \n3          3      22     6.186366     GMOS-N  \n4          5      23     7.125754     GMOS-N  \n5          5      22     7.309862     GMOS-N  \n6          1      62   141.293704      GNIRS  \n7          3      19    48.095176      GNIRS  \n8          3      18    58.060627      GNIRS  \n9          1      62   202.965966      GNIRS  \n10         1      62   234.656104      GNIRS  \n11         3      19    67.754847      GNIRS  ",
      "text/html": "<div>\n<style scoped>\n    .dataframe tbody tr th:only-of-type {\n        vertical-align: middle;\n    }\n\n    .dataframe tbody tr th {\n        vertical-align: top;\n    }\n\n    .dataframe thead th {\n        text-align: right;\n    }\n</style>\n<table border=\"1\" class=\"dataframe\">\n  <thead>\n    <tr style=\"text-align: right;\">\n      <th></th>\n      <th>Start</th>\n      <th>Observation</th>\n      <th>Atom start</th>\n      <th>Atom end</th>\n      <th>Length</th>\n      <th>Score</th>\n      <th>Instrument</th>\n    </tr>\n  </thead>\n  <tbody>\n    <tr>\n      <th>0</th>\n      <td>2018-09-30 20:20:00.000017-09:00</td>\n      <td>GN-2018B-Q-127-10</td>\n      <td>0</td>\n      <td>13</td>\n      <td>232</td>\n      <td>4572.674857</td>\n      <td>GMOS-N</td>\n    </tr>\n    <tr>\n      <th>1</th>\n      <td>2018-09-30 23:54:00.000017-09:00</td>\n      <td>GN-2018B-Q-104-10</td>\n      <td>0</td>\n      <td>6</td>\n      <td>59</td>\n      <td>243.526152</td>\n      <td>GMOS-N</td>\n    </tr>\n    <tr>\n      <th>2</th>\n      <td>2018-10-01 00:52:00.000017-09:00</td>\n      <td>GN-2018B-Q-903-8</td>\n      <td>0</td>\n      <td>3</td>\n      <td>23</td>\n      <td>17.871510</td>\n      <td>GMOS-N</td>\n    </tr>\n    <tr>\n      <th>3</th>\n      <td>2018-10-01 01:15:00.000017-09:00</td>\n      <td>GN-2018B-Q-230-7</td>\n      <td>0</td>\n      <td>3</td>\n      <td>22</td>\n      <td>6.186366</td>\n      <td>GMOS-N</td>\n    </tr>\n    <tr>\n      <th>4</th>\n      <td>2018-10-01 01:41:00.000017-09:00</td>\n      <td>GN-2018B-Q-223-30</td>\n      <td>0</td>\n      <td>5</td>\n      <td>23</td>\n      <td>7.125754</td>\n      <td>GMOS-N</td>\n    </tr>\n    <tr>\n      <th>5</th>\n      <td>2018-10-01 02:04:00.000017-09:00</td>\n      <td>GN-2018B-Q-223-26</td>\n      <td>0</td>\n      <td>5</td>\n      <td>22</td>\n      <td>7.309862</td>\n      <td>GMOS-N</td>\n    </tr>\n    <tr>\n      <th>6</th>\n      <td>2018-10-01 02:26:00.000017-09:00</td>\n      <td>GN-2018B-Q-101-1393</td>\n      <td>0</td>\n      <td>1</td>\n      <td>62</td>\n      <td>141.293704</td>\n      <td>GNIRS</td>\n    </tr>\n    <tr>\n      <th>7</th>\n      <td>2018-10-01 03:28:00.000017-09:00</td>\n      <td>GN-2018B-Q-101-1451</td>\n      <td>0</td>\n      <td>3</td>\n      <td>19</td>\n      <td>48.095176</td>\n      <td>GNIRS</td>\n    </tr>\n    <tr>\n      <th>8</th>\n      <td>2018-10-01 03:46:00.000017-09:00</td>\n      <td>GN-2018B-Q-101-1413</td>\n      <td>0</td>\n      <td>3</td>\n      <td>18</td>\n      <td>58.060627</td>\n      <td>GNIRS</td>\n    </tr>\n    <tr>\n      <th>9</th>\n      <td>2018-10-01 04:04:00.000017-09:00</td>\n      <td>GN-2018B-Q-101-1330</td>\n      <td>0</td>\n      <td>1</td>\n      <td>62</td>\n      <td>202.965966</td>\n      <td>GNIRS</td>\n    </tr>\n    <tr>\n      <th>10</th>\n      <td>2018-10-01 05:06:00.000017-09:00</td>\n      <td>GN-2018B-Q-101-1337</td>\n      <td>0</td>\n      <td>1</td>\n      <td>62</td>\n      <td>234.656104</td>\n      <td>GNIRS</td>\n    </tr>\n    <tr>\n      <th>11</th>\n      <td>2018-10-01 06:08:00.000017-09:00</td>\n      <td>GN-2018B-Q-101-1419</td>\n      <td>0</td>\n      <td>3</td>\n      <td>19</td>\n      <td>67.754847</td>\n      <td>GNIRS</td>\n    </tr>\n  </tbody>\n</table>\n</div>"
     },
     "metadata": {},
     "output_type": "display_data"
    },
    {
     "data": {
      "text/plain": "<IPython.core.display.Markdown object>",
      "text/markdown": "## Night Idx: 2 "
     },
     "metadata": {},
     "output_type": "display_data"
    },
    {
     "data": {
      "text/plain": "<IPython.core.display.Markdown object>",
      "text/markdown": "### Site: Gemini South "
     },
     "metadata": {},
     "output_type": "display_data"
    },
    {
     "data": {
      "text/plain": "                             Start        Observation  Atom start  Atom end  \\\n0 2018-10-01 20:37:00.000002-03:00  GS-2018B-Q-223-30           0        36   \n1 2018-10-01 21:07:00.000002-03:00  GS-2018B-Q-115-11           0         8   \n2 2018-10-01 23:27:00.000002-03:00  GS-2018B-Q-206-10           0        17   \n3 2018-10-02 03:32:00.000002-03:00  GS-2018B-Q-115-11           0         8   \n4 2018-10-02 04:42:00.000002-03:00  GS-2018B-Q-105-81           0         3   \n5 2018-10-02 05:45:00.000002-03:00  GS-2018B-Q-223-31           0        57   \n\n   Length        Score  Instrument  \n0      31   205.442043  Flamingos2  \n1      70  1225.818138      GMOS-S  \n2     249  7541.071846      GMOS-S  \n3      70  1445.282822      GMOS-S  \n4      66  1118.250885      GMOS-S  \n5      44  1273.341931  Flamingos2  ",
      "text/html": "<div>\n<style scoped>\n    .dataframe tbody tr th:only-of-type {\n        vertical-align: middle;\n    }\n\n    .dataframe tbody tr th {\n        vertical-align: top;\n    }\n\n    .dataframe thead th {\n        text-align: right;\n    }\n</style>\n<table border=\"1\" class=\"dataframe\">\n  <thead>\n    <tr style=\"text-align: right;\">\n      <th></th>\n      <th>Start</th>\n      <th>Observation</th>\n      <th>Atom start</th>\n      <th>Atom end</th>\n      <th>Length</th>\n      <th>Score</th>\n      <th>Instrument</th>\n    </tr>\n  </thead>\n  <tbody>\n    <tr>\n      <th>0</th>\n      <td>2018-10-01 20:37:00.000002-03:00</td>\n      <td>GS-2018B-Q-223-30</td>\n      <td>0</td>\n      <td>36</td>\n      <td>31</td>\n      <td>205.442043</td>\n      <td>Flamingos2</td>\n    </tr>\n    <tr>\n      <th>1</th>\n      <td>2018-10-01 21:07:00.000002-03:00</td>\n      <td>GS-2018B-Q-115-11</td>\n      <td>0</td>\n      <td>8</td>\n      <td>70</td>\n      <td>1225.818138</td>\n      <td>GMOS-S</td>\n    </tr>\n    <tr>\n      <th>2</th>\n      <td>2018-10-01 23:27:00.000002-03:00</td>\n      <td>GS-2018B-Q-206-10</td>\n      <td>0</td>\n      <td>17</td>\n      <td>249</td>\n      <td>7541.071846</td>\n      <td>GMOS-S</td>\n    </tr>\n    <tr>\n      <th>3</th>\n      <td>2018-10-02 03:32:00.000002-03:00</td>\n      <td>GS-2018B-Q-115-11</td>\n      <td>0</td>\n      <td>8</td>\n      <td>70</td>\n      <td>1445.282822</td>\n      <td>GMOS-S</td>\n    </tr>\n    <tr>\n      <th>4</th>\n      <td>2018-10-02 04:42:00.000002-03:00</td>\n      <td>GS-2018B-Q-105-81</td>\n      <td>0</td>\n      <td>3</td>\n      <td>66</td>\n      <td>1118.250885</td>\n      <td>GMOS-S</td>\n    </tr>\n    <tr>\n      <th>5</th>\n      <td>2018-10-02 05:45:00.000002-03:00</td>\n      <td>GS-2018B-Q-223-31</td>\n      <td>0</td>\n      <td>57</td>\n      <td>44</td>\n      <td>1273.341931</td>\n      <td>Flamingos2</td>\n    </tr>\n  </tbody>\n</table>\n</div>"
     },
     "metadata": {},
     "output_type": "display_data"
    },
    {
     "data": {
      "text/plain": "<IPython.core.display.Markdown object>",
      "text/markdown": "### Site: Gemini North "
     },
     "metadata": {},
     "output_type": "display_data"
    },
    {
     "data": {
      "text/plain": "                              Start          Observation  Atom start  \\\n0  2018-10-01 19:58:59.999980-09:00     GN-2018B-Q-108-5           0   \n1  2018-10-01 20:18:59.999980-09:00    GN-2018B-Q-127-15           0   \n2  2018-10-02 00:03:59.999980-09:00    GN-2018B-Q-903-12           0   \n3  2018-10-02 00:49:59.999980-09:00    GN-2018B-Q-127-15           0   \n4  2018-10-02 01:33:59.999980-09:00  GN-2018B-Q-101-1417           0   \n5  2018-10-02 01:51:59.999980-09:00  GN-2018B-Q-101-1441           0   \n6  2018-10-02 02:09:59.999980-09:00  GN-2018B-Q-101-1379           0   \n7  2018-10-02 03:11:59.999980-09:00  GN-2018B-Q-101-1445           0   \n8  2018-10-02 03:29:59.999980-09:00  GN-2018B-Q-101-1386           0   \n9  2018-10-02 04:31:59.999980-09:00  GN-2018B-Q-101-1316           0   \n10 2018-10-02 05:33:59.999980-09:00  GN-2018B-Q-101-1407           0   \n11 2018-10-02 05:51:59.999980-09:00    GN-2018B-Q-133-83           0   \n12 2018-10-02 06:08:59.999980-09:00    GN-2018B-Q-133-18           0   \n\n    Atom end  Length        Score Instrument  \n0          0      20    23.321425     GMOS-N  \n1         12     230  8862.715350     GMOS-N  \n2          2      67  2723.259535     GMOS-N  \n3          1      40  1557.852569     GMOS-N  \n4          3      18    24.420108      GNIRS  \n5          3      18    61.864554      GNIRS  \n6          1      62   238.444382      GNIRS  \n7          3      18    69.043843      GNIRS  \n8          1      62   249.656444      GNIRS  \n9          1      62   246.510640      GNIRS  \n10         3      19    74.649997      GNIRS  \n11         3      17    70.717278      GNIRS  \n12         3      17    79.137110      GNIRS  ",
      "text/html": "<div>\n<style scoped>\n    .dataframe tbody tr th:only-of-type {\n        vertical-align: middle;\n    }\n\n    .dataframe tbody tr th {\n        vertical-align: top;\n    }\n\n    .dataframe thead th {\n        text-align: right;\n    }\n</style>\n<table border=\"1\" class=\"dataframe\">\n  <thead>\n    <tr style=\"text-align: right;\">\n      <th></th>\n      <th>Start</th>\n      <th>Observation</th>\n      <th>Atom start</th>\n      <th>Atom end</th>\n      <th>Length</th>\n      <th>Score</th>\n      <th>Instrument</th>\n    </tr>\n  </thead>\n  <tbody>\n    <tr>\n      <th>0</th>\n      <td>2018-10-01 19:58:59.999980-09:00</td>\n      <td>GN-2018B-Q-108-5</td>\n      <td>0</td>\n      <td>0</td>\n      <td>20</td>\n      <td>23.321425</td>\n      <td>GMOS-N</td>\n    </tr>\n    <tr>\n      <th>1</th>\n      <td>2018-10-01 20:18:59.999980-09:00</td>\n      <td>GN-2018B-Q-127-15</td>\n      <td>0</td>\n      <td>12</td>\n      <td>230</td>\n      <td>8862.715350</td>\n      <td>GMOS-N</td>\n    </tr>\n    <tr>\n      <th>2</th>\n      <td>2018-10-02 00:03:59.999980-09:00</td>\n      <td>GN-2018B-Q-903-12</td>\n      <td>0</td>\n      <td>2</td>\n      <td>67</td>\n      <td>2723.259535</td>\n      <td>GMOS-N</td>\n    </tr>\n    <tr>\n      <th>3</th>\n      <td>2018-10-02 00:49:59.999980-09:00</td>\n      <td>GN-2018B-Q-127-15</td>\n      <td>0</td>\n      <td>1</td>\n      <td>40</td>\n      <td>1557.852569</td>\n      <td>GMOS-N</td>\n    </tr>\n    <tr>\n      <th>4</th>\n      <td>2018-10-02 01:33:59.999980-09:00</td>\n      <td>GN-2018B-Q-101-1417</td>\n      <td>0</td>\n      <td>3</td>\n      <td>18</td>\n      <td>24.420108</td>\n      <td>GNIRS</td>\n    </tr>\n    <tr>\n      <th>5</th>\n      <td>2018-10-02 01:51:59.999980-09:00</td>\n      <td>GN-2018B-Q-101-1441</td>\n      <td>0</td>\n      <td>3</td>\n      <td>18</td>\n      <td>61.864554</td>\n      <td>GNIRS</td>\n    </tr>\n    <tr>\n      <th>6</th>\n      <td>2018-10-02 02:09:59.999980-09:00</td>\n      <td>GN-2018B-Q-101-1379</td>\n      <td>0</td>\n      <td>1</td>\n      <td>62</td>\n      <td>238.444382</td>\n      <td>GNIRS</td>\n    </tr>\n    <tr>\n      <th>7</th>\n      <td>2018-10-02 03:11:59.999980-09:00</td>\n      <td>GN-2018B-Q-101-1445</td>\n      <td>0</td>\n      <td>3</td>\n      <td>18</td>\n      <td>69.043843</td>\n      <td>GNIRS</td>\n    </tr>\n    <tr>\n      <th>8</th>\n      <td>2018-10-02 03:29:59.999980-09:00</td>\n      <td>GN-2018B-Q-101-1386</td>\n      <td>0</td>\n      <td>1</td>\n      <td>62</td>\n      <td>249.656444</td>\n      <td>GNIRS</td>\n    </tr>\n    <tr>\n      <th>9</th>\n      <td>2018-10-02 04:31:59.999980-09:00</td>\n      <td>GN-2018B-Q-101-1316</td>\n      <td>0</td>\n      <td>1</td>\n      <td>62</td>\n      <td>246.510640</td>\n      <td>GNIRS</td>\n    </tr>\n    <tr>\n      <th>10</th>\n      <td>2018-10-02 05:33:59.999980-09:00</td>\n      <td>GN-2018B-Q-101-1407</td>\n      <td>0</td>\n      <td>3</td>\n      <td>19</td>\n      <td>74.649997</td>\n      <td>GNIRS</td>\n    </tr>\n    <tr>\n      <th>11</th>\n      <td>2018-10-02 05:51:59.999980-09:00</td>\n      <td>GN-2018B-Q-133-83</td>\n      <td>0</td>\n      <td>3</td>\n      <td>17</td>\n      <td>70.717278</td>\n      <td>GNIRS</td>\n    </tr>\n    <tr>\n      <th>12</th>\n      <td>2018-10-02 06:08:59.999980-09:00</td>\n      <td>GN-2018B-Q-133-18</td>\n      <td>0</td>\n      <td>3</td>\n      <td>17</td>\n      <td>79.137110</td>\n      <td>GNIRS</td>\n    </tr>\n  </tbody>\n</table>\n</div>"
     },
     "metadata": {},
     "output_type": "display_data"
    },
    {
     "data": {
      "text/plain": "<IPython.core.display.Markdown object>",
      "text/markdown": "## Night Idx: 3 "
     },
     "metadata": {},
     "output_type": "display_data"
    },
    {
     "data": {
      "text/plain": "<IPython.core.display.Markdown object>",
      "text/markdown": "### Site: Gemini South "
     },
     "metadata": {},
     "output_type": "display_data"
    },
    {
     "data": {
      "text/plain": "                             Start        Observation  Atom start  Atom end  \\\n0 2018-10-02 20:43:59.999998-03:00  GS-2018B-Q-105-92           0         1   \n1 2018-10-02 21:05:59.999998-03:00  GS-2018B-Q-115-11           0         8   \n2 2018-10-03 05:16:59.999998-03:00   GS-2018B-Q-120-8           0         3   \n3 2018-10-03 05:40:59.999998-03:00  GS-2018B-Q-223-31           0        62   \n\n   Length        Score  Instrument  \n0      22    90.654853      GMOS-S  \n1      70  2497.122630      GMOS-S  \n2      24   123.964311      GMOS-S  \n3      47  2705.542535  Flamingos2  ",
      "text/html": "<div>\n<style scoped>\n    .dataframe tbody tr th:only-of-type {\n        vertical-align: middle;\n    }\n\n    .dataframe tbody tr th {\n        vertical-align: top;\n    }\n\n    .dataframe thead th {\n        text-align: right;\n    }\n</style>\n<table border=\"1\" class=\"dataframe\">\n  <thead>\n    <tr style=\"text-align: right;\">\n      <th></th>\n      <th>Start</th>\n      <th>Observation</th>\n      <th>Atom start</th>\n      <th>Atom end</th>\n      <th>Length</th>\n      <th>Score</th>\n      <th>Instrument</th>\n    </tr>\n  </thead>\n  <tbody>\n    <tr>\n      <th>0</th>\n      <td>2018-10-02 20:43:59.999998-03:00</td>\n      <td>GS-2018B-Q-105-92</td>\n      <td>0</td>\n      <td>1</td>\n      <td>22</td>\n      <td>90.654853</td>\n      <td>GMOS-S</td>\n    </tr>\n    <tr>\n      <th>1</th>\n      <td>2018-10-02 21:05:59.999998-03:00</td>\n      <td>GS-2018B-Q-115-11</td>\n      <td>0</td>\n      <td>8</td>\n      <td>70</td>\n      <td>2497.122630</td>\n      <td>GMOS-S</td>\n    </tr>\n    <tr>\n      <th>2</th>\n      <td>2018-10-03 05:16:59.999998-03:00</td>\n      <td>GS-2018B-Q-120-8</td>\n      <td>0</td>\n      <td>3</td>\n      <td>24</td>\n      <td>123.964311</td>\n      <td>GMOS-S</td>\n    </tr>\n    <tr>\n      <th>3</th>\n      <td>2018-10-03 05:40:59.999998-03:00</td>\n      <td>GS-2018B-Q-223-31</td>\n      <td>0</td>\n      <td>62</td>\n      <td>47</td>\n      <td>2705.542535</td>\n      <td>Flamingos2</td>\n    </tr>\n  </tbody>\n</table>\n</div>"
     },
     "metadata": {},
     "output_type": "display_data"
    },
    {
     "data": {
      "text/plain": "<IPython.core.display.Markdown object>",
      "text/markdown": "### Site: Gemini North "
     },
     "metadata": {},
     "output_type": "display_data"
    },
    {
     "data": {
      "text/plain": "                             Start        Observation  Atom start  Atom end  \\\n0 2018-10-02 19:59:59.999984-09:00   GN-2018B-Q-103-7           0         0   \n1 2018-10-02 20:17:59.999984-09:00  GN-2018B-Q-127-10           0         7   \n2 2018-10-03 01:00:59.999984-09:00  GN-2018B-Q-903-12           0         1   \n3 2018-10-03 06:08:59.999984-09:00  GN-2018B-Q-133-76           0         3   \n\n   Length        Score Instrument  \n0      18    38.528634     GMOS-N  \n1     147  8571.241919     GMOS-N  \n2      67  5570.821453     GMOS-N  \n3      17   159.681587      GNIRS  ",
      "text/html": "<div>\n<style scoped>\n    .dataframe tbody tr th:only-of-type {\n        vertical-align: middle;\n    }\n\n    .dataframe tbody tr th {\n        vertical-align: top;\n    }\n\n    .dataframe thead th {\n        text-align: right;\n    }\n</style>\n<table border=\"1\" class=\"dataframe\">\n  <thead>\n    <tr style=\"text-align: right;\">\n      <th></th>\n      <th>Start</th>\n      <th>Observation</th>\n      <th>Atom start</th>\n      <th>Atom end</th>\n      <th>Length</th>\n      <th>Score</th>\n      <th>Instrument</th>\n    </tr>\n  </thead>\n  <tbody>\n    <tr>\n      <th>0</th>\n      <td>2018-10-02 19:59:59.999984-09:00</td>\n      <td>GN-2018B-Q-103-7</td>\n      <td>0</td>\n      <td>0</td>\n      <td>18</td>\n      <td>38.528634</td>\n      <td>GMOS-N</td>\n    </tr>\n    <tr>\n      <th>1</th>\n      <td>2018-10-02 20:17:59.999984-09:00</td>\n      <td>GN-2018B-Q-127-10</td>\n      <td>0</td>\n      <td>7</td>\n      <td>147</td>\n      <td>8571.241919</td>\n      <td>GMOS-N</td>\n    </tr>\n    <tr>\n      <th>2</th>\n      <td>2018-10-03 01:00:59.999984-09:00</td>\n      <td>GN-2018B-Q-903-12</td>\n      <td>0</td>\n      <td>1</td>\n      <td>67</td>\n      <td>5570.821453</td>\n      <td>GMOS-N</td>\n    </tr>\n    <tr>\n      <th>3</th>\n      <td>2018-10-03 06:08:59.999984-09:00</td>\n      <td>GN-2018B-Q-133-76</td>\n      <td>0</td>\n      <td>3</td>\n      <td>17</td>\n      <td>159.681587</td>\n      <td>GNIRS</td>\n    </tr>\n  </tbody>\n</table>\n</div>"
     },
     "metadata": {},
     "output_type": "display_data"
    },
    {
     "data": {
      "text/plain": "<IPython.core.display.Markdown object>",
      "text/markdown": "## Program Completion"
     },
     "metadata": {},
     "output_type": "display_data"
    },
    {
     "data": {
      "text/plain": "               % Completion         Score\nGS-2018B-Q-115        55.6%  10387.803293\nGS-2018B-Q-206        50.0%   9838.172664\nGS-2018B-Q-223        25.0%   5018.470967\nGN-2018B-Q-127       100.0%  23564.484695\nGN-2018B-Q-104         0.0%    243.526152\nGN-2018B-Q-903       100.0%   8311.952498\nGN-2018B-Q-230         0.0%      6.186366\nGN-2018B-Q-223        14.3%     14.435616\nGN-2018B-Q-101        30.8%   1717.416393\nGS-2018B-Q-105         5.9%   1208.905738\nGN-2018B-Q-108         0.0%     23.321425\nGN-2018B-Q-133        18.2%    309.535976\nGS-2018B-Q-120         0.0%    123.964311\nGN-2018B-Q-103         0.0%     38.528634",
      "text/html": "<div>\n<style scoped>\n    .dataframe tbody tr th:only-of-type {\n        vertical-align: middle;\n    }\n\n    .dataframe tbody tr th {\n        vertical-align: top;\n    }\n\n    .dataframe thead th {\n        text-align: right;\n    }\n</style>\n<table border=\"1\" class=\"dataframe\">\n  <thead>\n    <tr style=\"text-align: right;\">\n      <th></th>\n      <th>% Completion</th>\n      <th>Score</th>\n    </tr>\n  </thead>\n  <tbody>\n    <tr>\n      <th>GS-2018B-Q-115</th>\n      <td>55.6%</td>\n      <td>10387.803293</td>\n    </tr>\n    <tr>\n      <th>GS-2018B-Q-206</th>\n      <td>50.0%</td>\n      <td>9838.172664</td>\n    </tr>\n    <tr>\n      <th>GS-2018B-Q-223</th>\n      <td>25.0%</td>\n      <td>5018.470967</td>\n    </tr>\n    <tr>\n      <th>GN-2018B-Q-127</th>\n      <td>100.0%</td>\n      <td>23564.484695</td>\n    </tr>\n    <tr>\n      <th>GN-2018B-Q-104</th>\n      <td>0.0%</td>\n      <td>243.526152</td>\n    </tr>\n    <tr>\n      <th>GN-2018B-Q-903</th>\n      <td>100.0%</td>\n      <td>8311.952498</td>\n    </tr>\n    <tr>\n      <th>GN-2018B-Q-230</th>\n      <td>0.0%</td>\n      <td>6.186366</td>\n    </tr>\n    <tr>\n      <th>GN-2018B-Q-223</th>\n      <td>14.3%</td>\n      <td>14.435616</td>\n    </tr>\n    <tr>\n      <th>GN-2018B-Q-101</th>\n      <td>30.8%</td>\n      <td>1717.416393</td>\n    </tr>\n    <tr>\n      <th>GS-2018B-Q-105</th>\n      <td>5.9%</td>\n      <td>1208.905738</td>\n    </tr>\n    <tr>\n      <th>GN-2018B-Q-108</th>\n      <td>0.0%</td>\n      <td>23.321425</td>\n    </tr>\n    <tr>\n      <th>GN-2018B-Q-133</th>\n      <td>18.2%</td>\n      <td>309.535976</td>\n    </tr>\n    <tr>\n      <th>GS-2018B-Q-120</th>\n      <td>0.0%</td>\n      <td>123.964311</td>\n    </tr>\n    <tr>\n      <th>GN-2018B-Q-103</th>\n      <td>0.0%</td>\n      <td>38.528634</td>\n    </tr>\n  </tbody>\n</table>\n</div>"
     },
     "metadata": {},
     "output_type": "display_data"
    },
    {
     "name": "stdout",
     "output_type": "stream",
     "text": [
      "DONE\n"
     ]
    }
   ],
   "source": [
    "\n",
    "ObservatoryProperties.set_properties(GeminiProperties)\n",
    "\n",
    "# Read in a list of JSON data\n",
    "programs = read_ocs_zipfile(os.path.join(ROOT_DIR, 'scheduler', 'data', '2018B_program_samples.zip'));\n",
    "\n",
    "# Create the Collector and load the programs.\n",
    "collector_blueprint = CollectorBlueprint(\n",
    "    ['SCIENCE', 'PROGCAL', 'PARTNERCAL'],\n",
    "    ['Q', 'LP', 'FT', 'DD'],\n",
    "    1.0\n",
    ");\n",
    "\n",
    "\n",
    "start, end = set_dates()\n",
    "sites = set_sites()\n",
    "cc = set_cc()\n",
    "iq = set_iq()\n",
    "\n",
    "\n",
    "collector = SchedulerBuilder.build_collector(\n",
    "    start=Time(start, format='iso', scale='utc'),\n",
    "    end=Time(end, format='iso', scale='utc'),\n",
    "    sites=sites,\n",
    "    semesters=frozenset([Semester(2018, SemesterHalf.B)]),\n",
    "    blueprint=collector_blueprint\n",
    ")\n",
    "\n",
    "# Create the Collector and load the programs.\n",
    "collector.load_programs(program_provider_class=OcsProgramProvider,\n",
    "                        data=programs)\n",
    "\n",
    "print_collector_info(collector, samples=10)\n",
    "\n",
    "selector = SchedulerBuilder.build_selector(collector,\n",
    "                                           num_nights_to_schedule=3,\n",
    "                                           default_cc=cc,\n",
    "                                           default_iq=iq)\n",
    "\n",
    "# Prepare the optimizer.\n",
    "optimizer_blueprint = OptimizerBlueprint(\n",
    "    \"GreedyMax\"\n",
    ")\n",
    "optimizer = SchedulerBuilder.build_optimizer(\n",
    "    blueprint=optimizer_blueprint\n",
    ")\n",
    "\n",
    "# The total nights for which visibility calculations have been done.\n",
    "total_nights = len(collector.time_grid)\n",
    "\n",
    "# Create the overall plans by night.\n",
    "overall_plans = {}\n",
    "\n",
    "for night_idx in range(selector.num_nights_to_schedule):\n",
    "    # Get the night indices for which we are selecting.\n",
    "    # TODO: We will want scores for nights to look ahead for greedy optimization.\n",
    "    # TODO: For now, we use the entire period for which visibility calculations have been done.\n",
    "    # night_indices = range(night_idx, total_nights)\n",
    "    night_indices = np.array([night_idx])\n",
    "    # selection = selector.select(night_indices=np.array([0, 1, 2])\n",
    "    selection = selector.select(night_indices=night_indices)\n",
    "    pickle_selection(selection, out_dir.path, night_idx)\n",
    "    # Run the optimizer to get the plans for the first night in the selection.\n",
    "    # mr.Md(f'### GreedyMax Output for night {night_idx}')\n",
    "    plans = optimizer.schedule(selection)\n",
    "    night_plans = plans[0]\n",
    "\n",
    "    # Store the plans in the overall_plans array for that night.\n",
    "    # TODO: This might be an issue. We may need to index nights (plans) in optimizer by night_idx.\n",
    "    overall_plans[night_idx] = night_plans\n",
    "\n",
    "    # Perform the time accounting on the plans.\n",
    "    collector.time_accounting(night_plans)\n",
    "\n",
    "\n",
    "overall_plans = [p for _, p in sorted(overall_plans.items())]\n",
    "plan_summary = StatCalculator.calculate_plans_stats(overall_plans,collector)\n",
    "# print_plans(overall_plans)\n",
    "night_tables = plans_table(overall_plans)\n",
    "pickle_plans(night_tables, out_dir.path, start,end)\n",
    "for n_idx, table_per_site in enumerate(night_tables):\n",
    "    mr.Md(f\"## Night Idx: {n_idx+1} \")\n",
    "    for site in sites:\n",
    "        mr.Md(f\"### Site: {site.value[0]} \")\n",
    "        display(table_per_site[site])\n",
    "mr.Md('## Program Completion')\n",
    "df_pcompl = pd.DataFrame(plan_summary).T.rename(columns={0:\"% Completion\",1:\"Score\"})\n",
    "display(df_pcompl)\n",
    "\n",
    "print('DONE')\n"
   ]
  },
  {
   "cell_type": "code",
   "execution_count": 12,
   "outputs": [],
   "source": [],
   "metadata": {
    "collapsed": false,
    "ExecuteTime": {
     "end_time": "2023-08-08T00:26:56.485490Z",
     "start_time": "2023-08-08T00:26:56.380782Z"
    }
   }
  }
 ],
 "metadata": {
  "kernelspec": {
   "display_name": "scheduler-env",
   "language": "python",
   "name": "python3"
  },
  "language_info": {
   "codemirror_mode": {
    "name": "ipython",
    "version": 3
   },
   "file_extension": ".py",
   "mimetype": "text/x-python",
   "name": "python",
   "nbconvert_exporter": "python",
   "pygments_lexer": "ipython3",
   "version": "3.10.11"
  },
  "orig_nbformat": 4
 },
 "nbformat": 4,
 "nbformat_minor": 2
}
