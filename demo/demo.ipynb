{
 "cells": [
  {
   "cell_type": "code",
   "execution_count": 1,
   "metadata": {
    "ExecuteTime": {
     "end_time": "2023-08-24T19:40:54.907731Z",
     "start_time": "2023-08-24T19:40:54.856497Z"
    }
   },
   "outputs": [],
   "source": [
    "import sys\n",
    "import os\n",
    "cwd = os.getcwd().replace('/demo', '')\n",
    "sys.path.insert(0, cwd)"
   ]
  },
  {
   "cell_type": "code",
   "execution_count": 2,
   "metadata": {
    "ExecuteTime": {
     "end_time": "2023-08-24T19:41:06.512964Z",
     "start_time": "2023-08-24T19:40:54.868614Z"
    }
   },
   "outputs": [],
   "source": [
    "%%capture\n",
    "import mercury as mr\n",
    "import pandas as pd\n",
    "from IPython.display import display\n",
    "\n",
    "from lucupy.minimodel.constraints import CloudCover, ImageQuality\n",
    "from lucupy.minimodel.site import ALL_SITES, Site\n",
    "from lucupy.minimodel.semester import SemesterHalf\n",
    "from lucupy.observatory.abstract import ObservatoryProperties\n",
    "from lucupy.observatory.gemini import GeminiProperties\n",
    "\n",
    "from definitions import ROOT_DIR\n",
    "from scheduler.core.builder.blueprint import CollectorBlueprint, OptimizerBlueprint\n",
    "from scheduler.core.builder.builder import SchedulerBuilder\n",
    "from scheduler.core.components.collector import *\n",
    "from scheduler.core.output import (print_collector_info, plans_table, pickle_plans, pickle_selection)\n",
    "from scheduler.core.programprovider.ocs import read_ocs_zipfile, OcsProgramProvider\n",
    "from scheduler.core.statscalculator import StatCalculator\n"
   ]
  },
  {
   "cell_type": "code",
   "execution_count": 3,
   "metadata": {
    "ExecuteTime": {
     "end_time": "2023-08-24T19:41:06.721722Z",
     "start_time": "2023-08-24T19:41:06.514374Z"
    }
   },
   "outputs": [
    {
     "data": {
      "text/plain": "mercury.App",
      "text/html": "<h3>Mercury Application</h3><small>This output won't appear in the web app.</small>",
      "application/mercury+json": "{\n    \"widget\": \"App\",\n    \"title\": \"Scheduler Validate Test\",\n    \"description\": \"Try the Validation mode for the Scheduler\",\n    \"show_code\": false,\n    \"show_prompt\": true,\n    \"output\": \"app\",\n    \"schedule\": \"\",\n    \"notify\": \"{}\",\n    \"continuous_update\": false,\n    \"static_notebook\": false,\n    \"show_sidebar\": true,\n    \"full_screen\": true,\n    \"allow_download\": true,\n    \"model_id\": \"mercury-app\",\n    \"code_uid\": \"App.0.40.24.2-rand6d003595\"\n}"
     },
     "metadata": {},
     "output_type": "display_data"
    }
   ],
   "source": [
    "# set Application parameters\n",
    "app = mr.App(title=\"Scheduler Validate Test\",\n",
    "        description=\"Try the Validation mode for the Scheduler\",\n",
    "        show_code=False,\n",
    "        show_prompt=True,\n",
    "        continuous_update=False,\n",
    "        static_notebook=False,\n",
    "        show_sidebar=True,\n",
    "        full_screen=True,\n",
    "        allow_download=True)"
   ]
  },
  {
   "cell_type": "code",
   "execution_count": 4,
   "metadata": {
    "ExecuteTime": {
     "end_time": "2023-08-24T19:41:06.754149Z",
     "start_time": "2023-08-24T19:41:06.717332Z"
    }
   },
   "outputs": [
    {
     "data": {
      "application/mercury+json": "{\n    \"widget\": \"OutputDir\",\n    \"model_id\": \"output-dir\",\n    \"code_uid\": \"OutputDir.0.40.18.1-rand7c474407\"\n}",
      "text/html": "<h3>Output Directory</h3><small>This output won't appear in the web app.</small>",
      "text/plain": "mercury.OutputDir"
     },
     "metadata": {},
     "output_type": "display_data"
    },
    {
     "name": "stdout",
     "output_type": "stream",
     "text": [
      "Output directory path: .\n"
     ]
    }
   ],
   "source": [
    "out_dir = mr.OutputDir()\n",
    "print(f\"Output directory path: {out_dir.path}\")"
   ]
  },
  {
   "cell_type": "code",
   "execution_count": 5,
   "metadata": {
    "ExecuteTime": {
     "end_time": "2023-08-24T19:41:06.766419Z",
     "start_time": "2023-08-24T19:41:06.760982Z"
    }
   },
   "outputs": [],
   "source": [
    "def set_dates():\n",
    "\n",
    "  start_date = mr.Text(value=\"2018-10-01\", label=\"Start Date\", rows=1)\n",
    "  start_time = mr.Text(value=\"08:00:00\", label=\"Start Time\", rows=1)\n",
    "  end_date = mr.Text(value=\"2018-10-03\", label=\"End Date\", rows=1)\n",
    "  end_time = mr.Text(value=\"08:00:00\", label=\"End Time\", rows=1)\n",
    "  return f'{start_date.value} {start_time.value}', f'{end_date.value} {end_time.value}'\n",
    "\n",
    "def set_sites():\n",
    "    selected = mr.MultiSelect(label=\"Sites\", \n",
    "                              value=[\"GS\", \"GN\"], \n",
    "                              choices=[\"GS\", \"GN\"])\n",
    "    if selected.value:\n",
    "      if 'GS' in selected.value and 'GN' in selected.value:\n",
    "         return ALL_SITES\n",
    "      else:\n",
    "         return frozenset({Site[selected.value[0]]})\n",
    "    return ALL_SITES # HOW TO HANDLE ERRORS? \n",
    "\n",
    "def set_cc():\n",
    "    selected = mr.Select(label='Cloud Cover',\n",
    "                         value='CC50',\n",
    "                         choices=['CC50', 'CC70', 'CC80', 'CCANY'])\n",
    "    if selected.value:\n",
    "        return CloudCover[selected.value]\n",
    "    else:\n",
    "        return CloudCover.CC50\n",
    "    \n",
    "def set_iq():\n",
    "    selected = mr.Select(label='Image Quality',\n",
    "                         value='IQ70',\n",
    "                         choices=['IQ20', 'IQ70', 'IQ85', 'IQANY'])\n",
    "    if selected.value:\n",
    "        return ImageQuality[selected.value]\n",
    "    else:\n",
    "        return ImageQuality.IQ70\n"
   ]
  },
  {
   "cell_type": "markdown",
   "metadata": {},
   "source": [
    "## SCHEDULER \n",
    "\n",
    "It does take a while to load everything. When the run button is enable the Scheduler is ready to work. The initial values shown are the default parameters displayed in the sidebar."
   ]
  },
  {
   "cell_type": "code",
   "execution_count": 6,
   "metadata": {
    "ExecuteTime": {
     "end_time": "2023-08-24T19:41:35.312090Z",
     "start_time": "2023-08-24T19:41:06.778512Z"
    }
   },
   "outputs": [
    {
     "data": {
      "application/vnd.jupyter.widget-view+json": {
       "version_major": 2,
       "version_minor": 0,
       "model_id": "e7e855b94483453e8e031be6d3a3a1aa"
      },
      "application/mercury+json": "{\n    \"widget\": \"Text\",\n    \"value\": \"2018-10-01\",\n    \"rows\": 1,\n    \"label\": \"Start Date\",\n    \"model_id\": \"e7e855b94483453e8e031be6d3a3a1aa\",\n    \"code_uid\": \"Text.0.40.15.3.14-randd93d6f81\",\n    \"url_key\": \"\",\n    \"disabled\": false,\n    \"hidden\": false\n}",
      "text/plain": "mercury.Text"
     },
     "metadata": {},
     "output_type": "display_data"
    },
    {
     "data": {
      "application/vnd.jupyter.widget-view+json": {
       "version_major": 2,
       "version_minor": 0,
       "model_id": "9a5119564a774cc7b37cd99ab4b7fc76"
      },
      "application/mercury+json": "{\n    \"widget\": \"Text\",\n    \"value\": \"08:00:00\",\n    \"rows\": 1,\n    \"label\": \"Start Time\",\n    \"model_id\": \"9a5119564a774cc7b37cd99ab4b7fc76\",\n    \"code_uid\": \"Text.0.40.15.4.14-rand4a58a315\",\n    \"url_key\": \"\",\n    \"disabled\": false,\n    \"hidden\": false\n}",
      "text/plain": "mercury.Text"
     },
     "metadata": {},
     "output_type": "display_data"
    },
    {
     "data": {
      "application/vnd.jupyter.widget-view+json": {
       "version_major": 2,
       "version_minor": 0,
       "model_id": "c7157573c0ec4a94b223a5b6f9b900fa"
      },
      "application/mercury+json": "{\n    \"widget\": \"Text\",\n    \"value\": \"2018-10-03\",\n    \"rows\": 1,\n    \"label\": \"End Date\",\n    \"model_id\": \"c7157573c0ec4a94b223a5b6f9b900fa\",\n    \"code_uid\": \"Text.0.40.15.5.14-rand97cddafe\",\n    \"url_key\": \"\",\n    \"disabled\": false,\n    \"hidden\": false\n}",
      "text/plain": "mercury.Text"
     },
     "metadata": {},
     "output_type": "display_data"
    },
    {
     "data": {
      "application/vnd.jupyter.widget-view+json": {
       "version_major": 2,
       "version_minor": 0,
       "model_id": "08a73c7831b74ea1b2a626c1b39915d9"
      },
      "application/mercury+json": "{\n    \"widget\": \"Text\",\n    \"value\": \"08:00:00\",\n    \"rows\": 1,\n    \"label\": \"End Time\",\n    \"model_id\": \"08a73c7831b74ea1b2a626c1b39915d9\",\n    \"code_uid\": \"Text.0.40.15.6.14-rand4a8326e8\",\n    \"url_key\": \"\",\n    \"disabled\": false,\n    \"hidden\": false\n}",
      "text/plain": "mercury.Text"
     },
     "metadata": {},
     "output_type": "display_data"
    },
    {
     "data": {
      "application/vnd.jupyter.widget-view+json": {
       "version_major": 2,
       "version_minor": 0,
       "model_id": "75e2e1fabc3d4f83817573b3937d222e"
      },
      "application/mercury+json": "{\n    \"widget\": \"MultiSelect\",\n    \"value\": [\n        \"GS\",\n        \"GN\"\n    ],\n    \"choices\": [\n        \"GS\",\n        \"GN\"\n    ],\n    \"label\": \"Sites\",\n    \"model_id\": \"75e2e1fabc3d4f83817573b3937d222e\",\n    \"code_uid\": \"MultiSelect.0.40.16.10.15-rand55dbef16\",\n    \"url_key\": \"\",\n    \"disabled\": false,\n    \"hidden\": false\n}",
      "text/plain": "mercury.MultiSelect"
     },
     "metadata": {},
     "output_type": "display_data"
    },
    {
     "data": {
      "application/vnd.jupyter.widget-view+json": {
       "version_major": 2,
       "version_minor": 0,
       "model_id": "e2aa8c0d8eb8499d921032b5cebf1570"
      },
      "application/mercury+json": "{\n    \"widget\": \"Select\",\n    \"value\": \"CC50\",\n    \"choices\": [\n        \"CC50\",\n        \"CC70\",\n        \"CC80\",\n        \"CCANY\"\n    ],\n    \"label\": \"Cloud Cover\",\n    \"model_id\": \"e2aa8c0d8eb8499d921032b5cebf1570\",\n    \"code_uid\": \"Select.0.40.16.21.16-rand1ae7bb4b\",\n    \"url_key\": \"\",\n    \"disabled\": false,\n    \"hidden\": false\n}",
      "text/plain": "mercury.Select"
     },
     "metadata": {},
     "output_type": "display_data"
    },
    {
     "data": {
      "application/vnd.jupyter.widget-view+json": {
       "version_major": 2,
       "version_minor": 0,
       "model_id": "10ec69e57c044ede9d323a95ba378f41"
      },
      "application/mercury+json": "{\n    \"widget\": \"Select\",\n    \"value\": \"IQ70\",\n    \"choices\": [\n        \"IQ20\",\n        \"IQ70\",\n        \"IQ85\",\n        \"IQANY\"\n    ],\n    \"label\": \"Image Quality\",\n    \"model_id\": \"10ec69e57c044ede9d323a95ba378f41\",\n    \"code_uid\": \"Select.0.40.16.30.17-rand776cdd1e\",\n    \"url_key\": \"\",\n    \"disabled\": false,\n    \"hidden\": false\n}",
      "text/plain": "mercury.Select"
     },
     "metadata": {},
     "output_type": "display_data"
    },
    {
     "name": "stdout",
     "output_type": "stream",
     "text": [
      "Pre-Collector / Collector running from:\n",
      "   start time:       2018-10-01 08:00:00.000\n",
      "   end time:         2018-10-03 08:00:00.000\n",
      "   time slot length: 1.0 min\n",
      "\n",
      "\n",
      "+++++ NIGHT EVENTS FOR GN +++++\n",
      "* DAY 0: 2018-09-30 19:59:00.000017-09:00 to 2018-10-01 06:24:59.999991-09:00, 627 time slots.\n",
      "\tmidnight:         2018-10-01 09:00:00\n",
      "\tsunset:           2018-10-01 04:19:43.031\n",
      "\tsunrise:          2018-10-01 16:03:41.092\n",
      "\t12° eve twilight: 2018-10-01 04:58:06.957\n",
      "\t12° mor twilight: 2018-10-01 15:25:15.286\n",
      "\tmoonrise:         2018-10-01 08:39:18.887\n",
      "\tmoonset:          2018-09-30 21:31:49.933\n",
      "* DAY 1: 2018-10-01 19:57:59.999980-09:00 to 2018-10-02 06:24:59.999991-09:00, 628 time slots.\n",
      "\tmidnight:         2018-10-02 09:00:00\n",
      "\tsunset:           2018-10-02 04:18:50.410\n",
      "\tsunrise:          2018-10-02 16:03:55.278\n",
      "\t12° eve twilight: 2018-10-02 04:57:14.601\n",
      "\t12° mor twilight: 2018-10-02 15:25:29.158\n",
      "\tmoonrise:         2018-10-02 09:35:27.368\n",
      "\tmoonset:          2018-10-01 22:31:17.931\n",
      "* DAY 2: 2018-10-02 19:56:59.999984-09:00 to 2018-10-03 06:24:59.999991-09:00, 629 time slots.\n",
      "\tmidnight:         2018-10-03 09:00:00\n",
      "\tsunset:           2018-10-03 04:17:58.161\n",
      "\tsunrise:          2018-10-03 16:04:09.713\n",
      "\t12° eve twilight: 2018-10-03 04:56:22.739\n",
      "\t12° mor twilight: 2018-10-03 15:25:43.156\n",
      "\tmoonrise:         2018-10-03 10:35:13.150\n",
      "\tmoonset:          2018-10-02 23:29:55.909\n",
      "\n",
      "\n",
      "+++++ NIGHT EVENTS FOR GS +++++\n",
      "* DAY 0: 2018-09-30 20:36:00.000005-03:00 to 2018-10-01 06:29:00.000017-03:00, 594 time slots.\n",
      "\tmidnight:         2018-10-01 03:00:00\n",
      "\tsunset:           2018-09-30 22:51:51.313\n",
      "\tsunrise:          2018-10-01 10:13:08.138\n",
      "\t12° eve twilight: 2018-09-30 23:35:59.594\n",
      "\t12° mor twilight: 2018-10-01 09:29:01.995\n",
      "\tmoonrise:         2018-10-01 04:10:15.720\n",
      "\tmoonset:          2018-10-01 15:12:31.872\n",
      "* DAY 1: 2018-10-01 20:37:00.000002-03:00 to 2018-10-02 06:26:59.999984-03:00, 591 time slots.\n",
      "\tmidnight:         2018-10-02 03:00:00\n",
      "\tsunset:           2018-10-01 22:52:26.854\n",
      "\tsunrise:          2018-10-02 10:11:54.093\n",
      "\t12° eve twilight: 2018-10-01 23:36:38.176\n",
      "\t12° mor twilight: 2018-10-02 09:27:44.847\n",
      "\tmoonrise:         2018-10-02 05:10:48.546\n",
      "\tmoonset:          2018-10-01 15:12:32.555\n",
      "* DAY 2: 2018-10-02 20:37:59.999998-03:00 to 2018-10-03 06:25:59.999987-03:00, 589 time slots.\n",
      "\tmidnight:         2018-10-03 03:00:00\n",
      "\tsunset:           2018-10-02 22:53:02.704\n",
      "\tsunrise:          2018-10-03 10:10:40.358\n",
      "\t12° eve twilight: 2018-10-02 23:37:17.240\n",
      "\t12° mor twilight: 2018-10-03 09:26:27.834\n",
      "\tmoonrise:         2018-10-03 06:08:46.669\n",
      "\tmoonset:          2018-10-02 16:09:09.475\n"
     ]
    },
    {
     "data": {
      "text/plain": "<IPython.core.display.Markdown object>",
      "text/markdown": "## Night Idx: 1 "
     },
     "metadata": {},
     "output_type": "display_data"
    },
    {
     "data": {
      "text/plain": "<IPython.core.display.Markdown object>",
      "text/markdown": "### Site: Gemini North "
     },
     "metadata": {},
     "output_type": "display_data"
    },
    {
     "data": {
      "text/plain": "                              Start          Observation  Atom start  \\\n0  2018-09-30 20:16:00.000017-09:00    GN-2018B-Q-230-11           0   \n1  2018-09-30 23:54:00.000017-09:00     GN-2018B-Q-104-7           0   \n2  2018-10-01 00:52:00.000017-09:00     GN-2018B-Q-903-8           0   \n3  2018-10-01 01:15:00.000017-09:00     GN-2018B-Q-230-7           0   \n4  2018-10-01 01:52:00.000017-09:00  GN-2018B-Q-101-1445           0   \n5  2018-10-01 02:10:00.000017-09:00  GN-2018B-Q-101-1386           0   \n6  2018-10-01 03:12:00.000017-09:00  GN-2018B-Q-101-1405           0   \n7  2018-10-01 03:30:00.000017-09:00  GN-2018B-Q-101-1316           0   \n8  2018-10-01 04:32:00.000017-09:00  GN-2018B-Q-101-1449           0   \n9  2018-10-01 04:50:00.000017-09:00  GN-2018B-Q-101-1393           0   \n10 2018-10-01 05:52:00.000017-09:00    GN-2018B-Q-133-18           0   \n11 2018-10-01 06:09:00.000017-09:00    GN-2018B-Q-133-76           0   \n\n    Atom end  Length        Score Instrument  \n0         14     233  4376.426604     GMOS-N  \n1          6      59   243.526152     GMOS-N  \n2          3      23    17.871510     GMOS-N  \n3          3      22     9.106515     GMOS-N  \n4          3      18    34.740559      GNIRS  \n5          1      62   135.073603      GNIRS  \n6          3      18    42.012185      GNIRS  \n7          1      62   152.141703      GNIRS  \n8          3      18    46.034805      GNIRS  \n9          1      62   162.025379      GNIRS  \n10         3      17    47.283132      GNIRS  \n11         3      17    53.196136      GNIRS  ",
      "text/html": "<div>\n<style scoped>\n    .dataframe tbody tr th:only-of-type {\n        vertical-align: middle;\n    }\n\n    .dataframe tbody tr th {\n        vertical-align: top;\n    }\n\n    .dataframe thead th {\n        text-align: right;\n    }\n</style>\n<table border=\"1\" class=\"dataframe\">\n  <thead>\n    <tr style=\"text-align: right;\">\n      <th></th>\n      <th>Start</th>\n      <th>Observation</th>\n      <th>Atom start</th>\n      <th>Atom end</th>\n      <th>Length</th>\n      <th>Score</th>\n      <th>Instrument</th>\n    </tr>\n  </thead>\n  <tbody>\n    <tr>\n      <th>0</th>\n      <td>2018-09-30 20:16:00.000017-09:00</td>\n      <td>GN-2018B-Q-230-11</td>\n      <td>0</td>\n      <td>14</td>\n      <td>233</td>\n      <td>4376.426604</td>\n      <td>GMOS-N</td>\n    </tr>\n    <tr>\n      <th>1</th>\n      <td>2018-09-30 23:54:00.000017-09:00</td>\n      <td>GN-2018B-Q-104-7</td>\n      <td>0</td>\n      <td>6</td>\n      <td>59</td>\n      <td>243.526152</td>\n      <td>GMOS-N</td>\n    </tr>\n    <tr>\n      <th>2</th>\n      <td>2018-10-01 00:52:00.000017-09:00</td>\n      <td>GN-2018B-Q-903-8</td>\n      <td>0</td>\n      <td>3</td>\n      <td>23</td>\n      <td>17.871510</td>\n      <td>GMOS-N</td>\n    </tr>\n    <tr>\n      <th>3</th>\n      <td>2018-10-01 01:15:00.000017-09:00</td>\n      <td>GN-2018B-Q-230-7</td>\n      <td>0</td>\n      <td>3</td>\n      <td>22</td>\n      <td>9.106515</td>\n      <td>GMOS-N</td>\n    </tr>\n    <tr>\n      <th>4</th>\n      <td>2018-10-01 01:52:00.000017-09:00</td>\n      <td>GN-2018B-Q-101-1445</td>\n      <td>0</td>\n      <td>3</td>\n      <td>18</td>\n      <td>34.740559</td>\n      <td>GNIRS</td>\n    </tr>\n    <tr>\n      <th>5</th>\n      <td>2018-10-01 02:10:00.000017-09:00</td>\n      <td>GN-2018B-Q-101-1386</td>\n      <td>0</td>\n      <td>1</td>\n      <td>62</td>\n      <td>135.073603</td>\n      <td>GNIRS</td>\n    </tr>\n    <tr>\n      <th>6</th>\n      <td>2018-10-01 03:12:00.000017-09:00</td>\n      <td>GN-2018B-Q-101-1405</td>\n      <td>0</td>\n      <td>3</td>\n      <td>18</td>\n      <td>42.012185</td>\n      <td>GNIRS</td>\n    </tr>\n    <tr>\n      <th>7</th>\n      <td>2018-10-01 03:30:00.000017-09:00</td>\n      <td>GN-2018B-Q-101-1316</td>\n      <td>0</td>\n      <td>1</td>\n      <td>62</td>\n      <td>152.141703</td>\n      <td>GNIRS</td>\n    </tr>\n    <tr>\n      <th>8</th>\n      <td>2018-10-01 04:32:00.000017-09:00</td>\n      <td>GN-2018B-Q-101-1449</td>\n      <td>0</td>\n      <td>3</td>\n      <td>18</td>\n      <td>46.034805</td>\n      <td>GNIRS</td>\n    </tr>\n    <tr>\n      <th>9</th>\n      <td>2018-10-01 04:50:00.000017-09:00</td>\n      <td>GN-2018B-Q-101-1393</td>\n      <td>0</td>\n      <td>1</td>\n      <td>62</td>\n      <td>162.025379</td>\n      <td>GNIRS</td>\n    </tr>\n    <tr>\n      <th>10</th>\n      <td>2018-10-01 05:52:00.000017-09:00</td>\n      <td>GN-2018B-Q-133-18</td>\n      <td>0</td>\n      <td>3</td>\n      <td>17</td>\n      <td>47.283132</td>\n      <td>GNIRS</td>\n    </tr>\n    <tr>\n      <th>11</th>\n      <td>2018-10-01 06:09:00.000017-09:00</td>\n      <td>GN-2018B-Q-133-76</td>\n      <td>0</td>\n      <td>3</td>\n      <td>17</td>\n      <td>53.196136</td>\n      <td>GNIRS</td>\n    </tr>\n  </tbody>\n</table>\n</div>"
     },
     "metadata": {},
     "output_type": "display_data"
    },
    {
     "data": {
      "text/plain": "<IPython.core.display.Markdown object>",
      "text/markdown": "Time loss: 16 min"
     },
     "metadata": {},
     "output_type": "display_data"
    },
    {
     "data": {
      "text/plain": "<IPython.core.display.Markdown object>",
      "text/markdown": "Plan_Score: 5319.4382823763"
     },
     "metadata": {},
     "output_type": "display_data"
    },
    {
     "data": {
      "text/plain": "<IPython.core.display.Markdown object>",
      "text/markdown": "Number of ToOs: 0"
     },
     "metadata": {},
     "output_type": "display_data"
    },
    {
     "data": {
      "text/plain": "<IPython.core.display.Markdown object>",
      "text/markdown": "Schedule Observations by band"
     },
     "metadata": {},
     "output_type": "display_data"
    },
    {
     "name": "stdout",
     "output_type": "stream",
     "text": [
      "Band 1\t\t10\n",
      "Band 2\t\t2\n",
      "Band 3\t\t0\n",
      "Band 4\t\t0\n"
     ]
    },
    {
     "data": {
      "text/plain": "<IPython.core.display.Markdown object>",
      "text/markdown": "---"
     },
     "metadata": {},
     "output_type": "display_data"
    },
    {
     "data": {
      "text/plain": "<IPython.core.display.Markdown object>",
      "text/markdown": "### Site: Gemini South "
     },
     "metadata": {},
     "output_type": "display_data"
    },
    {
     "data": {
      "text/plain": "                             Start        Observation  Atom start  Atom end  \\\n0 2018-09-30 20:36:00.000005-03:00  GS-2018B-Q-223-30           0       173   \n1 2018-09-30 22:34:00.000005-03:00  GS-2018B-Q-104-21           0         1   \n2 2018-09-30 23:40:00.000005-03:00  GS-2018B-Q-105-92           0         1   \n3 2018-10-01 00:05:00.000005-03:00  GS-2018B-Q-223-18           0       295   \n4 2018-10-01 04:11:00.000005-03:00  GS-2018B-Q-102-34           0         6   \n5 2018-10-01 05:48:00.000005-03:00  GS-2018B-Q-223-31           0        55   \n\n   Length        Score  Instrument  \n0     119   605.880688  Flamingos2  \n1      66   403.369549      GMOS-S  \n2      22    24.273763      GMOS-S  \n3     247  1060.821475  Flamingos2  \n4      97   643.953526  Flamingos2  \n5      43   834.144459  Flamingos2  ",
      "text/html": "<div>\n<style scoped>\n    .dataframe tbody tr th:only-of-type {\n        vertical-align: middle;\n    }\n\n    .dataframe tbody tr th {\n        vertical-align: top;\n    }\n\n    .dataframe thead th {\n        text-align: right;\n    }\n</style>\n<table border=\"1\" class=\"dataframe\">\n  <thead>\n    <tr style=\"text-align: right;\">\n      <th></th>\n      <th>Start</th>\n      <th>Observation</th>\n      <th>Atom start</th>\n      <th>Atom end</th>\n      <th>Length</th>\n      <th>Score</th>\n      <th>Instrument</th>\n    </tr>\n  </thead>\n  <tbody>\n    <tr>\n      <th>0</th>\n      <td>2018-09-30 20:36:00.000005-03:00</td>\n      <td>GS-2018B-Q-223-30</td>\n      <td>0</td>\n      <td>173</td>\n      <td>119</td>\n      <td>605.880688</td>\n      <td>Flamingos2</td>\n    </tr>\n    <tr>\n      <th>1</th>\n      <td>2018-09-30 22:34:00.000005-03:00</td>\n      <td>GS-2018B-Q-104-21</td>\n      <td>0</td>\n      <td>1</td>\n      <td>66</td>\n      <td>403.369549</td>\n      <td>GMOS-S</td>\n    </tr>\n    <tr>\n      <th>2</th>\n      <td>2018-09-30 23:40:00.000005-03:00</td>\n      <td>GS-2018B-Q-105-92</td>\n      <td>0</td>\n      <td>1</td>\n      <td>22</td>\n      <td>24.273763</td>\n      <td>GMOS-S</td>\n    </tr>\n    <tr>\n      <th>3</th>\n      <td>2018-10-01 00:05:00.000005-03:00</td>\n      <td>GS-2018B-Q-223-18</td>\n      <td>0</td>\n      <td>295</td>\n      <td>247</td>\n      <td>1060.821475</td>\n      <td>Flamingos2</td>\n    </tr>\n    <tr>\n      <th>4</th>\n      <td>2018-10-01 04:11:00.000005-03:00</td>\n      <td>GS-2018B-Q-102-34</td>\n      <td>0</td>\n      <td>6</td>\n      <td>97</td>\n      <td>643.953526</td>\n      <td>Flamingos2</td>\n    </tr>\n    <tr>\n      <th>5</th>\n      <td>2018-10-01 05:48:00.000005-03:00</td>\n      <td>GS-2018B-Q-223-31</td>\n      <td>0</td>\n      <td>55</td>\n      <td>43</td>\n      <td>834.144459</td>\n      <td>Flamingos2</td>\n    </tr>\n  </tbody>\n</table>\n</div>"
     },
     "metadata": {},
     "output_type": "display_data"
    },
    {
     "data": {
      "text/plain": "<IPython.core.display.Markdown object>",
      "text/markdown": "Time loss: 0 min"
     },
     "metadata": {},
     "output_type": "display_data"
    },
    {
     "data": {
      "text/plain": "<IPython.core.display.Markdown object>",
      "text/markdown": "Plan_Score: 3572.443459510816"
     },
     "metadata": {},
     "output_type": "display_data"
    },
    {
     "data": {
      "text/plain": "<IPython.core.display.Markdown object>",
      "text/markdown": "Number of ToOs: 0"
     },
     "metadata": {},
     "output_type": "display_data"
    },
    {
     "data": {
      "text/plain": "<IPython.core.display.Markdown object>",
      "text/markdown": "Schedule Observations by band"
     },
     "metadata": {},
     "output_type": "display_data"
    },
    {
     "name": "stdout",
     "output_type": "stream",
     "text": [
      "Band 1\t\t3\n",
      "Band 2\t\t3\n",
      "Band 3\t\t0\n",
      "Band 4\t\t0\n"
     ]
    },
    {
     "data": {
      "text/plain": "<IPython.core.display.Markdown object>",
      "text/markdown": "---"
     },
     "metadata": {},
     "output_type": "display_data"
    },
    {
     "data": {
      "text/plain": "<IPython.core.display.Markdown object>",
      "text/markdown": "## Night Idx: 2 "
     },
     "metadata": {},
     "output_type": "display_data"
    },
    {
     "data": {
      "text/plain": "<IPython.core.display.Markdown object>",
      "text/markdown": "### Site: Gemini North "
     },
     "metadata": {},
     "output_type": "display_data"
    },
    {
     "data": {
      "text/plain": "                              Start          Observation  Atom start  \\\n0  2018-10-01 20:03:59.999980-09:00     GN-2018B-Q-108-5           0   \n1  2018-10-01 20:23:59.999980-09:00    GN-2018B-Q-230-11          15   \n2  2018-10-02 00:59:59.999980-09:00     GN-2018B-Q-103-7           0   \n3  2018-10-02 01:28:59.999980-09:00  GN-2018B-Q-101-1447           0   \n4  2018-10-02 01:47:59.999980-09:00  GN-2018B-Q-101-1407           0   \n5  2018-10-02 02:06:59.999980-09:00  GN-2018B-Q-101-1421           0   \n6  2018-10-02 02:24:59.999980-09:00  GN-2018B-Q-101-1344           0   \n7  2018-10-02 03:26:59.999980-09:00  GN-2018B-Q-101-1433           0   \n8  2018-10-02 03:44:59.999980-09:00  GN-2018B-Q-101-1478           0   \n9  2018-10-02 04:48:59.999980-09:00  GN-2018B-Q-101-1443           0   \n10 2018-10-02 05:07:59.999980-09:00  GN-2018B-Q-101-1379           0   \n11 2018-10-02 06:08:59.999980-09:00    GN-2018B-Q-133-83           0   \n\n    Atom end  Length        Score Instrument  \n0          0      20    23.602973     GMOS-N  \n1         32     276  7575.644348     GMOS-N  \n2          0      18    18.085606     GMOS-N  \n3          3      19    25.894635      GNIRS  \n4          3      19    28.669140      GNIRS  \n5          3      18    71.204299      GNIRS  \n6          1      62   269.975450      GNIRS  \n7          3      18    76.340835      GNIRS  \n8          1      62   272.461223      GNIRS  \n9          3      19    78.040495      GNIRS  \n10         1      62   250.891891      GNIRS  \n11         3      17    80.553161      GNIRS  ",
      "text/html": "<div>\n<style scoped>\n    .dataframe tbody tr th:only-of-type {\n        vertical-align: middle;\n    }\n\n    .dataframe tbody tr th {\n        vertical-align: top;\n    }\n\n    .dataframe thead th {\n        text-align: right;\n    }\n</style>\n<table border=\"1\" class=\"dataframe\">\n  <thead>\n    <tr style=\"text-align: right;\">\n      <th></th>\n      <th>Start</th>\n      <th>Observation</th>\n      <th>Atom start</th>\n      <th>Atom end</th>\n      <th>Length</th>\n      <th>Score</th>\n      <th>Instrument</th>\n    </tr>\n  </thead>\n  <tbody>\n    <tr>\n      <th>0</th>\n      <td>2018-10-01 20:03:59.999980-09:00</td>\n      <td>GN-2018B-Q-108-5</td>\n      <td>0</td>\n      <td>0</td>\n      <td>20</td>\n      <td>23.602973</td>\n      <td>GMOS-N</td>\n    </tr>\n    <tr>\n      <th>1</th>\n      <td>2018-10-01 20:23:59.999980-09:00</td>\n      <td>GN-2018B-Q-230-11</td>\n      <td>15</td>\n      <td>32</td>\n      <td>276</td>\n      <td>7575.644348</td>\n      <td>GMOS-N</td>\n    </tr>\n    <tr>\n      <th>2</th>\n      <td>2018-10-02 00:59:59.999980-09:00</td>\n      <td>GN-2018B-Q-103-7</td>\n      <td>0</td>\n      <td>0</td>\n      <td>18</td>\n      <td>18.085606</td>\n      <td>GMOS-N</td>\n    </tr>\n    <tr>\n      <th>3</th>\n      <td>2018-10-02 01:28:59.999980-09:00</td>\n      <td>GN-2018B-Q-101-1447</td>\n      <td>0</td>\n      <td>3</td>\n      <td>19</td>\n      <td>25.894635</td>\n      <td>GNIRS</td>\n    </tr>\n    <tr>\n      <th>4</th>\n      <td>2018-10-02 01:47:59.999980-09:00</td>\n      <td>GN-2018B-Q-101-1407</td>\n      <td>0</td>\n      <td>3</td>\n      <td>19</td>\n      <td>28.669140</td>\n      <td>GNIRS</td>\n    </tr>\n    <tr>\n      <th>5</th>\n      <td>2018-10-02 02:06:59.999980-09:00</td>\n      <td>GN-2018B-Q-101-1421</td>\n      <td>0</td>\n      <td>3</td>\n      <td>18</td>\n      <td>71.204299</td>\n      <td>GNIRS</td>\n    </tr>\n    <tr>\n      <th>6</th>\n      <td>2018-10-02 02:24:59.999980-09:00</td>\n      <td>GN-2018B-Q-101-1344</td>\n      <td>0</td>\n      <td>1</td>\n      <td>62</td>\n      <td>269.975450</td>\n      <td>GNIRS</td>\n    </tr>\n    <tr>\n      <th>7</th>\n      <td>2018-10-02 03:26:59.999980-09:00</td>\n      <td>GN-2018B-Q-101-1433</td>\n      <td>0</td>\n      <td>3</td>\n      <td>18</td>\n      <td>76.340835</td>\n      <td>GNIRS</td>\n    </tr>\n    <tr>\n      <th>8</th>\n      <td>2018-10-02 03:44:59.999980-09:00</td>\n      <td>GN-2018B-Q-101-1478</td>\n      <td>0</td>\n      <td>1</td>\n      <td>62</td>\n      <td>272.461223</td>\n      <td>GNIRS</td>\n    </tr>\n    <tr>\n      <th>9</th>\n      <td>2018-10-02 04:48:59.999980-09:00</td>\n      <td>GN-2018B-Q-101-1443</td>\n      <td>0</td>\n      <td>3</td>\n      <td>19</td>\n      <td>78.040495</td>\n      <td>GNIRS</td>\n    </tr>\n    <tr>\n      <th>10</th>\n      <td>2018-10-02 05:07:59.999980-09:00</td>\n      <td>GN-2018B-Q-101-1379</td>\n      <td>0</td>\n      <td>1</td>\n      <td>62</td>\n      <td>250.891891</td>\n      <td>GNIRS</td>\n    </tr>\n    <tr>\n      <th>11</th>\n      <td>2018-10-02 06:08:59.999980-09:00</td>\n      <td>GN-2018B-Q-133-83</td>\n      <td>0</td>\n      <td>3</td>\n      <td>17</td>\n      <td>80.553161</td>\n      <td>GNIRS</td>\n    </tr>\n  </tbody>\n</table>\n</div>"
     },
     "metadata": {},
     "output_type": "display_data"
    },
    {
     "data": {
      "text/plain": "<IPython.core.display.Markdown object>",
      "text/markdown": "Time loss: 18 min"
     },
     "metadata": {},
     "output_type": "display_data"
    },
    {
     "data": {
      "text/plain": "<IPython.core.display.Markdown object>",
      "text/markdown": "Plan_Score: 8771.364055924098"
     },
     "metadata": {},
     "output_type": "display_data"
    },
    {
     "data": {
      "text/plain": "<IPython.core.display.Markdown object>",
      "text/markdown": "Number of ToOs: 0"
     },
     "metadata": {},
     "output_type": "display_data"
    },
    {
     "data": {
      "text/plain": "<IPython.core.display.Markdown object>",
      "text/markdown": "Schedule Observations by band"
     },
     "metadata": {},
     "output_type": "display_data"
    },
    {
     "name": "stdout",
     "output_type": "stream",
     "text": [
      "Band 1\t\t11\n",
      "Band 2\t\t1\n",
      "Band 3\t\t0\n",
      "Band 4\t\t0\n"
     ]
    },
    {
     "data": {
      "text/plain": "<IPython.core.display.Markdown object>",
      "text/markdown": "---"
     },
     "metadata": {},
     "output_type": "display_data"
    },
    {
     "data": {
      "text/plain": "<IPython.core.display.Markdown object>",
      "text/markdown": "### Site: Gemini South "
     },
     "metadata": {},
     "output_type": "display_data"
    },
    {
     "data": {
      "text/plain": "                             Start        Observation  Atom start  Atom end  \\\n0 2018-10-01 20:37:00.000002-03:00  GS-2018B-Q-223-30         174       385   \n1 2018-10-01 23:00:00.000002-03:00  GS-2018B-Q-223-32           0       283   \n2 2018-10-02 02:09:00.000002-03:00   GS-2018B-Q-104-7           0         0   \n3 2018-10-02 02:47:00.000002-03:00  GS-2018B-Q-223-18         296       387   \n4 2018-10-02 04:08:00.000002-03:00  GS-2018B-Q-223-34           0       140   \n5 2018-10-02 05:45:00.000002-03:00  GS-2018B-Q-223-31          56       113   \n\n   Length        Score  Instrument  \n0     143  1316.048544  Flamingos2  \n1     190  1777.318608  Flamingos2  \n2      27    84.626243      GMOS-S  \n3      81   716.518896  Flamingos2  \n4      98  1368.700410  Flamingos2  \n5      44  1630.053470  Flamingos2  ",
      "text/html": "<div>\n<style scoped>\n    .dataframe tbody tr th:only-of-type {\n        vertical-align: middle;\n    }\n\n    .dataframe tbody tr th {\n        vertical-align: top;\n    }\n\n    .dataframe thead th {\n        text-align: right;\n    }\n</style>\n<table border=\"1\" class=\"dataframe\">\n  <thead>\n    <tr style=\"text-align: right;\">\n      <th></th>\n      <th>Start</th>\n      <th>Observation</th>\n      <th>Atom start</th>\n      <th>Atom end</th>\n      <th>Length</th>\n      <th>Score</th>\n      <th>Instrument</th>\n    </tr>\n  </thead>\n  <tbody>\n    <tr>\n      <th>0</th>\n      <td>2018-10-01 20:37:00.000002-03:00</td>\n      <td>GS-2018B-Q-223-30</td>\n      <td>174</td>\n      <td>385</td>\n      <td>143</td>\n      <td>1316.048544</td>\n      <td>Flamingos2</td>\n    </tr>\n    <tr>\n      <th>1</th>\n      <td>2018-10-01 23:00:00.000002-03:00</td>\n      <td>GS-2018B-Q-223-32</td>\n      <td>0</td>\n      <td>283</td>\n      <td>190</td>\n      <td>1777.318608</td>\n      <td>Flamingos2</td>\n    </tr>\n    <tr>\n      <th>2</th>\n      <td>2018-10-02 02:09:00.000002-03:00</td>\n      <td>GS-2018B-Q-104-7</td>\n      <td>0</td>\n      <td>0</td>\n      <td>27</td>\n      <td>84.626243</td>\n      <td>GMOS-S</td>\n    </tr>\n    <tr>\n      <th>3</th>\n      <td>2018-10-02 02:47:00.000002-03:00</td>\n      <td>GS-2018B-Q-223-18</td>\n      <td>296</td>\n      <td>387</td>\n      <td>81</td>\n      <td>716.518896</td>\n      <td>Flamingos2</td>\n    </tr>\n    <tr>\n      <th>4</th>\n      <td>2018-10-02 04:08:00.000002-03:00</td>\n      <td>GS-2018B-Q-223-34</td>\n      <td>0</td>\n      <td>140</td>\n      <td>98</td>\n      <td>1368.700410</td>\n      <td>Flamingos2</td>\n    </tr>\n    <tr>\n      <th>5</th>\n      <td>2018-10-02 05:45:00.000002-03:00</td>\n      <td>GS-2018B-Q-223-31</td>\n      <td>56</td>\n      <td>113</td>\n      <td>44</td>\n      <td>1630.053470</td>\n      <td>Flamingos2</td>\n    </tr>\n  </tbody>\n</table>\n</div>"
     },
     "metadata": {},
     "output_type": "display_data"
    },
    {
     "data": {
      "text/plain": "<IPython.core.display.Markdown object>",
      "text/markdown": "Time loss: 8 min"
     },
     "metadata": {},
     "output_type": "display_data"
    },
    {
     "data": {
      "text/plain": "<IPython.core.display.Markdown object>",
      "text/markdown": "Plan_Score: 6893.266172088738"
     },
     "metadata": {},
     "output_type": "display_data"
    },
    {
     "data": {
      "text/plain": "<IPython.core.display.Markdown object>",
      "text/markdown": "Number of ToOs: 0"
     },
     "metadata": {},
     "output_type": "display_data"
    },
    {
     "data": {
      "text/plain": "<IPython.core.display.Markdown object>",
      "text/markdown": "Schedule Observations by band"
     },
     "metadata": {},
     "output_type": "display_data"
    },
    {
     "name": "stdout",
     "output_type": "stream",
     "text": [
      "Band 1\t\t1\n",
      "Band 2\t\t5\n",
      "Band 3\t\t0\n",
      "Band 4\t\t0\n"
     ]
    },
    {
     "data": {
      "text/plain": "<IPython.core.display.Markdown object>",
      "text/markdown": "---"
     },
     "metadata": {},
     "output_type": "display_data"
    },
    {
     "data": {
      "text/plain": "<IPython.core.display.Markdown object>",
      "text/markdown": "## Night Idx: 3 "
     },
     "metadata": {},
     "output_type": "display_data"
    },
    {
     "data": {
      "text/plain": "<IPython.core.display.Markdown object>",
      "text/markdown": "### Site: Gemini North "
     },
     "metadata": {},
     "output_type": "display_data"
    },
    {
     "data": {
      "text/plain": "                              Start          Observation  Atom start  \\\n0  2018-10-02 19:56:59.999984-09:00    GN-2018B-Q-104-11           0   \n1  2018-10-02 21:09:59.999984-09:00    GN-2018B-Q-104-12           0   \n2  2018-10-02 22:10:59.999984-09:00    GN-2018B-Q-104-10           0   \n3  2018-10-02 23:31:59.999984-09:00     GN-2018B-Q-104-7           7   \n4  2018-10-03 00:00:59.999984-09:00    GN-2018B-Q-104-12           8   \n5  2018-10-03 00:21:59.999984-09:00    GN-2018B-Q-303-46           0   \n6  2018-10-03 01:07:59.999984-09:00     GN-2018B-Q-223-5           0   \n7  2018-10-03 01:27:59.999984-09:00  GN-2018B-Q-101-1441           0   \n8  2018-10-03 01:45:59.999984-09:00  GN-2018B-Q-101-1451           0   \n9  2018-10-03 02:04:59.999984-09:00  GN-2018B-Q-101-1435           0   \n10 2018-10-03 02:24:59.999984-09:00  GN-2018B-Q-101-1429           0   \n11 2018-10-03 02:44:59.999984-09:00  GN-2018B-Q-101-1358           0   \n12 2018-10-03 03:45:59.999984-09:00  GN-2018B-Q-101-1477           0   \n13 2018-10-03 04:47:59.999984-09:00  GN-2018B-Q-101-1453           0   \n14 2018-10-03 05:05:59.999984-09:00  GN-2018B-Q-101-1460           0   \n15 2018-10-03 05:23:59.999984-09:00  GN-2018B-Q-101-1457           0   \n\n    Atom end  Length        Score Instrument  \n0          1      73  3729.545173     GMOS-N  \n1          7      66  1205.632242     GMOS-N  \n2          9      81  1287.130120     GMOS-N  \n3          9      29   544.465149     GMOS-N  \n4          9      21   405.328566     GMOS-N  \n5          4      56    23.689272     GMOS-N  \n6          0      20    12.638622     GMOS-N  \n7          3      18    77.042613      GNIRS  \n8          3      19    82.586798      GNIRS  \n9          1      20   103.807238      GNIRS  \n10         1      20   241.484556      GNIRS  \n11         1      62   807.195689      GNIRS  \n12         1      62   768.076942      GNIRS  \n13         3      18   225.195306      GNIRS  \n14         3      18   201.840687      GNIRS  \n15         1      62   675.366047      GNIRS  ",
      "text/html": "<div>\n<style scoped>\n    .dataframe tbody tr th:only-of-type {\n        vertical-align: middle;\n    }\n\n    .dataframe tbody tr th {\n        vertical-align: top;\n    }\n\n    .dataframe thead th {\n        text-align: right;\n    }\n</style>\n<table border=\"1\" class=\"dataframe\">\n  <thead>\n    <tr style=\"text-align: right;\">\n      <th></th>\n      <th>Start</th>\n      <th>Observation</th>\n      <th>Atom start</th>\n      <th>Atom end</th>\n      <th>Length</th>\n      <th>Score</th>\n      <th>Instrument</th>\n    </tr>\n  </thead>\n  <tbody>\n    <tr>\n      <th>0</th>\n      <td>2018-10-02 19:56:59.999984-09:00</td>\n      <td>GN-2018B-Q-104-11</td>\n      <td>0</td>\n      <td>1</td>\n      <td>73</td>\n      <td>3729.545173</td>\n      <td>GMOS-N</td>\n    </tr>\n    <tr>\n      <th>1</th>\n      <td>2018-10-02 21:09:59.999984-09:00</td>\n      <td>GN-2018B-Q-104-12</td>\n      <td>0</td>\n      <td>7</td>\n      <td>66</td>\n      <td>1205.632242</td>\n      <td>GMOS-N</td>\n    </tr>\n    <tr>\n      <th>2</th>\n      <td>2018-10-02 22:10:59.999984-09:00</td>\n      <td>GN-2018B-Q-104-10</td>\n      <td>0</td>\n      <td>9</td>\n      <td>81</td>\n      <td>1287.130120</td>\n      <td>GMOS-N</td>\n    </tr>\n    <tr>\n      <th>3</th>\n      <td>2018-10-02 23:31:59.999984-09:00</td>\n      <td>GN-2018B-Q-104-7</td>\n      <td>7</td>\n      <td>9</td>\n      <td>29</td>\n      <td>544.465149</td>\n      <td>GMOS-N</td>\n    </tr>\n    <tr>\n      <th>4</th>\n      <td>2018-10-03 00:00:59.999984-09:00</td>\n      <td>GN-2018B-Q-104-12</td>\n      <td>8</td>\n      <td>9</td>\n      <td>21</td>\n      <td>405.328566</td>\n      <td>GMOS-N</td>\n    </tr>\n    <tr>\n      <th>5</th>\n      <td>2018-10-03 00:21:59.999984-09:00</td>\n      <td>GN-2018B-Q-303-46</td>\n      <td>0</td>\n      <td>4</td>\n      <td>56</td>\n      <td>23.689272</td>\n      <td>GMOS-N</td>\n    </tr>\n    <tr>\n      <th>6</th>\n      <td>2018-10-03 01:07:59.999984-09:00</td>\n      <td>GN-2018B-Q-223-5</td>\n      <td>0</td>\n      <td>0</td>\n      <td>20</td>\n      <td>12.638622</td>\n      <td>GMOS-N</td>\n    </tr>\n    <tr>\n      <th>7</th>\n      <td>2018-10-03 01:27:59.999984-09:00</td>\n      <td>GN-2018B-Q-101-1441</td>\n      <td>0</td>\n      <td>3</td>\n      <td>18</td>\n      <td>77.042613</td>\n      <td>GNIRS</td>\n    </tr>\n    <tr>\n      <th>8</th>\n      <td>2018-10-03 01:45:59.999984-09:00</td>\n      <td>GN-2018B-Q-101-1451</td>\n      <td>0</td>\n      <td>3</td>\n      <td>19</td>\n      <td>82.586798</td>\n      <td>GNIRS</td>\n    </tr>\n    <tr>\n      <th>9</th>\n      <td>2018-10-03 02:04:59.999984-09:00</td>\n      <td>GN-2018B-Q-101-1435</td>\n      <td>0</td>\n      <td>1</td>\n      <td>20</td>\n      <td>103.807238</td>\n      <td>GNIRS</td>\n    </tr>\n    <tr>\n      <th>10</th>\n      <td>2018-10-03 02:24:59.999984-09:00</td>\n      <td>GN-2018B-Q-101-1429</td>\n      <td>0</td>\n      <td>1</td>\n      <td>20</td>\n      <td>241.484556</td>\n      <td>GNIRS</td>\n    </tr>\n    <tr>\n      <th>11</th>\n      <td>2018-10-03 02:44:59.999984-09:00</td>\n      <td>GN-2018B-Q-101-1358</td>\n      <td>0</td>\n      <td>1</td>\n      <td>62</td>\n      <td>807.195689</td>\n      <td>GNIRS</td>\n    </tr>\n    <tr>\n      <th>12</th>\n      <td>2018-10-03 03:45:59.999984-09:00</td>\n      <td>GN-2018B-Q-101-1477</td>\n      <td>0</td>\n      <td>1</td>\n      <td>62</td>\n      <td>768.076942</td>\n      <td>GNIRS</td>\n    </tr>\n    <tr>\n      <th>13</th>\n      <td>2018-10-03 04:47:59.999984-09:00</td>\n      <td>GN-2018B-Q-101-1453</td>\n      <td>0</td>\n      <td>3</td>\n      <td>18</td>\n      <td>225.195306</td>\n      <td>GNIRS</td>\n    </tr>\n    <tr>\n      <th>14</th>\n      <td>2018-10-03 05:05:59.999984-09:00</td>\n      <td>GN-2018B-Q-101-1460</td>\n      <td>0</td>\n      <td>3</td>\n      <td>18</td>\n      <td>201.840687</td>\n      <td>GNIRS</td>\n    </tr>\n    <tr>\n      <th>15</th>\n      <td>2018-10-03 05:23:59.999984-09:00</td>\n      <td>GN-2018B-Q-101-1457</td>\n      <td>0</td>\n      <td>1</td>\n      <td>62</td>\n      <td>675.366047</td>\n      <td>GNIRS</td>\n    </tr>\n  </tbody>\n</table>\n</div>"
     },
     "metadata": {},
     "output_type": "display_data"
    },
    {
     "data": {
      "text/plain": "<IPython.core.display.Markdown object>",
      "text/markdown": "Time loss: -16 min"
     },
     "metadata": {},
     "output_type": "display_data"
    },
    {
     "data": {
      "text/plain": "<IPython.core.display.Markdown object>",
      "text/markdown": "Plan_Score: 10391.02502041599"
     },
     "metadata": {},
     "output_type": "display_data"
    },
    {
     "data": {
      "text/plain": "<IPython.core.display.Markdown object>",
      "text/markdown": "Number of ToOs: 1"
     },
     "metadata": {},
     "output_type": "display_data"
    },
    {
     "data": {
      "text/plain": "<IPython.core.display.Markdown object>",
      "text/markdown": "Schedule Observations by band"
     },
     "metadata": {},
     "output_type": "display_data"
    },
    {
     "name": "stdout",
     "output_type": "stream",
     "text": [
      "Band 1\t\t14\n",
      "Band 2\t\t1\n",
      "Band 3\t\t1\n",
      "Band 4\t\t0\n"
     ]
    },
    {
     "data": {
      "text/plain": "<IPython.core.display.Markdown object>",
      "text/markdown": "---"
     },
     "metadata": {},
     "output_type": "display_data"
    },
    {
     "data": {
      "text/plain": "<IPython.core.display.Markdown object>",
      "text/markdown": "### Site: Gemini South "
     },
     "metadata": {},
     "output_type": "display_data"
    },
    {
     "data": {
      "text/plain": "                             Start        Observation  Atom start  Atom end  \\\n0 2018-10-02 22:48:59.999998-03:00  GS-2018B-Q-223-32         284       377   \n1 2018-10-02 23:55:59.999998-03:00  GS-2018B-Q-105-90           0         1   \n2 2018-10-03 00:24:59.999998-03:00   GS-2018B-Q-105-9           0         1   \n3 2018-10-03 00:45:59.999998-03:00  GS-2018B-Q-105-87           0         1   \n4 2018-10-03 01:17:59.999998-03:00   GS-2018B-Q-108-8           0         3   \n5 2018-10-03 02:17:59.999998-03:00  GS-2018B-Q-105-14           0         1   \n6 2018-10-03 02:38:59.999998-03:00   GS-2018B-Q-120-8           0         3   \n7 2018-10-03 03:02:59.999998-03:00  GS-2018B-Q-223-33           0        85   \n8 2018-10-03 04:03:59.999998-03:00  GS-2018B-Q-223-34         141       282   \n9 2018-10-03 05:40:59.999998-03:00  GS-2018B-Q-223-31         114       176   \n\n   Length        Score  Instrument  \n0      67  1514.149577  Flamingos2  \n1      29   109.603713      GMOS-S  \n2      21    57.053619      GMOS-S  \n3      20    50.960444      GMOS-S  \n4      24    62.175894      GMOS-S  \n5      21    47.821084      GMOS-S  \n6      24    74.259592      GMOS-S  \n7      62  1154.156257  Flamingos2  \n8      98  4125.703511  Flamingos2  \n9      47  5455.738639  Flamingos2  ",
      "text/html": "<div>\n<style scoped>\n    .dataframe tbody tr th:only-of-type {\n        vertical-align: middle;\n    }\n\n    .dataframe tbody tr th {\n        vertical-align: top;\n    }\n\n    .dataframe thead th {\n        text-align: right;\n    }\n</style>\n<table border=\"1\" class=\"dataframe\">\n  <thead>\n    <tr style=\"text-align: right;\">\n      <th></th>\n      <th>Start</th>\n      <th>Observation</th>\n      <th>Atom start</th>\n      <th>Atom end</th>\n      <th>Length</th>\n      <th>Score</th>\n      <th>Instrument</th>\n    </tr>\n  </thead>\n  <tbody>\n    <tr>\n      <th>0</th>\n      <td>2018-10-02 22:48:59.999998-03:00</td>\n      <td>GS-2018B-Q-223-32</td>\n      <td>284</td>\n      <td>377</td>\n      <td>67</td>\n      <td>1514.149577</td>\n      <td>Flamingos2</td>\n    </tr>\n    <tr>\n      <th>1</th>\n      <td>2018-10-02 23:55:59.999998-03:00</td>\n      <td>GS-2018B-Q-105-90</td>\n      <td>0</td>\n      <td>1</td>\n      <td>29</td>\n      <td>109.603713</td>\n      <td>GMOS-S</td>\n    </tr>\n    <tr>\n      <th>2</th>\n      <td>2018-10-03 00:24:59.999998-03:00</td>\n      <td>GS-2018B-Q-105-9</td>\n      <td>0</td>\n      <td>1</td>\n      <td>21</td>\n      <td>57.053619</td>\n      <td>GMOS-S</td>\n    </tr>\n    <tr>\n      <th>3</th>\n      <td>2018-10-03 00:45:59.999998-03:00</td>\n      <td>GS-2018B-Q-105-87</td>\n      <td>0</td>\n      <td>1</td>\n      <td>20</td>\n      <td>50.960444</td>\n      <td>GMOS-S</td>\n    </tr>\n    <tr>\n      <th>4</th>\n      <td>2018-10-03 01:17:59.999998-03:00</td>\n      <td>GS-2018B-Q-108-8</td>\n      <td>0</td>\n      <td>3</td>\n      <td>24</td>\n      <td>62.175894</td>\n      <td>GMOS-S</td>\n    </tr>\n    <tr>\n      <th>5</th>\n      <td>2018-10-03 02:17:59.999998-03:00</td>\n      <td>GS-2018B-Q-105-14</td>\n      <td>0</td>\n      <td>1</td>\n      <td>21</td>\n      <td>47.821084</td>\n      <td>GMOS-S</td>\n    </tr>\n    <tr>\n      <th>6</th>\n      <td>2018-10-03 02:38:59.999998-03:00</td>\n      <td>GS-2018B-Q-120-8</td>\n      <td>0</td>\n      <td>3</td>\n      <td>24</td>\n      <td>74.259592</td>\n      <td>GMOS-S</td>\n    </tr>\n    <tr>\n      <th>7</th>\n      <td>2018-10-03 03:02:59.999998-03:00</td>\n      <td>GS-2018B-Q-223-33</td>\n      <td>0</td>\n      <td>85</td>\n      <td>62</td>\n      <td>1154.156257</td>\n      <td>Flamingos2</td>\n    </tr>\n    <tr>\n      <th>8</th>\n      <td>2018-10-03 04:03:59.999998-03:00</td>\n      <td>GS-2018B-Q-223-34</td>\n      <td>141</td>\n      <td>282</td>\n      <td>98</td>\n      <td>4125.703511</td>\n      <td>Flamingos2</td>\n    </tr>\n    <tr>\n      <th>9</th>\n      <td>2018-10-03 05:40:59.999998-03:00</td>\n      <td>GS-2018B-Q-223-31</td>\n      <td>114</td>\n      <td>176</td>\n      <td>47</td>\n      <td>5455.738639</td>\n      <td>Flamingos2</td>\n    </tr>\n  </tbody>\n</table>\n</div>"
     },
     "metadata": {},
     "output_type": "display_data"
    },
    {
     "data": {
      "text/plain": "<IPython.core.display.Markdown object>",
      "text/markdown": "Time loss: 176 min"
     },
     "metadata": {},
     "output_type": "display_data"
    },
    {
     "data": {
      "text/plain": "<IPython.core.display.Markdown object>",
      "text/markdown": "Plan_Score: 12651.622331277826"
     },
     "metadata": {},
     "output_type": "display_data"
    },
    {
     "data": {
      "text/plain": "<IPython.core.display.Markdown object>",
      "text/markdown": "Number of ToOs: 0"
     },
     "metadata": {},
     "output_type": "display_data"
    },
    {
     "data": {
      "text/plain": "<IPython.core.display.Markdown object>",
      "text/markdown": "Schedule Observations by band"
     },
     "metadata": {},
     "output_type": "display_data"
    },
    {
     "name": "stdout",
     "output_type": "stream",
     "text": [
      "Band 1\t\t6\n",
      "Band 2\t\t4\n",
      "Band 3\t\t0\n",
      "Band 4\t\t0\n"
     ]
    },
    {
     "data": {
      "text/plain": "<IPython.core.display.Markdown object>",
      "text/markdown": "---"
     },
     "metadata": {},
     "output_type": "display_data"
    },
    {
     "data": {
      "text/plain": "<IPython.core.display.Markdown object>",
      "text/markdown": "## Program Completion"
     },
     "metadata": {},
     "output_type": "display_data"
    },
    {
     "data": {
      "text/plain": "               % Completion         Score\nGN-2018B-Q-230       100.0%  11961.177467\nGN-2018B-Q-104        62.5%   7415.627402\nGN-2018B-Q-903         0.0%      17.87151\nGN-2018B-Q-101        56.4%   4828.102079\nGN-2018B-Q-133        18.2%    181.032429\nGS-2018B-Q-223        91.7%  21559.234535\nGS-2018B-Q-104        50.0%    487.995793\nGS-2018B-Q-105        23.5%    289.712623\nGS-2018B-Q-102         0.0%    643.953526\nGN-2018B-Q-108         0.0%     23.602973\nGN-2018B-Q-103         0.0%     18.085606\nGN-2018B-Q-303         0.0%     23.689272\nGN-2018B-Q-223         0.0%     12.638622\nGS-2018B-Q-108         0.0%     62.175894\nGS-2018B-Q-120         0.0%     74.259592",
      "text/html": "<div>\n<style scoped>\n    .dataframe tbody tr th:only-of-type {\n        vertical-align: middle;\n    }\n\n    .dataframe tbody tr th {\n        vertical-align: top;\n    }\n\n    .dataframe thead th {\n        text-align: right;\n    }\n</style>\n<table border=\"1\" class=\"dataframe\">\n  <thead>\n    <tr style=\"text-align: right;\">\n      <th></th>\n      <th>% Completion</th>\n      <th>Score</th>\n    </tr>\n  </thead>\n  <tbody>\n    <tr>\n      <th>GN-2018B-Q-230</th>\n      <td>100.0%</td>\n      <td>11961.177467</td>\n    </tr>\n    <tr>\n      <th>GN-2018B-Q-104</th>\n      <td>62.5%</td>\n      <td>7415.627402</td>\n    </tr>\n    <tr>\n      <th>GN-2018B-Q-903</th>\n      <td>0.0%</td>\n      <td>17.87151</td>\n    </tr>\n    <tr>\n      <th>GN-2018B-Q-101</th>\n      <td>56.4%</td>\n      <td>4828.102079</td>\n    </tr>\n    <tr>\n      <th>GN-2018B-Q-133</th>\n      <td>18.2%</td>\n      <td>181.032429</td>\n    </tr>\n    <tr>\n      <th>GS-2018B-Q-223</th>\n      <td>91.7%</td>\n      <td>21559.234535</td>\n    </tr>\n    <tr>\n      <th>GS-2018B-Q-104</th>\n      <td>50.0%</td>\n      <td>487.995793</td>\n    </tr>\n    <tr>\n      <th>GS-2018B-Q-105</th>\n      <td>23.5%</td>\n      <td>289.712623</td>\n    </tr>\n    <tr>\n      <th>GS-2018B-Q-102</th>\n      <td>0.0%</td>\n      <td>643.953526</td>\n    </tr>\n    <tr>\n      <th>GN-2018B-Q-108</th>\n      <td>0.0%</td>\n      <td>23.602973</td>\n    </tr>\n    <tr>\n      <th>GN-2018B-Q-103</th>\n      <td>0.0%</td>\n      <td>18.085606</td>\n    </tr>\n    <tr>\n      <th>GN-2018B-Q-303</th>\n      <td>0.0%</td>\n      <td>23.689272</td>\n    </tr>\n    <tr>\n      <th>GN-2018B-Q-223</th>\n      <td>0.0%</td>\n      <td>12.638622</td>\n    </tr>\n    <tr>\n      <th>GS-2018B-Q-108</th>\n      <td>0.0%</td>\n      <td>62.175894</td>\n    </tr>\n    <tr>\n      <th>GS-2018B-Q-120</th>\n      <td>0.0%</td>\n      <td>74.259592</td>\n    </tr>\n  </tbody>\n</table>\n</div>"
     },
     "metadata": {},
     "output_type": "display_data"
    },
    {
     "name": "stdout",
     "output_type": "stream",
     "text": [
      "DONE\n"
     ]
    }
   ],
   "source": [
    "\n",
    "ObservatoryProperties.set_properties(GeminiProperties)\n",
    "\n",
    "# Read in a list of JSON data\n",
    "programs = read_ocs_zipfile(os.path.join(ROOT_DIR, 'scheduler', 'data', '2018B_program_samples.zip'));\n",
    "\n",
    "# Create the Collector and load the programs.\n",
    "collector_blueprint = CollectorBlueprint(\n",
    "    ['SCIENCE', 'PROGCAL', 'PARTNERCAL'],\n",
    "    ['Q', 'LP', 'FT', 'DD'],\n",
    "    1.0\n",
    ");\n",
    "\n",
    "\n",
    "start, end = set_dates()\n",
    "sites = set_sites()\n",
    "cc = set_cc()\n",
    "iq = set_iq()\n",
    "\n",
    "\n",
    "collector = SchedulerBuilder.build_collector(\n",
    "    start=Time(start, format='iso', scale='utc'),\n",
    "    end=Time(end, format='iso', scale='utc'),\n",
    "    sites=sites,\n",
    "    semesters=frozenset([Semester(2018, SemesterHalf.B)]),\n",
    "    blueprint=collector_blueprint\n",
    ")\n",
    "\n",
    "# Create the Collector and load the programs.\n",
    "collector.load_programs(program_provider_class=OcsProgramProvider,\n",
    "                        data=programs)\n",
    "\n",
    "print_collector_info(collector, samples=10)\n",
    "\n",
    "selector = SchedulerBuilder.build_selector(collector,\n",
    "                                           num_nights_to_schedule=3,\n",
    "                                           default_cc=cc,\n",
    "                                           default_iq=iq)\n",
    "\n",
    "# Prepare the optimizer.\n",
    "optimizer_blueprint = OptimizerBlueprint(\n",
    "    \"GreedyMax\"\n",
    ")\n",
    "optimizer = SchedulerBuilder.build_optimizer(\n",
    "    blueprint=optimizer_blueprint\n",
    ")\n",
    "\n",
    "# The total nights for which visibility calculations have been done.\n",
    "total_nights = len(collector.time_grid)\n",
    "\n",
    "# Create the overall plans by night.\n",
    "overall_plans = {}\n",
    "\n",
    "for night_idx in range(selector.num_nights_to_schedule):\n",
    "    # Get the night indices for which we are selecting.\n",
    "    # TODO: We will want scores for nights to look ahead for greedy optimization.\n",
    "    # TODO: For now, we use the entire period for which visibility calculations have been done.\n",
    "    # night_indices = range(night_idx, total_nights)\n",
    "    night_indices = np.array([night_idx])\n",
    "    # selection = selector.select(night_indices=np.array([0, 1, 2])\n",
    "    selection = selector.select(night_indices=night_indices)\n",
    "    pickle_selection(selection, out_dir.path, night_idx)\n",
    "    # Run the optimizer to get the plans for the first night in the selection.\n",
    "    # mr.Md(f'### GreedyMax Output for night {night_idx}')\n",
    "    plans = optimizer.schedule(selection)\n",
    "    night_plans = plans[0]\n",
    "\n",
    "    # Store the plans in the overall_plans array for that night.\n",
    "    # TODO: This might be an issue. We may need to index nights (plans) in optimizer by night_idx.\n",
    "    overall_plans[night_idx] = night_plans\n",
    "\n",
    "    # Perform the time accounting on the plans.\n",
    "    collector.time_accounting(night_plans)\n",
    "\n",
    "\n",
    "overall_plans = [p for _, p in sorted(overall_plans.items())]\n",
    "plan_summary = StatCalculator.calculate_plans_stats(overall_plans,collector)\n",
    "# print_plans(overall_plans)\n",
    "night_tables = plans_table(overall_plans)\n",
    "pickle_plans(night_tables, out_dir.path, start,end)\n",
    "for n_idx, table_per_site in enumerate(night_tables):\n",
    "    mr.Md(f\"## Night Idx: {n_idx+1} \")\n",
    "    for site in sites:\n",
    "        night_stats = overall_plans[n_idx][site].night_stats\n",
    "        mr.Md(f\"### Site: {site.value[0]} \")\n",
    "        display(table_per_site[site])\n",
    "        mr.Md(f'Time loss: {night_stats.timeloss}')\n",
    "        mr.Md(f'Plan_Score: {night_stats.plan_score}')\n",
    "        mr.Md(f'Number of ToOs: {night_stats.n_toos}')\n",
    "        mr.Md(f'Schedule Observations by band')\n",
    "        for key, value in night_stats.completion_fraction.items():\n",
    "            mr.Md(f'Band {key:<10}{value}')\n",
    "    mr.Md('---')            \n",
    "mr.Md('## Program Completion')\n",
    "df_pcompl = pd.DataFrame(plan_summary).T.rename(columns={0:\"% Completion\",1:\"Score\"})\n",
    "display(df_pcompl)\n",
    "\n",
    "print('DONE')\n"
   ]
  },
  {
   "cell_type": "code",
   "execution_count": 6,
   "outputs": [],
   "source": [],
   "metadata": {
    "collapsed": false,
    "ExecuteTime": {
     "end_time": "2023-08-24T19:41:35.312227Z",
     "start_time": "2023-08-24T19:41:35.122744Z"
    }
   }
  }
 ],
 "metadata": {
  "kernelspec": {
   "display_name": "scheduler-env",
   "language": "python",
   "name": "python3"
  },
  "language_info": {
   "codemirror_mode": {
    "name": "ipython",
    "version": 3
   },
   "file_extension": ".py",
   "mimetype": "text/x-python",
   "name": "python",
   "nbconvert_exporter": "python",
   "pygments_lexer": "ipython3",
   "version": "3.10.11"
  },
  "orig_nbformat": 4
 },
 "nbformat": 4,
 "nbformat_minor": 2
}
