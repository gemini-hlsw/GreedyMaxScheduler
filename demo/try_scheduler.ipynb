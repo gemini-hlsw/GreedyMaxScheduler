{
 "cells": [
  {
   "cell_type": "code",
   "execution_count": 7,
   "metadata": {
    "ExecuteTime": {
     "end_time": "2023-08-31T17:15:24.025440Z",
     "start_time": "2023-08-31T17:15:24.000618Z"
    }
   },
   "outputs": [],
   "source": [
    "from dataclasses import dataclass\n",
    "import os\n",
    "import sys"
   ]
  },
  {
   "cell_type": "code",
   "execution_count": 8,
   "metadata": {
    "ExecuteTime": {
     "end_time": "2023-08-31T17:15:24.027566Z",
     "start_time": "2023-08-31T17:15:24.010456Z"
    }
   },
   "outputs": [],
   "source": [
    "%%capture\n",
    "import mercury as mr\n",
    "import pandas as pd\n",
    "from IPython.display import display\n",
    "\n",
    "from astropy.time import Time\n",
    "from lucupy.minimodel.constraints import CloudCover, ImageQuality\n",
    "from lucupy.minimodel.semester import SemesterHalf\n",
    "from lucupy.minimodel.site import Site, ALL_SITES\n",
    "from lucupy.observatory.abstract import ObservatoryProperties\n",
    "from lucupy.observatory.gemini import GeminiProperties\n",
    "\n",
    "from definitions import ROOT_DIR\n",
    "from scheduler.core.builder.blueprint import CollectorBlueprint, OptimizerBlueprint\n",
    "from scheduler.core.builder.builder import ValidationBuilder\n",
    "from scheduler.core.components.collector import *\n",
    "from scheduler.core.output import (print_collector_info, plans_table, pickle_plans, pickle_selection)\n",
    "from scheduler.core.programprovider.ocs import read_ocs_zipfile, OcsProgramProvider\n",
    "from scheduler.core.statscalculator import StatCalculator"
   ]
  },
  {
   "cell_type": "code",
   "execution_count": 9,
   "metadata": {
    "ExecuteTime": {
     "end_time": "2023-08-31T17:15:24.078951Z",
     "start_time": "2023-08-31T17:15:24.013229Z"
    }
   },
   "outputs": [
    {
     "data": {
      "text/plain": "mercury.App",
      "text/html": "<h3>Mercury Application</h3><small>This output won't appear in the web app.</small>",
      "application/mercury+json": "{\n    \"widget\": \"App\",\n    \"title\": \"Scheduler Validation Test\",\n    \"description\": \"Try the Validation mode for the Scheduler\",\n    \"show_code\": false,\n    \"show_prompt\": true,\n    \"output\": \"app\",\n    \"schedule\": \"\",\n    \"notify\": \"{}\",\n    \"continuous_update\": false,\n    \"static_notebook\": false,\n    \"show_sidebar\": true,\n    \"full_screen\": true,\n    \"allow_download\": true,\n    \"model_id\": \"mercury-app\",\n    \"code_uid\": \"App.0.40.24.6-rand234f3c14\"\n}"
     },
     "metadata": {},
     "output_type": "display_data"
    }
   ],
   "source": [
    "# Add the parent directory to the Python search path.\n",
    "cwd = os.getcwd().replace('/demo', '')\n",
    "sys.path.insert(0, cwd)\n",
    "\n",
    "# Application parameters.\n",
    "app = mr.App(title=\"Scheduler Validation Test\",\n",
    "        description=\"Try the Validation mode for the Scheduler\",\n",
    "        show_code=False,\n",
    "        show_prompt=True,\n",
    "        continuous_update=False,\n",
    "        static_notebook=False,\n",
    "        show_sidebar=True,\n",
    "        full_screen=True,\n",
    "        allow_download=True)"
   ]
  },
  {
   "cell_type": "code",
   "execution_count": 10,
   "metadata": {
    "ExecuteTime": {
     "end_time": "2023-08-31T17:15:24.096592Z",
     "start_time": "2023-08-31T17:15:24.062031Z"
    }
   },
   "outputs": [
    {
     "data": {
      "application/mercury+json": "{\n    \"widget\": \"OutputDir\",\n    \"model_id\": \"output-dir\",\n    \"code_uid\": \"OutputDir.0.40.18.1-randfb8a957e\"\n}",
      "text/html": "<h3>Output Directory</h3><small>This output won't appear in the web app.</small>",
      "text/plain": "mercury.OutputDir"
     },
     "metadata": {},
     "output_type": "display_data"
    },
    {
     "name": "stdout",
     "output_type": "stream",
     "text": [
      "Output directory path: .\n"
     ]
    }
   ],
   "source": [
    "out_dir = mr.OutputDir()\n",
    "print(f\"Output directory path: {out_dir.path}\")"
   ]
  },
  {
   "cell_type": "code",
   "execution_count": 11,
   "metadata": {
    "ExecuteTime": {
     "end_time": "2023-08-31T17:15:24.346938Z",
     "start_time": "2023-08-31T17:15:24.106580Z"
    }
   },
   "outputs": [
    {
     "data": {
      "application/vnd.jupyter.widget-view+json": {
       "version_major": 2,
       "version_minor": 0,
       "model_id": "f3e7906323054b77b8578470b8c84989"
      },
      "application/mercury+json": "{\n    \"widget\": \"Text\",\n    \"value\": \"2018-10-01\",\n    \"rows\": 1,\n    \"label\": \"Start Date\",\n    \"model_id\": \"f3e7906323054b77b8578470b8c84989\",\n    \"code_uid\": \"Text.0.40.15.2-rand66e6217f\",\n    \"url_key\": \"\",\n    \"disabled\": false,\n    \"hidden\": false\n}",
      "text/plain": "mercury.Text"
     },
     "metadata": {},
     "output_type": "display_data"
    },
    {
     "data": {
      "application/vnd.jupyter.widget-view+json": {
       "version_major": 2,
       "version_minor": 0,
       "model_id": "fed5d5d955aa40819bcd6ab3908a0ef6"
      },
      "application/mercury+json": "{\n    \"widget\": \"Text\",\n    \"value\": \"08:00:00\",\n    \"rows\": 1,\n    \"label\": \"Start Time (UTC)\",\n    \"model_id\": \"fed5d5d955aa40819bcd6ab3908a0ef6\",\n    \"code_uid\": \"Text.0.40.15.3-rand4027443b\",\n    \"url_key\": \"\",\n    \"disabled\": false,\n    \"hidden\": false\n}",
      "text/plain": "mercury.Text"
     },
     "metadata": {},
     "output_type": "display_data"
    },
    {
     "data": {
      "application/vnd.jupyter.widget-view+json": {
       "version_major": 2,
       "version_minor": 0,
       "model_id": "134684d28bfd41668ae77a15e98a1bf9"
      },
      "application/mercury+json": "{\n    \"widget\": \"Text\",\n    \"value\": \"2018-10-03\",\n    \"rows\": 1,\n    \"label\": \"End Date\",\n    \"model_id\": \"134684d28bfd41668ae77a15e98a1bf9\",\n    \"code_uid\": \"Text.0.40.15.4-randccbbc500\",\n    \"url_key\": \"\",\n    \"disabled\": false,\n    \"hidden\": false\n}",
      "text/plain": "mercury.Text"
     },
     "metadata": {},
     "output_type": "display_data"
    },
    {
     "data": {
      "application/vnd.jupyter.widget-view+json": {
       "version_major": 2,
       "version_minor": 0,
       "model_id": "caa363b3a16a4adc88e4abbf4c215516"
      },
      "application/mercury+json": "{\n    \"widget\": \"Text\",\n    \"value\": \"08:00:00\",\n    \"rows\": 1,\n    \"label\": \"End Time (UTC)\",\n    \"model_id\": \"caa363b3a16a4adc88e4abbf4c215516\",\n    \"code_uid\": \"Text.0.40.15.5-randc8a5cfea\",\n    \"url_key\": \"\",\n    \"disabled\": false,\n    \"hidden\": false\n}",
      "text/plain": "mercury.Text"
     },
     "metadata": {},
     "output_type": "display_data"
    },
    {
     "data": {
      "application/vnd.jupyter.widget-view+json": {
       "version_major": 2,
       "version_minor": 0,
       "model_id": "dd8866f9b0db472686e869fb086b63a4"
      },
      "application/mercury+json": "{\n    \"widget\": \"MultiSelect\",\n    \"value\": [\n        \"GN\",\n        \"GS\"\n    ],\n    \"choices\": [\n        \"GN\",\n        \"GS\"\n    ],\n    \"label\": \"Sites\",\n    \"model_id\": \"dd8866f9b0db472686e869fb086b63a4\",\n    \"code_uid\": \"MultiSelect.0.40.16.8-randca4c80c9\",\n    \"url_key\": \"\",\n    \"disabled\": false,\n    \"hidden\": false\n}",
      "text/plain": "mercury.MultiSelect"
     },
     "metadata": {},
     "output_type": "display_data"
    },
    {
     "data": {
      "application/vnd.jupyter.widget-view+json": {
       "version_major": 2,
       "version_minor": 0,
       "model_id": "7e27f76f5fac4ab5967d0bae3c8f39e3"
      },
      "application/mercury+json": "{\n    \"widget\": \"Select\",\n    \"value\": \"CC50\",\n    \"choices\": [\n        \"CC50\",\n        \"CC70\",\n        \"CC80\",\n        \"CCANY\"\n    ],\n    \"label\": \"Cloud Cover\",\n    \"model_id\": \"7e27f76f5fac4ab5967d0bae3c8f39e3\",\n    \"code_uid\": \"Select.0.40.16.13-rand1da79b6a\",\n    \"url_key\": \"\",\n    \"disabled\": false,\n    \"hidden\": false\n}",
      "text/plain": "mercury.Select"
     },
     "metadata": {},
     "output_type": "display_data"
    },
    {
     "data": {
      "application/vnd.jupyter.widget-view+json": {
       "version_major": 2,
       "version_minor": 0,
       "model_id": "30f17b6120e4402989a61436bd4dec29"
      },
      "application/mercury+json": "{\n    \"widget\": \"Select\",\n    \"value\": \"IQ70\",\n    \"choices\": [\n        \"IQ20\",\n        \"IQ70\",\n        \"IQ85\",\n        \"IQANY\"\n    ],\n    \"label\": \"Image Quality\",\n    \"model_id\": \"30f17b6120e4402989a61436bd4dec29\",\n    \"code_uid\": \"Select.0.40.16.18-rand0304d239\",\n    \"url_key\": \"\",\n    \"disabled\": false,\n    \"hidden\": false\n}",
      "text/plain": "mercury.Select"
     },
     "metadata": {},
     "output_type": "display_data"
    }
   ],
   "source": [
    "# Set up the UI.\n",
    "start_date = mr.Text(label='Start Date', value='2018-10-01')\n",
    "start_time = mr.Text(label='Start Time (UTC)', value='08:00:00')  \n",
    "end_date = mr.Text(label='End Date', value='2018-10-03')\n",
    "end_time = mr.Text(label='End Time (UTC)', value='08:00:00')\n",
    "\n",
    "site_choices = [site.name for site in Site]\n",
    "site_selection = mr.MultiSelect(label=\"Sites\",\n",
    "                                choices=site_choices,\n",
    "                                value=site_choices)\n",
    "\n",
    "cc_choices = [cc.name for cc in CloudCover]\n",
    "cc_selection = mr.Select(label='Cloud Cover',\n",
    "                         choices=cc_choices,\n",
    "                         value=CloudCover.CC50.name)\n",
    "\n",
    "iq_choices = [iq.name for iq in ImageQuality]\n",
    "iq_selection = mr.Select(label='Image Quality',\n",
    "                         choices=iq_choices,\n",
    "                         value=ImageQuality.IQ70.name)\n",
    "\n",
    "\n",
    "@dataclass(frozen=True)\n",
    "class Params:\n",
    "    start: Time\n",
    "    end: Time\n",
    "    num_nights_to_schedule: int\n",
    "    sites: FrozenSet[Site]\n",
    "    cc: CloudCover\n",
    "    iq: ImageQuality\n",
    "       \n",
    "def extract_params() -> Params:\n",
    "    start_string = f'{start_date.value} {start_time.value}'\n",
    "    try:\n",
    "        start = Time(start_string, format='iso', scale='utc')\n",
    "    except Exception as e:\n",
    "        print(f'Could not parse the start string \"{start_string}\".')\n",
    "        raise mr.StopExecution\n",
    "        \n",
    "    end_string = f'{end_date.value} {end_time.value}'\n",
    "    try:\n",
    "        end = Time(end_string, format='iso', scale='utc')\n",
    "    except Exception as e:\n",
    "        print(f'Could not parse the end string \"{end_string}\".')\n",
    "        raise mr.StopExecution\n",
    "        \n",
    "    if end <= start:\n",
    "        print(f'Start of run \"{start_string}\" must be before end \"{end_string}\".')\n",
    "        raise mr.StopExecution\n",
    "    num_nights_to_schedule = int(round(end.jd - start.jd)) + 1\n",
    "    \n",
    "    sites = frozenset(Site[s] for s in site_selection.value)\n",
    "    if not sites:\n",
    "        print('No sites specified.')\n",
    "        raise mr.StopExecution\n",
    "    \n",
    "    try:\n",
    "        cc = CloudCover[cc_selection.value]\n",
    "    except KeyError:\n",
    "        print(f'Illegal CloudCover: \"{cc_selection.value}\"')\n",
    "        raise mr.StopExecution\n",
    "    \n",
    "    try:\n",
    "        iq = ImageQuality[iq_selection.value]\n",
    "    except KeyError:\n",
    "        print(f'Illegal ImageQuality: \"{iq_selection.value}\"')\n",
    "        raise mr.StopExecution\n",
    "    \n",
    "    return Params(start=start,\n",
    "                  end=end,\n",
    "                  num_nights_to_schedule=num_nights_to_schedule,\n",
    "                  sites=sites,\n",
    "                  cc=cc,\n",
    "                  iq=iq)\n"
   ]
  },
  {
   "cell_type": "markdown",
   "metadata": {},
   "source": [
    "## SCHEDULER \n",
    "\n",
    "When the Scheduler is running, the UI will be frozen until the results are displayed.\n",
    "When the run button is enabled, the Scheduler may be invoked.\n",
    "The default values provided are the ones used during internal testing."
   ]
  },
  {
   "cell_type": "code",
   "execution_count": 12,
   "metadata": {
    "ExecuteTime": {
     "end_time": "2023-08-31T17:15:49.531312Z",
     "start_time": "2023-08-31T17:15:24.349497Z"
    }
   },
   "outputs": [
    {
     "name": "stdout",
     "output_type": "stream",
     "text": [
      "Parameters parsed: Scheduler execution running...\n",
      "Pre-Collector / Collector running from:\n",
      "   start time:       2018-10-01 08:00:00.000\n",
      "   end time:         2018-10-03 08:00:00.000\n",
      "   time slot length: 1.0 min\n",
      "\n",
      "\n",
      "+++++ NIGHT EVENTS FOR GS +++++\n",
      "* DAY 0: 2018-09-30 20:36:00.000005-03:00 to 2018-10-01 06:29:00.000017-03:00, 594 time slots.\n",
      "\tmidnight:         2018-10-01 03:00:00\n",
      "\tsunset:           2018-09-30 22:51:51.313\n",
      "\tsunrise:          2018-10-01 10:13:08.138\n",
      "\t12° eve twilight: 2018-09-30 23:35:59.594\n",
      "\t12° mor twilight: 2018-10-01 09:29:01.995\n",
      "\tmoonrise:         2018-10-01 04:10:15.720\n",
      "\tmoonset:          2018-10-01 15:12:31.872\n",
      "* DAY 1: 2018-10-01 20:37:00.000002-03:00 to 2018-10-02 06:26:59.999984-03:00, 591 time slots.\n",
      "\tmidnight:         2018-10-02 03:00:00\n",
      "\tsunset:           2018-10-01 22:52:26.854\n",
      "\tsunrise:          2018-10-02 10:11:54.093\n",
      "\t12° eve twilight: 2018-10-01 23:36:38.176\n",
      "\t12° mor twilight: 2018-10-02 09:27:44.847\n",
      "\tmoonrise:         2018-10-02 05:10:48.546\n",
      "\tmoonset:          2018-10-01 15:12:32.555\n",
      "* DAY 2: 2018-10-02 20:37:59.999998-03:00 to 2018-10-03 06:25:59.999987-03:00, 589 time slots.\n",
      "\tmidnight:         2018-10-03 03:00:00\n",
      "\tsunset:           2018-10-02 22:53:02.704\n",
      "\tsunrise:          2018-10-03 10:10:40.358\n",
      "\t12° eve twilight: 2018-10-02 23:37:17.240\n",
      "\t12° mor twilight: 2018-10-03 09:26:27.834\n",
      "\tmoonrise:         2018-10-03 06:08:46.669\n",
      "\tmoonset:          2018-10-02 16:09:09.475\n",
      "\n",
      "\n",
      "+++++ NIGHT EVENTS FOR GN +++++\n",
      "* DAY 0: 2018-09-30 19:59:00.000017-09:00 to 2018-10-01 06:24:59.999991-09:00, 627 time slots.\n",
      "\tmidnight:         2018-10-01 09:00:00\n",
      "\tsunset:           2018-10-01 04:19:43.031\n",
      "\tsunrise:          2018-10-01 16:03:41.092\n",
      "\t12° eve twilight: 2018-10-01 04:58:06.957\n",
      "\t12° mor twilight: 2018-10-01 15:25:15.286\n",
      "\tmoonrise:         2018-10-01 08:39:18.887\n",
      "\tmoonset:          2018-09-30 21:31:49.933\n",
      "* DAY 1: 2018-10-01 19:57:59.999980-09:00 to 2018-10-02 06:24:59.999991-09:00, 628 time slots.\n",
      "\tmidnight:         2018-10-02 09:00:00\n",
      "\tsunset:           2018-10-02 04:18:50.410\n",
      "\tsunrise:          2018-10-02 16:03:55.278\n",
      "\t12° eve twilight: 2018-10-02 04:57:14.601\n",
      "\t12° mor twilight: 2018-10-02 15:25:29.158\n",
      "\tmoonrise:         2018-10-02 09:35:27.368\n",
      "\tmoonset:          2018-10-01 22:31:17.931\n",
      "* DAY 2: 2018-10-02 19:56:59.999984-09:00 to 2018-10-03 06:24:59.999991-09:00, 629 time slots.\n",
      "\tmidnight:         2018-10-03 09:00:00\n",
      "\tsunset:           2018-10-03 04:17:58.161\n",
      "\tsunrise:          2018-10-03 16:04:09.713\n",
      "\t12° eve twilight: 2018-10-03 04:56:22.739\n",
      "\t12° mor twilight: 2018-10-03 15:25:43.156\n",
      "\tmoonrise:         2018-10-03 10:35:13.150\n",
      "\tmoonset:          2018-10-02 23:29:55.909\n"
     ]
    },
    {
     "data": {
      "text/plain": "<IPython.core.display.Markdown object>",
      "text/markdown": "## Night Idx: 1 "
     },
     "metadata": {},
     "output_type": "display_data"
    },
    {
     "data": {
      "text/plain": "<IPython.core.display.Markdown object>",
      "text/markdown": "### Site: Gemini South "
     },
     "metadata": {},
     "output_type": "display_data"
    },
    {
     "data": {
      "text/plain": "                             Start        Observation  Atom start  Atom end  \\\n0 2018-09-30 20:36:00.000005-03:00  GS-2018B-Q-223-30           0        77   \n1 2018-09-30 22:34:00.000005-03:00  GS-2018B-Q-104-21           0         1   \n2 2018-09-30 23:40:00.000005-03:00  GS-2018B-Q-105-92           0         1   \n3 2018-10-01 00:05:00.000005-03:00  GS-2018B-Q-223-18           0       136   \n4 2018-10-01 04:11:00.000005-03:00  GS-2018B-Q-102-34           0         6   \n5 2018-10-01 05:48:00.000005-03:00  GS-2018B-Q-223-31           0        23   \n\n   Length        Score  Instrument  \n0     119   609.005855  Flamingos2  \n1      66   403.369549      GMOS-S  \n2      22    24.273763      GMOS-S  \n3     253  1090.270877  Flamingos2  \n4      97   643.953526  Flamingos2  \n5      43   834.144459  Flamingos2  ",
      "text/html": "<div>\n<style scoped>\n    .dataframe tbody tr th:only-of-type {\n        vertical-align: middle;\n    }\n\n    .dataframe tbody tr th {\n        vertical-align: top;\n    }\n\n    .dataframe thead th {\n        text-align: right;\n    }\n</style>\n<table border=\"1\" class=\"dataframe\">\n  <thead>\n    <tr style=\"text-align: right;\">\n      <th></th>\n      <th>Start</th>\n      <th>Observation</th>\n      <th>Atom start</th>\n      <th>Atom end</th>\n      <th>Length</th>\n      <th>Score</th>\n      <th>Instrument</th>\n    </tr>\n  </thead>\n  <tbody>\n    <tr>\n      <th>0</th>\n      <td>2018-09-30 20:36:00.000005-03:00</td>\n      <td>GS-2018B-Q-223-30</td>\n      <td>0</td>\n      <td>77</td>\n      <td>119</td>\n      <td>609.005855</td>\n      <td>Flamingos2</td>\n    </tr>\n    <tr>\n      <th>1</th>\n      <td>2018-09-30 22:34:00.000005-03:00</td>\n      <td>GS-2018B-Q-104-21</td>\n      <td>0</td>\n      <td>1</td>\n      <td>66</td>\n      <td>403.369549</td>\n      <td>GMOS-S</td>\n    </tr>\n    <tr>\n      <th>2</th>\n      <td>2018-09-30 23:40:00.000005-03:00</td>\n      <td>GS-2018B-Q-105-92</td>\n      <td>0</td>\n      <td>1</td>\n      <td>22</td>\n      <td>24.273763</td>\n      <td>GMOS-S</td>\n    </tr>\n    <tr>\n      <th>3</th>\n      <td>2018-10-01 00:05:00.000005-03:00</td>\n      <td>GS-2018B-Q-223-18</td>\n      <td>0</td>\n      <td>136</td>\n      <td>253</td>\n      <td>1090.270877</td>\n      <td>Flamingos2</td>\n    </tr>\n    <tr>\n      <th>4</th>\n      <td>2018-10-01 04:11:00.000005-03:00</td>\n      <td>GS-2018B-Q-102-34</td>\n      <td>0</td>\n      <td>6</td>\n      <td>97</td>\n      <td>643.953526</td>\n      <td>Flamingos2</td>\n    </tr>\n    <tr>\n      <th>5</th>\n      <td>2018-10-01 05:48:00.000005-03:00</td>\n      <td>GS-2018B-Q-223-31</td>\n      <td>0</td>\n      <td>23</td>\n      <td>43</td>\n      <td>834.144459</td>\n      <td>Flamingos2</td>\n    </tr>\n  </tbody>\n</table>\n</div>"
     },
     "metadata": {},
     "output_type": "display_data"
    },
    {
     "data": {
      "text/plain": "<IPython.core.display.Markdown object>",
      "text/markdown": "Time loss: -6 min"
     },
     "metadata": {},
     "output_type": "display_data"
    },
    {
     "data": {
      "text/plain": "<IPython.core.display.Markdown object>",
      "text/markdown": "Plan_Score: 3605.0180284325806"
     },
     "metadata": {},
     "output_type": "display_data"
    },
    {
     "data": {
      "text/plain": "<IPython.core.display.Markdown object>",
      "text/markdown": "Number of ToOs: 0"
     },
     "metadata": {},
     "output_type": "display_data"
    },
    {
     "data": {
      "text/plain": "<IPython.core.display.Markdown object>",
      "text/markdown": "Schedule Observations by band"
     },
     "metadata": {},
     "output_type": "display_data"
    },
    {
     "data": {
      "text/plain": "<IPython.core.display.Markdown object>",
      "text/markdown": "Band 1         3"
     },
     "metadata": {},
     "output_type": "display_data"
    },
    {
     "data": {
      "text/plain": "<IPython.core.display.Markdown object>",
      "text/markdown": "Band 2         3"
     },
     "metadata": {},
     "output_type": "display_data"
    },
    {
     "data": {
      "text/plain": "<IPython.core.display.Markdown object>",
      "text/markdown": "Band 3         0"
     },
     "metadata": {},
     "output_type": "display_data"
    },
    {
     "data": {
      "text/plain": "<IPython.core.display.Markdown object>",
      "text/markdown": "Band 4         0"
     },
     "metadata": {},
     "output_type": "display_data"
    },
    {
     "data": {
      "text/plain": "<IPython.core.display.Markdown object>",
      "text/markdown": "### Site: Gemini North "
     },
     "metadata": {},
     "output_type": "display_data"
    },
    {
     "data": {
      "text/plain": "                              Start          Observation  Atom start  \\\n0  2018-09-30 20:16:00.000017-09:00    GN-2018B-Q-230-11           0   \n1  2018-09-30 23:54:00.000017-09:00    GN-2018B-Q-104-10           0   \n2  2018-10-01 00:52:00.000017-09:00     GN-2018B-Q-903-8           0   \n3  2018-10-01 01:15:00.000017-09:00     GN-2018B-Q-230-7           0   \n4  2018-10-01 01:52:00.000017-09:00  GN-2018B-Q-101-1445           0   \n5  2018-10-01 02:10:00.000017-09:00  GN-2018B-Q-101-1386           0   \n6  2018-10-01 03:12:00.000017-09:00  GN-2018B-Q-101-1405           0   \n7  2018-10-01 03:30:00.000017-09:00  GN-2018B-Q-101-1316           0   \n8  2018-10-01 04:32:00.000017-09:00  GN-2018B-Q-101-1449           0   \n9  2018-10-01 04:50:00.000017-09:00  GN-2018B-Q-101-1393           0   \n10 2018-10-01 05:52:00.000017-09:00    GN-2018B-Q-133-83           0   \n11 2018-10-01 06:09:00.000017-09:00    GN-2018B-Q-133-18           0   \n\n    Atom end  Length        Score Instrument  \n0         14     233  4376.426604     GMOS-N  \n1          6      59   243.526152     GMOS-N  \n2          3      23    17.871510     GMOS-N  \n3          3      22     9.106515     GMOS-N  \n4          3      18    34.740559      GNIRS  \n5          1      62   135.073603      GNIRS  \n6          3      18    42.012185      GNIRS  \n7          1      62   152.141703      GNIRS  \n8          3      18    46.034805      GNIRS  \n9          1      62   162.025379      GNIRS  \n10         3      17    47.283132      GNIRS  \n11         3      17    53.196136      GNIRS  ",
      "text/html": "<div>\n<style scoped>\n    .dataframe tbody tr th:only-of-type {\n        vertical-align: middle;\n    }\n\n    .dataframe tbody tr th {\n        vertical-align: top;\n    }\n\n    .dataframe thead th {\n        text-align: right;\n    }\n</style>\n<table border=\"1\" class=\"dataframe\">\n  <thead>\n    <tr style=\"text-align: right;\">\n      <th></th>\n      <th>Start</th>\n      <th>Observation</th>\n      <th>Atom start</th>\n      <th>Atom end</th>\n      <th>Length</th>\n      <th>Score</th>\n      <th>Instrument</th>\n    </tr>\n  </thead>\n  <tbody>\n    <tr>\n      <th>0</th>\n      <td>2018-09-30 20:16:00.000017-09:00</td>\n      <td>GN-2018B-Q-230-11</td>\n      <td>0</td>\n      <td>14</td>\n      <td>233</td>\n      <td>4376.426604</td>\n      <td>GMOS-N</td>\n    </tr>\n    <tr>\n      <th>1</th>\n      <td>2018-09-30 23:54:00.000017-09:00</td>\n      <td>GN-2018B-Q-104-10</td>\n      <td>0</td>\n      <td>6</td>\n      <td>59</td>\n      <td>243.526152</td>\n      <td>GMOS-N</td>\n    </tr>\n    <tr>\n      <th>2</th>\n      <td>2018-10-01 00:52:00.000017-09:00</td>\n      <td>GN-2018B-Q-903-8</td>\n      <td>0</td>\n      <td>3</td>\n      <td>23</td>\n      <td>17.871510</td>\n      <td>GMOS-N</td>\n    </tr>\n    <tr>\n      <th>3</th>\n      <td>2018-10-01 01:15:00.000017-09:00</td>\n      <td>GN-2018B-Q-230-7</td>\n      <td>0</td>\n      <td>3</td>\n      <td>22</td>\n      <td>9.106515</td>\n      <td>GMOS-N</td>\n    </tr>\n    <tr>\n      <th>4</th>\n      <td>2018-10-01 01:52:00.000017-09:00</td>\n      <td>GN-2018B-Q-101-1445</td>\n      <td>0</td>\n      <td>3</td>\n      <td>18</td>\n      <td>34.740559</td>\n      <td>GNIRS</td>\n    </tr>\n    <tr>\n      <th>5</th>\n      <td>2018-10-01 02:10:00.000017-09:00</td>\n      <td>GN-2018B-Q-101-1386</td>\n      <td>0</td>\n      <td>1</td>\n      <td>62</td>\n      <td>135.073603</td>\n      <td>GNIRS</td>\n    </tr>\n    <tr>\n      <th>6</th>\n      <td>2018-10-01 03:12:00.000017-09:00</td>\n      <td>GN-2018B-Q-101-1405</td>\n      <td>0</td>\n      <td>3</td>\n      <td>18</td>\n      <td>42.012185</td>\n      <td>GNIRS</td>\n    </tr>\n    <tr>\n      <th>7</th>\n      <td>2018-10-01 03:30:00.000017-09:00</td>\n      <td>GN-2018B-Q-101-1316</td>\n      <td>0</td>\n      <td>1</td>\n      <td>62</td>\n      <td>152.141703</td>\n      <td>GNIRS</td>\n    </tr>\n    <tr>\n      <th>8</th>\n      <td>2018-10-01 04:32:00.000017-09:00</td>\n      <td>GN-2018B-Q-101-1449</td>\n      <td>0</td>\n      <td>3</td>\n      <td>18</td>\n      <td>46.034805</td>\n      <td>GNIRS</td>\n    </tr>\n    <tr>\n      <th>9</th>\n      <td>2018-10-01 04:50:00.000017-09:00</td>\n      <td>GN-2018B-Q-101-1393</td>\n      <td>0</td>\n      <td>1</td>\n      <td>62</td>\n      <td>162.025379</td>\n      <td>GNIRS</td>\n    </tr>\n    <tr>\n      <th>10</th>\n      <td>2018-10-01 05:52:00.000017-09:00</td>\n      <td>GN-2018B-Q-133-83</td>\n      <td>0</td>\n      <td>3</td>\n      <td>17</td>\n      <td>47.283132</td>\n      <td>GNIRS</td>\n    </tr>\n    <tr>\n      <th>11</th>\n      <td>2018-10-01 06:09:00.000017-09:00</td>\n      <td>GN-2018B-Q-133-18</td>\n      <td>0</td>\n      <td>3</td>\n      <td>17</td>\n      <td>53.196136</td>\n      <td>GNIRS</td>\n    </tr>\n  </tbody>\n</table>\n</div>"
     },
     "metadata": {},
     "output_type": "display_data"
    },
    {
     "data": {
      "text/plain": "<IPython.core.display.Markdown object>",
      "text/markdown": "Time loss: 16 min"
     },
     "metadata": {},
     "output_type": "display_data"
    },
    {
     "data": {
      "text/plain": "<IPython.core.display.Markdown object>",
      "text/markdown": "Plan_Score: 5319.4382823763"
     },
     "metadata": {},
     "output_type": "display_data"
    },
    {
     "data": {
      "text/plain": "<IPython.core.display.Markdown object>",
      "text/markdown": "Number of ToOs: 0"
     },
     "metadata": {},
     "output_type": "display_data"
    },
    {
     "data": {
      "text/plain": "<IPython.core.display.Markdown object>",
      "text/markdown": "Schedule Observations by band"
     },
     "metadata": {},
     "output_type": "display_data"
    },
    {
     "data": {
      "text/plain": "<IPython.core.display.Markdown object>",
      "text/markdown": "Band 1         10"
     },
     "metadata": {},
     "output_type": "display_data"
    },
    {
     "data": {
      "text/plain": "<IPython.core.display.Markdown object>",
      "text/markdown": "Band 2         2"
     },
     "metadata": {},
     "output_type": "display_data"
    },
    {
     "data": {
      "text/plain": "<IPython.core.display.Markdown object>",
      "text/markdown": "Band 3         0"
     },
     "metadata": {},
     "output_type": "display_data"
    },
    {
     "data": {
      "text/plain": "<IPython.core.display.Markdown object>",
      "text/markdown": "Band 4         0"
     },
     "metadata": {},
     "output_type": "display_data"
    },
    {
     "data": {
      "text/plain": "<IPython.core.display.Markdown object>",
      "text/markdown": "---"
     },
     "metadata": {},
     "output_type": "display_data"
    },
    {
     "data": {
      "text/plain": "<IPython.core.display.Markdown object>",
      "text/markdown": "## Night Idx: 2 "
     },
     "metadata": {},
     "output_type": "display_data"
    },
    {
     "data": {
      "text/plain": "<IPython.core.display.Markdown object>",
      "text/markdown": "### Site: Gemini South "
     },
     "metadata": {},
     "output_type": "display_data"
    },
    {
     "data": {
      "text/plain": "                             Start        Observation  Atom start  Atom end  \\\n0 2018-10-01 20:37:00.000002-03:00  GS-2018B-Q-223-30          78       181   \n1 2018-10-01 23:00:00.000002-03:00  GS-2018B-Q-223-32           0       129   \n2 2018-10-02 02:09:00.000002-03:00   GS-2018B-Q-104-7           0         0   \n3 2018-10-02 02:53:00.000002-03:00  GS-2018B-Q-223-18         137       187   \n4 2018-10-02 04:08:00.000002-03:00  GS-2018B-Q-223-34           0        65   \n5 2018-10-02 05:45:00.000002-03:00  GS-2018B-Q-223-31          24        49   \n\n   Length        Score  Instrument  \n0     143  1331.667120  Flamingos2  \n1     196  1799.309523  Flamingos2  \n2      27    84.626243      GMOS-S  \n3      75   671.882810  Flamingos2  \n4     110  1582.404029  Flamingos2  \n5      44  1639.009073  Flamingos2  ",
      "text/html": "<div>\n<style scoped>\n    .dataframe tbody tr th:only-of-type {\n        vertical-align: middle;\n    }\n\n    .dataframe tbody tr th {\n        vertical-align: top;\n    }\n\n    .dataframe thead th {\n        text-align: right;\n    }\n</style>\n<table border=\"1\" class=\"dataframe\">\n  <thead>\n    <tr style=\"text-align: right;\">\n      <th></th>\n      <th>Start</th>\n      <th>Observation</th>\n      <th>Atom start</th>\n      <th>Atom end</th>\n      <th>Length</th>\n      <th>Score</th>\n      <th>Instrument</th>\n    </tr>\n  </thead>\n  <tbody>\n    <tr>\n      <th>0</th>\n      <td>2018-10-01 20:37:00.000002-03:00</td>\n      <td>GS-2018B-Q-223-30</td>\n      <td>78</td>\n      <td>181</td>\n      <td>143</td>\n      <td>1331.667120</td>\n      <td>Flamingos2</td>\n    </tr>\n    <tr>\n      <th>1</th>\n      <td>2018-10-01 23:00:00.000002-03:00</td>\n      <td>GS-2018B-Q-223-32</td>\n      <td>0</td>\n      <td>129</td>\n      <td>196</td>\n      <td>1799.309523</td>\n      <td>Flamingos2</td>\n    </tr>\n    <tr>\n      <th>2</th>\n      <td>2018-10-02 02:09:00.000002-03:00</td>\n      <td>GS-2018B-Q-104-7</td>\n      <td>0</td>\n      <td>0</td>\n      <td>27</td>\n      <td>84.626243</td>\n      <td>GMOS-S</td>\n    </tr>\n    <tr>\n      <th>3</th>\n      <td>2018-10-02 02:53:00.000002-03:00</td>\n      <td>GS-2018B-Q-223-18</td>\n      <td>137</td>\n      <td>187</td>\n      <td>75</td>\n      <td>671.882810</td>\n      <td>Flamingos2</td>\n    </tr>\n    <tr>\n      <th>4</th>\n      <td>2018-10-02 04:08:00.000002-03:00</td>\n      <td>GS-2018B-Q-223-34</td>\n      <td>0</td>\n      <td>65</td>\n      <td>110</td>\n      <td>1582.404029</td>\n      <td>Flamingos2</td>\n    </tr>\n    <tr>\n      <th>5</th>\n      <td>2018-10-02 05:45:00.000002-03:00</td>\n      <td>GS-2018B-Q-223-31</td>\n      <td>24</td>\n      <td>49</td>\n      <td>44</td>\n      <td>1639.009073</td>\n      <td>Flamingos2</td>\n    </tr>\n  </tbody>\n</table>\n</div>"
     },
     "metadata": {},
     "output_type": "display_data"
    },
    {
     "data": {
      "text/plain": "<IPython.core.display.Markdown object>",
      "text/markdown": "Time loss: -4 min"
     },
     "metadata": {},
     "output_type": "display_data"
    },
    {
     "data": {
      "text/plain": "<IPython.core.display.Markdown object>",
      "text/markdown": "Plan_Score: 7108.898798250094"
     },
     "metadata": {},
     "output_type": "display_data"
    },
    {
     "data": {
      "text/plain": "<IPython.core.display.Markdown object>",
      "text/markdown": "Number of ToOs: 0"
     },
     "metadata": {},
     "output_type": "display_data"
    },
    {
     "data": {
      "text/plain": "<IPython.core.display.Markdown object>",
      "text/markdown": "Schedule Observations by band"
     },
     "metadata": {},
     "output_type": "display_data"
    },
    {
     "data": {
      "text/plain": "<IPython.core.display.Markdown object>",
      "text/markdown": "Band 1         1"
     },
     "metadata": {},
     "output_type": "display_data"
    },
    {
     "data": {
      "text/plain": "<IPython.core.display.Markdown object>",
      "text/markdown": "Band 2         5"
     },
     "metadata": {},
     "output_type": "display_data"
    },
    {
     "data": {
      "text/plain": "<IPython.core.display.Markdown object>",
      "text/markdown": "Band 3         0"
     },
     "metadata": {},
     "output_type": "display_data"
    },
    {
     "data": {
      "text/plain": "<IPython.core.display.Markdown object>",
      "text/markdown": "Band 4         0"
     },
     "metadata": {},
     "output_type": "display_data"
    },
    {
     "data": {
      "text/plain": "<IPython.core.display.Markdown object>",
      "text/markdown": "### Site: Gemini North "
     },
     "metadata": {},
     "output_type": "display_data"
    },
    {
     "data": {
      "text/plain": "                              Start          Observation  Atom start  \\\n0  2018-10-01 20:03:59.999980-09:00     GN-2018B-Q-108-5           0   \n1  2018-10-01 20:23:59.999980-09:00    GN-2018B-Q-230-11          15   \n2  2018-10-02 00:59:59.999980-09:00     GN-2018B-Q-103-7           0   \n3  2018-10-02 01:28:59.999980-09:00  GN-2018B-Q-101-1451           0   \n4  2018-10-02 01:47:59.999980-09:00  GN-2018B-Q-101-1447           0   \n5  2018-10-02 02:06:59.999980-09:00  GN-2018B-Q-101-1421           0   \n6  2018-10-02 02:24:59.999980-09:00  GN-2018B-Q-101-1344           0   \n7  2018-10-02 03:26:59.999980-09:00  GN-2018B-Q-101-1433           0   \n8  2018-10-02 03:44:59.999980-09:00  GN-2018B-Q-101-1478           0   \n9  2018-10-02 04:48:59.999980-09:00  GN-2018B-Q-101-1443           0   \n10 2018-10-02 05:07:59.999980-09:00  GN-2018B-Q-101-1379           0   \n11 2018-10-02 06:08:59.999980-09:00    GN-2018B-Q-133-76           0   \n\n    Atom end  Length        Score Instrument  \n0          0      20    23.602973     GMOS-N  \n1         32     276  7575.644348     GMOS-N  \n2          0      18    18.085606     GMOS-N  \n3          3      19    25.894635      GNIRS  \n4          3      19    28.669140      GNIRS  \n5          3      18    71.204299      GNIRS  \n6          1      62   269.975450      GNIRS  \n7          3      18    76.340835      GNIRS  \n8          1      62   272.461223      GNIRS  \n9          3      19    78.040495      GNIRS  \n10         1      62   250.891891      GNIRS  \n11         3      17    80.553161      GNIRS  ",
      "text/html": "<div>\n<style scoped>\n    .dataframe tbody tr th:only-of-type {\n        vertical-align: middle;\n    }\n\n    .dataframe tbody tr th {\n        vertical-align: top;\n    }\n\n    .dataframe thead th {\n        text-align: right;\n    }\n</style>\n<table border=\"1\" class=\"dataframe\">\n  <thead>\n    <tr style=\"text-align: right;\">\n      <th></th>\n      <th>Start</th>\n      <th>Observation</th>\n      <th>Atom start</th>\n      <th>Atom end</th>\n      <th>Length</th>\n      <th>Score</th>\n      <th>Instrument</th>\n    </tr>\n  </thead>\n  <tbody>\n    <tr>\n      <th>0</th>\n      <td>2018-10-01 20:03:59.999980-09:00</td>\n      <td>GN-2018B-Q-108-5</td>\n      <td>0</td>\n      <td>0</td>\n      <td>20</td>\n      <td>23.602973</td>\n      <td>GMOS-N</td>\n    </tr>\n    <tr>\n      <th>1</th>\n      <td>2018-10-01 20:23:59.999980-09:00</td>\n      <td>GN-2018B-Q-230-11</td>\n      <td>15</td>\n      <td>32</td>\n      <td>276</td>\n      <td>7575.644348</td>\n      <td>GMOS-N</td>\n    </tr>\n    <tr>\n      <th>2</th>\n      <td>2018-10-02 00:59:59.999980-09:00</td>\n      <td>GN-2018B-Q-103-7</td>\n      <td>0</td>\n      <td>0</td>\n      <td>18</td>\n      <td>18.085606</td>\n      <td>GMOS-N</td>\n    </tr>\n    <tr>\n      <th>3</th>\n      <td>2018-10-02 01:28:59.999980-09:00</td>\n      <td>GN-2018B-Q-101-1451</td>\n      <td>0</td>\n      <td>3</td>\n      <td>19</td>\n      <td>25.894635</td>\n      <td>GNIRS</td>\n    </tr>\n    <tr>\n      <th>4</th>\n      <td>2018-10-02 01:47:59.999980-09:00</td>\n      <td>GN-2018B-Q-101-1447</td>\n      <td>0</td>\n      <td>3</td>\n      <td>19</td>\n      <td>28.669140</td>\n      <td>GNIRS</td>\n    </tr>\n    <tr>\n      <th>5</th>\n      <td>2018-10-02 02:06:59.999980-09:00</td>\n      <td>GN-2018B-Q-101-1421</td>\n      <td>0</td>\n      <td>3</td>\n      <td>18</td>\n      <td>71.204299</td>\n      <td>GNIRS</td>\n    </tr>\n    <tr>\n      <th>6</th>\n      <td>2018-10-02 02:24:59.999980-09:00</td>\n      <td>GN-2018B-Q-101-1344</td>\n      <td>0</td>\n      <td>1</td>\n      <td>62</td>\n      <td>269.975450</td>\n      <td>GNIRS</td>\n    </tr>\n    <tr>\n      <th>7</th>\n      <td>2018-10-02 03:26:59.999980-09:00</td>\n      <td>GN-2018B-Q-101-1433</td>\n      <td>0</td>\n      <td>3</td>\n      <td>18</td>\n      <td>76.340835</td>\n      <td>GNIRS</td>\n    </tr>\n    <tr>\n      <th>8</th>\n      <td>2018-10-02 03:44:59.999980-09:00</td>\n      <td>GN-2018B-Q-101-1478</td>\n      <td>0</td>\n      <td>1</td>\n      <td>62</td>\n      <td>272.461223</td>\n      <td>GNIRS</td>\n    </tr>\n    <tr>\n      <th>9</th>\n      <td>2018-10-02 04:48:59.999980-09:00</td>\n      <td>GN-2018B-Q-101-1443</td>\n      <td>0</td>\n      <td>3</td>\n      <td>19</td>\n      <td>78.040495</td>\n      <td>GNIRS</td>\n    </tr>\n    <tr>\n      <th>10</th>\n      <td>2018-10-02 05:07:59.999980-09:00</td>\n      <td>GN-2018B-Q-101-1379</td>\n      <td>0</td>\n      <td>1</td>\n      <td>62</td>\n      <td>250.891891</td>\n      <td>GNIRS</td>\n    </tr>\n    <tr>\n      <th>11</th>\n      <td>2018-10-02 06:08:59.999980-09:00</td>\n      <td>GN-2018B-Q-133-76</td>\n      <td>0</td>\n      <td>3</td>\n      <td>17</td>\n      <td>80.553161</td>\n      <td>GNIRS</td>\n    </tr>\n  </tbody>\n</table>\n</div>"
     },
     "metadata": {},
     "output_type": "display_data"
    },
    {
     "data": {
      "text/plain": "<IPython.core.display.Markdown object>",
      "text/markdown": "Time loss: 18 min"
     },
     "metadata": {},
     "output_type": "display_data"
    },
    {
     "data": {
      "text/plain": "<IPython.core.display.Markdown object>",
      "text/markdown": "Plan_Score: 8771.364055924098"
     },
     "metadata": {},
     "output_type": "display_data"
    },
    {
     "data": {
      "text/plain": "<IPython.core.display.Markdown object>",
      "text/markdown": "Number of ToOs: 0"
     },
     "metadata": {},
     "output_type": "display_data"
    },
    {
     "data": {
      "text/plain": "<IPython.core.display.Markdown object>",
      "text/markdown": "Schedule Observations by band"
     },
     "metadata": {},
     "output_type": "display_data"
    },
    {
     "data": {
      "text/plain": "<IPython.core.display.Markdown object>",
      "text/markdown": "Band 1         11"
     },
     "metadata": {},
     "output_type": "display_data"
    },
    {
     "data": {
      "text/plain": "<IPython.core.display.Markdown object>",
      "text/markdown": "Band 2         1"
     },
     "metadata": {},
     "output_type": "display_data"
    },
    {
     "data": {
      "text/plain": "<IPython.core.display.Markdown object>",
      "text/markdown": "Band 3         0"
     },
     "metadata": {},
     "output_type": "display_data"
    },
    {
     "data": {
      "text/plain": "<IPython.core.display.Markdown object>",
      "text/markdown": "Band 4         0"
     },
     "metadata": {},
     "output_type": "display_data"
    },
    {
     "data": {
      "text/plain": "<IPython.core.display.Markdown object>",
      "text/markdown": "---"
     },
     "metadata": {},
     "output_type": "display_data"
    },
    {
     "data": {
      "text/plain": "<IPython.core.display.Markdown object>",
      "text/markdown": "## Night Idx: 3 "
     },
     "metadata": {},
     "output_type": "display_data"
    },
    {
     "data": {
      "text/plain": "<IPython.core.display.Markdown object>",
      "text/markdown": "### Site: Gemini South "
     },
     "metadata": {},
     "output_type": "display_data"
    },
    {
     "data": {
      "text/plain": "                             Start        Observation  Atom start  Atom end  \\\n0 2018-10-02 22:51:59.999998-03:00  GS-2018B-Q-223-32         130       180   \n1 2018-10-02 23:52:59.999998-03:00  GS-2018B-Q-105-90           0         1   \n2 2018-10-03 00:21:59.999998-03:00   GS-2018B-Q-105-9           0         1   \n3 2018-10-03 00:42:59.999998-03:00  GS-2018B-Q-105-87           0         1   \n4 2018-10-03 01:17:59.999998-03:00   GS-2018B-Q-108-8           0         3   \n5 2018-10-03 02:17:59.999998-03:00  GS-2018B-Q-105-14           0         1   \n6 2018-10-03 02:38:59.999998-03:00   GS-2018B-Q-120-8           0         3   \n7 2018-10-03 03:02:59.999998-03:00  GS-2018B-Q-223-33           0        33   \n8 2018-10-03 04:03:59.999998-03:00  GS-2018B-Q-223-34          66       136   \n9 2018-10-03 05:40:59.999998-03:00  GS-2018B-Q-223-31          50        80   \n\n   Length        Score  Instrument  \n0      61  1395.797679  Flamingos2  \n1      29   109.568158      GMOS-S  \n2      21    57.099003      GMOS-S  \n3      20    51.114662      GMOS-S  \n4      24    62.175894      GMOS-S  \n5      21    47.821084      GMOS-S  \n6      24    74.259592      GMOS-S  \n7      69  1337.735153  Flamingos2  \n8      98  4151.009452  Flamingos2  \n9      47  5556.941078  Flamingos2  ",
      "text/html": "<div>\n<style scoped>\n    .dataframe tbody tr th:only-of-type {\n        vertical-align: middle;\n    }\n\n    .dataframe tbody tr th {\n        vertical-align: top;\n    }\n\n    .dataframe thead th {\n        text-align: right;\n    }\n</style>\n<table border=\"1\" class=\"dataframe\">\n  <thead>\n    <tr style=\"text-align: right;\">\n      <th></th>\n      <th>Start</th>\n      <th>Observation</th>\n      <th>Atom start</th>\n      <th>Atom end</th>\n      <th>Length</th>\n      <th>Score</th>\n      <th>Instrument</th>\n    </tr>\n  </thead>\n  <tbody>\n    <tr>\n      <th>0</th>\n      <td>2018-10-02 22:51:59.999998-03:00</td>\n      <td>GS-2018B-Q-223-32</td>\n      <td>130</td>\n      <td>180</td>\n      <td>61</td>\n      <td>1395.797679</td>\n      <td>Flamingos2</td>\n    </tr>\n    <tr>\n      <th>1</th>\n      <td>2018-10-02 23:52:59.999998-03:00</td>\n      <td>GS-2018B-Q-105-90</td>\n      <td>0</td>\n      <td>1</td>\n      <td>29</td>\n      <td>109.568158</td>\n      <td>GMOS-S</td>\n    </tr>\n    <tr>\n      <th>2</th>\n      <td>2018-10-03 00:21:59.999998-03:00</td>\n      <td>GS-2018B-Q-105-9</td>\n      <td>0</td>\n      <td>1</td>\n      <td>21</td>\n      <td>57.099003</td>\n      <td>GMOS-S</td>\n    </tr>\n    <tr>\n      <th>3</th>\n      <td>2018-10-03 00:42:59.999998-03:00</td>\n      <td>GS-2018B-Q-105-87</td>\n      <td>0</td>\n      <td>1</td>\n      <td>20</td>\n      <td>51.114662</td>\n      <td>GMOS-S</td>\n    </tr>\n    <tr>\n      <th>4</th>\n      <td>2018-10-03 01:17:59.999998-03:00</td>\n      <td>GS-2018B-Q-108-8</td>\n      <td>0</td>\n      <td>3</td>\n      <td>24</td>\n      <td>62.175894</td>\n      <td>GMOS-S</td>\n    </tr>\n    <tr>\n      <th>5</th>\n      <td>2018-10-03 02:17:59.999998-03:00</td>\n      <td>GS-2018B-Q-105-14</td>\n      <td>0</td>\n      <td>1</td>\n      <td>21</td>\n      <td>47.821084</td>\n      <td>GMOS-S</td>\n    </tr>\n    <tr>\n      <th>6</th>\n      <td>2018-10-03 02:38:59.999998-03:00</td>\n      <td>GS-2018B-Q-120-8</td>\n      <td>0</td>\n      <td>3</td>\n      <td>24</td>\n      <td>74.259592</td>\n      <td>GMOS-S</td>\n    </tr>\n    <tr>\n      <th>7</th>\n      <td>2018-10-03 03:02:59.999998-03:00</td>\n      <td>GS-2018B-Q-223-33</td>\n      <td>0</td>\n      <td>33</td>\n      <td>69</td>\n      <td>1337.735153</td>\n      <td>Flamingos2</td>\n    </tr>\n    <tr>\n      <th>8</th>\n      <td>2018-10-03 04:03:59.999998-03:00</td>\n      <td>GS-2018B-Q-223-34</td>\n      <td>66</td>\n      <td>136</td>\n      <td>98</td>\n      <td>4151.009452</td>\n      <td>Flamingos2</td>\n    </tr>\n    <tr>\n      <th>9</th>\n      <td>2018-10-03 05:40:59.999998-03:00</td>\n      <td>GS-2018B-Q-223-31</td>\n      <td>50</td>\n      <td>80</td>\n      <td>47</td>\n      <td>5556.941078</td>\n      <td>Flamingos2</td>\n    </tr>\n  </tbody>\n</table>\n</div>"
     },
     "metadata": {},
     "output_type": "display_data"
    },
    {
     "data": {
      "text/plain": "<IPython.core.display.Markdown object>",
      "text/markdown": "Time loss: 175 min"
     },
     "metadata": {},
     "output_type": "display_data"
    },
    {
     "data": {
      "text/plain": "<IPython.core.display.Markdown object>",
      "text/markdown": "Plan_Score: 12843.521755210228"
     },
     "metadata": {},
     "output_type": "display_data"
    },
    {
     "data": {
      "text/plain": "<IPython.core.display.Markdown object>",
      "text/markdown": "Number of ToOs: 0"
     },
     "metadata": {},
     "output_type": "display_data"
    },
    {
     "data": {
      "text/plain": "<IPython.core.display.Markdown object>",
      "text/markdown": "Schedule Observations by band"
     },
     "metadata": {},
     "output_type": "display_data"
    },
    {
     "data": {
      "text/plain": "<IPython.core.display.Markdown object>",
      "text/markdown": "Band 1         6"
     },
     "metadata": {},
     "output_type": "display_data"
    },
    {
     "data": {
      "text/plain": "<IPython.core.display.Markdown object>",
      "text/markdown": "Band 2         4"
     },
     "metadata": {},
     "output_type": "display_data"
    },
    {
     "data": {
      "text/plain": "<IPython.core.display.Markdown object>",
      "text/markdown": "Band 3         0"
     },
     "metadata": {},
     "output_type": "display_data"
    },
    {
     "data": {
      "text/plain": "<IPython.core.display.Markdown object>",
      "text/markdown": "Band 4         0"
     },
     "metadata": {},
     "output_type": "display_data"
    },
    {
     "data": {
      "text/plain": "<IPython.core.display.Markdown object>",
      "text/markdown": "### Site: Gemini North "
     },
     "metadata": {},
     "output_type": "display_data"
    },
    {
     "data": {
      "text/plain": "                              Start          Observation  Atom start  \\\n0  2018-10-02 19:56:59.999984-09:00    GN-2018B-Q-104-11           0   \n1  2018-10-02 21:09:59.999984-09:00    GN-2018B-Q-104-12           0   \n2  2018-10-02 22:10:59.999984-09:00     GN-2018B-Q-104-7           0   \n3  2018-10-02 23:31:59.999984-09:00    GN-2018B-Q-104-10           7   \n4  2018-10-03 00:00:59.999984-09:00    GN-2018B-Q-104-12           8   \n5  2018-10-03 00:21:59.999984-09:00    GN-2018B-Q-303-46           0   \n6  2018-10-03 01:07:59.999984-09:00     GN-2018B-Q-223-5           0   \n7  2018-10-03 01:27:59.999984-09:00  GN-2018B-Q-101-1441           0   \n8  2018-10-03 01:45:59.999984-09:00  GN-2018B-Q-101-1423           0   \n9  2018-10-03 02:04:59.999984-09:00  GN-2018B-Q-101-1435           0   \n10 2018-10-03 02:24:59.999984-09:00  GN-2018B-Q-101-1429           0   \n11 2018-10-03 02:44:59.999984-09:00  GN-2018B-Q-101-1358           0   \n12 2018-10-03 03:45:59.999984-09:00  GN-2018B-Q-101-1477           0   \n13 2018-10-03 04:47:59.999984-09:00  GN-2018B-Q-101-1453           0   \n14 2018-10-03 05:05:59.999984-09:00  GN-2018B-Q-101-1460           0   \n15 2018-10-03 05:23:59.999984-09:00  GN-2018B-Q-101-1457           0   \n\n    Atom end  Length        Score Instrument  \n0          1      73  3729.545173     GMOS-N  \n1          7      66  1205.632242     GMOS-N  \n2          9      81  1287.130120     GMOS-N  \n3          9      29   544.465149     GMOS-N  \n4          9      21   405.328566     GMOS-N  \n5          4      56    23.689272     GMOS-N  \n6          0      20    12.638622     GMOS-N  \n7          3      18    77.042613      GNIRS  \n8          3      19    82.586798      GNIRS  \n9          1      20   103.807238      GNIRS  \n10         1      20   241.484556      GNIRS  \n11         1      62   807.195689      GNIRS  \n12         1      62   768.076942      GNIRS  \n13         3      18   225.195306      GNIRS  \n14         3      18   201.840687      GNIRS  \n15         1      62   675.366047      GNIRS  ",
      "text/html": "<div>\n<style scoped>\n    .dataframe tbody tr th:only-of-type {\n        vertical-align: middle;\n    }\n\n    .dataframe tbody tr th {\n        vertical-align: top;\n    }\n\n    .dataframe thead th {\n        text-align: right;\n    }\n</style>\n<table border=\"1\" class=\"dataframe\">\n  <thead>\n    <tr style=\"text-align: right;\">\n      <th></th>\n      <th>Start</th>\n      <th>Observation</th>\n      <th>Atom start</th>\n      <th>Atom end</th>\n      <th>Length</th>\n      <th>Score</th>\n      <th>Instrument</th>\n    </tr>\n  </thead>\n  <tbody>\n    <tr>\n      <th>0</th>\n      <td>2018-10-02 19:56:59.999984-09:00</td>\n      <td>GN-2018B-Q-104-11</td>\n      <td>0</td>\n      <td>1</td>\n      <td>73</td>\n      <td>3729.545173</td>\n      <td>GMOS-N</td>\n    </tr>\n    <tr>\n      <th>1</th>\n      <td>2018-10-02 21:09:59.999984-09:00</td>\n      <td>GN-2018B-Q-104-12</td>\n      <td>0</td>\n      <td>7</td>\n      <td>66</td>\n      <td>1205.632242</td>\n      <td>GMOS-N</td>\n    </tr>\n    <tr>\n      <th>2</th>\n      <td>2018-10-02 22:10:59.999984-09:00</td>\n      <td>GN-2018B-Q-104-7</td>\n      <td>0</td>\n      <td>9</td>\n      <td>81</td>\n      <td>1287.130120</td>\n      <td>GMOS-N</td>\n    </tr>\n    <tr>\n      <th>3</th>\n      <td>2018-10-02 23:31:59.999984-09:00</td>\n      <td>GN-2018B-Q-104-10</td>\n      <td>7</td>\n      <td>9</td>\n      <td>29</td>\n      <td>544.465149</td>\n      <td>GMOS-N</td>\n    </tr>\n    <tr>\n      <th>4</th>\n      <td>2018-10-03 00:00:59.999984-09:00</td>\n      <td>GN-2018B-Q-104-12</td>\n      <td>8</td>\n      <td>9</td>\n      <td>21</td>\n      <td>405.328566</td>\n      <td>GMOS-N</td>\n    </tr>\n    <tr>\n      <th>5</th>\n      <td>2018-10-03 00:21:59.999984-09:00</td>\n      <td>GN-2018B-Q-303-46</td>\n      <td>0</td>\n      <td>4</td>\n      <td>56</td>\n      <td>23.689272</td>\n      <td>GMOS-N</td>\n    </tr>\n    <tr>\n      <th>6</th>\n      <td>2018-10-03 01:07:59.999984-09:00</td>\n      <td>GN-2018B-Q-223-5</td>\n      <td>0</td>\n      <td>0</td>\n      <td>20</td>\n      <td>12.638622</td>\n      <td>GMOS-N</td>\n    </tr>\n    <tr>\n      <th>7</th>\n      <td>2018-10-03 01:27:59.999984-09:00</td>\n      <td>GN-2018B-Q-101-1441</td>\n      <td>0</td>\n      <td>3</td>\n      <td>18</td>\n      <td>77.042613</td>\n      <td>GNIRS</td>\n    </tr>\n    <tr>\n      <th>8</th>\n      <td>2018-10-03 01:45:59.999984-09:00</td>\n      <td>GN-2018B-Q-101-1423</td>\n      <td>0</td>\n      <td>3</td>\n      <td>19</td>\n      <td>82.586798</td>\n      <td>GNIRS</td>\n    </tr>\n    <tr>\n      <th>9</th>\n      <td>2018-10-03 02:04:59.999984-09:00</td>\n      <td>GN-2018B-Q-101-1435</td>\n      <td>0</td>\n      <td>1</td>\n      <td>20</td>\n      <td>103.807238</td>\n      <td>GNIRS</td>\n    </tr>\n    <tr>\n      <th>10</th>\n      <td>2018-10-03 02:24:59.999984-09:00</td>\n      <td>GN-2018B-Q-101-1429</td>\n      <td>0</td>\n      <td>1</td>\n      <td>20</td>\n      <td>241.484556</td>\n      <td>GNIRS</td>\n    </tr>\n    <tr>\n      <th>11</th>\n      <td>2018-10-03 02:44:59.999984-09:00</td>\n      <td>GN-2018B-Q-101-1358</td>\n      <td>0</td>\n      <td>1</td>\n      <td>62</td>\n      <td>807.195689</td>\n      <td>GNIRS</td>\n    </tr>\n    <tr>\n      <th>12</th>\n      <td>2018-10-03 03:45:59.999984-09:00</td>\n      <td>GN-2018B-Q-101-1477</td>\n      <td>0</td>\n      <td>1</td>\n      <td>62</td>\n      <td>768.076942</td>\n      <td>GNIRS</td>\n    </tr>\n    <tr>\n      <th>13</th>\n      <td>2018-10-03 04:47:59.999984-09:00</td>\n      <td>GN-2018B-Q-101-1453</td>\n      <td>0</td>\n      <td>3</td>\n      <td>18</td>\n      <td>225.195306</td>\n      <td>GNIRS</td>\n    </tr>\n    <tr>\n      <th>14</th>\n      <td>2018-10-03 05:05:59.999984-09:00</td>\n      <td>GN-2018B-Q-101-1460</td>\n      <td>0</td>\n      <td>3</td>\n      <td>18</td>\n      <td>201.840687</td>\n      <td>GNIRS</td>\n    </tr>\n    <tr>\n      <th>15</th>\n      <td>2018-10-03 05:23:59.999984-09:00</td>\n      <td>GN-2018B-Q-101-1457</td>\n      <td>0</td>\n      <td>1</td>\n      <td>62</td>\n      <td>675.366047</td>\n      <td>GNIRS</td>\n    </tr>\n  </tbody>\n</table>\n</div>"
     },
     "metadata": {},
     "output_type": "display_data"
    },
    {
     "data": {
      "text/plain": "<IPython.core.display.Markdown object>",
      "text/markdown": "Time loss: -16 min"
     },
     "metadata": {},
     "output_type": "display_data"
    },
    {
     "data": {
      "text/plain": "<IPython.core.display.Markdown object>",
      "text/markdown": "Plan_Score: 10391.02502041599"
     },
     "metadata": {},
     "output_type": "display_data"
    },
    {
     "data": {
      "text/plain": "<IPython.core.display.Markdown object>",
      "text/markdown": "Number of ToOs: 1"
     },
     "metadata": {},
     "output_type": "display_data"
    },
    {
     "data": {
      "text/plain": "<IPython.core.display.Markdown object>",
      "text/markdown": "Schedule Observations by band"
     },
     "metadata": {},
     "output_type": "display_data"
    },
    {
     "data": {
      "text/plain": "<IPython.core.display.Markdown object>",
      "text/markdown": "Band 1         14"
     },
     "metadata": {},
     "output_type": "display_data"
    },
    {
     "data": {
      "text/plain": "<IPython.core.display.Markdown object>",
      "text/markdown": "Band 2         1"
     },
     "metadata": {},
     "output_type": "display_data"
    },
    {
     "data": {
      "text/plain": "<IPython.core.display.Markdown object>",
      "text/markdown": "Band 3         1"
     },
     "metadata": {},
     "output_type": "display_data"
    },
    {
     "data": {
      "text/plain": "<IPython.core.display.Markdown object>",
      "text/markdown": "Band 4         0"
     },
     "metadata": {},
     "output_type": "display_data"
    },
    {
     "data": {
      "text/plain": "<IPython.core.display.Markdown object>",
      "text/markdown": "---"
     },
     "metadata": {},
     "output_type": "display_data"
    },
    {
     "data": {
      "text/plain": "<IPython.core.display.Markdown object>",
      "text/markdown": "## Program Completion"
     },
     "metadata": {},
     "output_type": "display_data"
    },
    {
     "data": {
      "text/plain": "               % Completion         Score\nGS-2018B-Q-223        91.7%  21999.177107\nGS-2018B-Q-104        50.0%    487.995793\nGS-2018B-Q-105        23.5%     289.87667\nGS-2018B-Q-102         0.0%    643.953526\nGN-2018B-Q-230       100.0%  11961.177467\nGN-2018B-Q-104        62.5%   7415.627402\nGN-2018B-Q-903         0.0%      17.87151\nGN-2018B-Q-101        56.4%   4828.102079\nGN-2018B-Q-133        18.2%    181.032429\nGN-2018B-Q-108         0.0%     23.602973\nGN-2018B-Q-103         0.0%     18.085606\nGS-2018B-Q-108         0.0%     62.175894\nGS-2018B-Q-120         0.0%     74.259592\nGN-2018B-Q-303         0.0%     23.689272\nGN-2018B-Q-223         0.0%     12.638622",
      "text/html": "<div>\n<style scoped>\n    .dataframe tbody tr th:only-of-type {\n        vertical-align: middle;\n    }\n\n    .dataframe tbody tr th {\n        vertical-align: top;\n    }\n\n    .dataframe thead th {\n        text-align: right;\n    }\n</style>\n<table border=\"1\" class=\"dataframe\">\n  <thead>\n    <tr style=\"text-align: right;\">\n      <th></th>\n      <th>% Completion</th>\n      <th>Score</th>\n    </tr>\n  </thead>\n  <tbody>\n    <tr>\n      <th>GS-2018B-Q-223</th>\n      <td>91.7%</td>\n      <td>21999.177107</td>\n    </tr>\n    <tr>\n      <th>GS-2018B-Q-104</th>\n      <td>50.0%</td>\n      <td>487.995793</td>\n    </tr>\n    <tr>\n      <th>GS-2018B-Q-105</th>\n      <td>23.5%</td>\n      <td>289.87667</td>\n    </tr>\n    <tr>\n      <th>GS-2018B-Q-102</th>\n      <td>0.0%</td>\n      <td>643.953526</td>\n    </tr>\n    <tr>\n      <th>GN-2018B-Q-230</th>\n      <td>100.0%</td>\n      <td>11961.177467</td>\n    </tr>\n    <tr>\n      <th>GN-2018B-Q-104</th>\n      <td>62.5%</td>\n      <td>7415.627402</td>\n    </tr>\n    <tr>\n      <th>GN-2018B-Q-903</th>\n      <td>0.0%</td>\n      <td>17.87151</td>\n    </tr>\n    <tr>\n      <th>GN-2018B-Q-101</th>\n      <td>56.4%</td>\n      <td>4828.102079</td>\n    </tr>\n    <tr>\n      <th>GN-2018B-Q-133</th>\n      <td>18.2%</td>\n      <td>181.032429</td>\n    </tr>\n    <tr>\n      <th>GN-2018B-Q-108</th>\n      <td>0.0%</td>\n      <td>23.602973</td>\n    </tr>\n    <tr>\n      <th>GN-2018B-Q-103</th>\n      <td>0.0%</td>\n      <td>18.085606</td>\n    </tr>\n    <tr>\n      <th>GS-2018B-Q-108</th>\n      <td>0.0%</td>\n      <td>62.175894</td>\n    </tr>\n    <tr>\n      <th>GS-2018B-Q-120</th>\n      <td>0.0%</td>\n      <td>74.259592</td>\n    </tr>\n    <tr>\n      <th>GN-2018B-Q-303</th>\n      <td>0.0%</td>\n      <td>23.689272</td>\n    </tr>\n    <tr>\n      <th>GN-2018B-Q-223</th>\n      <td>0.0%</td>\n      <td>12.638622</td>\n    </tr>\n  </tbody>\n</table>\n</div>"
     },
     "metadata": {},
     "output_type": "display_data"
    },
    {
     "name": "stdout",
     "output_type": "stream",
     "text": [
      "DONE\n"
     ]
    }
   ],
   "source": [
    "# Validate the UI data.\n",
    "params = extract_params()\n",
    "\n",
    "print('Parameters parsed: Scheduler execution running...\\n')\n",
    "\n",
    "# If validation is successful, we run the Scheduler.\n",
    "ObservatoryProperties.set_properties(GeminiProperties)\n",
    "\n",
    "# Read in a list of JSON data\n",
    "programs = read_ocs_zipfile(os.path.join(ROOT_DIR, 'scheduler', 'data', '2018B_program_samples.zip'))\n",
    "\n",
    "# Create the Collector and load the programs.\n",
    "collector_blueprint = CollectorBlueprint(\n",
    "    ['SCIENCE', 'PROGCAL', 'PARTNERCAL'],\n",
    "    ['Q', 'LP', 'FT', 'DD'],\n",
    "    1.0\n",
    ")\n",
    "\n",
    "builder = ValidationBuilder(Sources())\n",
    "\n",
    "collector = builder.build_collector(\n",
    "    start=params.start,\n",
    "    end=params.end,\n",
    "    sites=params.sites,\n",
    "    semesters=frozenset([Semester(2018, SemesterHalf.B)]),\n",
    "    blueprint=collector_blueprint\n",
    ")\n",
    "# Create the Collector and load the programs.\n",
    "collector.load_programs(program_provider_class=OcsProgramProvider,\n",
    "                        data=programs)\n",
    "\n",
    "ValidationBuilder.update_collector(collector)  # ZeroTime observations\n",
    "\n",
    "\n",
    "print_collector_info(collector, samples=10)\n",
    "\n",
    "selector = ValidationBuilder.build_selector(collector,\n",
    "                                           num_nights_to_schedule=params.num_nights_to_schedule,\n",
    "                                           default_cc=params.cc,\n",
    "                                           default_iq=params.iq)\n",
    "\n",
    "# Prepare the optimizer.\n",
    "optimizer_blueprint = OptimizerBlueprint(\n",
    "    \"GreedyMax\"\n",
    ")\n",
    "optimizer = ValidationBuilder.build_optimizer(\n",
    "    blueprint=optimizer_blueprint\n",
    ")\n",
    "\n",
    "# The total nights for which visibility calculations have been done.\n",
    "total_nights = len(collector.time_grid)\n",
    "\n",
    "# Create the overall plans by night.\n",
    "overall_plans = {}\n",
    "\n",
    "for night_idx in range(selector.num_nights_to_schedule):\n",
    "    # Get the night indices for which we are selecting.\n",
    "    # TODO: We will want scores for nights to look ahead for greedy optimization.\n",
    "    # TODO: For now, we use the entire period for which visibility calculations have been done.\n",
    "    # night_indices = range(night_idx, total_nights)\n",
    "    night_indices = np.array([night_idx])\n",
    "    # selection = selector.select(night_indices=np.array([0, 1, 2])\n",
    "    selection = selector.select(night_indices=night_indices)\n",
    "    pickle_selection(selection, out_dir.path, night_idx)\n",
    "    # Run the optimizer to get the plans for the first night in the selection.\n",
    "    # mr.Md(f'### GreedyMax Output for night {night_idx}')\n",
    "    plans = optimizer.schedule(selection)\n",
    "    night_plans = plans[0]\n",
    "\n",
    "    # Store the plans in the overall_plans array for that night.\n",
    "    # TODO: This might be an issue. We may need to index nights (plans) in optimizer by night_idx.\n",
    "    overall_plans[night_idx] = night_plans\n",
    "\n",
    "    # Perform the time accounting on the plans.\n",
    "    collector.time_accounting(night_plans)\n",
    "\n",
    "\n",
    "overall_plans = [p for _, p in sorted(overall_plans.items())]\n",
    "plan_summary = StatCalculator.calculate_plans_stats(overall_plans,collector)\n",
    "# print_plans(overall_plans)\n",
    "night_tables = plans_table(overall_plans)\n",
    "pickle_plans(night_tables, out_dir.path, params.start, params.end)\n",
    "for n_idx, table_per_site in enumerate(night_tables):\n",
    "    mr.Md(f\"## Night Idx: {n_idx+1} \")\n",
    "    for site in params.sites:\n",
    "        night_stats = overall_plans[n_idx][site].night_stats\n",
    "        mr.Md(f\"### Site: {site.value[0]} \")\n",
    "        display(table_per_site[site])\n",
    "        mr.Md(f'Time loss: {night_stats.timeloss}')\n",
    "        mr.Md(f'Plan_Score: {night_stats.plan_score}')\n",
    "        mr.Md(f'Number of ToOs: {night_stats.n_toos}')\n",
    "        mr.Md(f'Schedule Observations by band')\n",
    "        for key, value in night_stats.completion_fraction.items():\n",
    "            mr.Md(f'Band {key:<10}{value}')\n",
    "    mr.Md('---')            \n",
    "mr.Md('## Program Completion')\n",
    "df_pcompl = pd.DataFrame(plan_summary).T.rename(columns={0: \"% Completion\", 1: \"Score\"})\n",
    "display(df_pcompl)\n",
    "\n",
    "print('DONE')\n"
   ]
  },
  {
   "cell_type": "code",
   "execution_count": 12,
   "outputs": [],
   "source": [],
   "metadata": {
    "collapsed": false,
    "ExecuteTime": {
     "end_time": "2023-08-31T17:15:49.532424Z",
     "start_time": "2023-08-31T17:15:49.383482Z"
    }
   }
  }
 ],
 "metadata": {
  "kernelspec": {
   "display_name": "scheduler-env",
   "language": "python",
   "name": "python3"
  },
  "language_info": {
   "codemirror_mode": {
    "name": "ipython",
    "version": 3
   },
   "file_extension": ".py",
   "mimetype": "text/x-python",
   "name": "python",
   "nbconvert_exporter": "python",
   "pygments_lexer": "ipython3",
   "version": "3.10.11"
  },
  "orig_nbformat": 4
 },
 "nbformat": 4,
 "nbformat_minor": 2
}
