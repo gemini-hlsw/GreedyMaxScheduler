{
 "cells": [
  {
   "cell_type": "code",
   "execution_count": 1,
   "metadata": {
    "ExecuteTime": {
     "end_time": "2023-10-19T16:44:49.935498Z",
     "start_time": "2023-10-19T16:44:49.900836Z"
    }
   },
   "outputs": [],
   "source": [
    "from dataclasses import dataclass\n",
    "import os\n",
    "import sys"
   ]
  },
  {
   "cell_type": "code",
   "execution_count": 2,
   "metadata": {
    "ExecuteTime": {
     "end_time": "2023-10-19T16:44:53.909189Z",
     "start_time": "2023-10-19T16:44:49.912292Z"
    }
   },
   "outputs": [],
   "source": [
    "%%capture\n",
    "import mercury as mr\n",
    "import pandas as pd\n",
    "from IPython.display import display\n",
    "\n",
    "from astropy.time import Time, TimeDelta\n",
    "from lucupy.minimodel.constraints import CloudCover, ImageQuality\n",
    "from lucupy.minimodel.semester import SemesterHalf\n",
    "from lucupy.minimodel.site import Site, ALL_SITES\n",
    "from lucupy.observatory.abstract import ObservatoryProperties\n",
    "from lucupy.observatory.gemini import GeminiProperties\n",
    "\n",
    "from definitions import ROOT_DIR\n",
    "from scheduler.core.builder.blueprint import CollectorBlueprint, OptimizerBlueprint\n",
    "from scheduler.core.builder.builder import ValidationBuilder\n",
    "from scheduler.core.components.collector import *\n",
    "from scheduler.core.output import (print_collector_info, plans_table, pickle_plans, pickle_selection)\n",
    "from scheduler.core.programprovider.ocs import read_ocs_zipfile, OcsProgramProvider\n",
    "from scheduler.core.statscalculator import StatCalculator\n",
    "from scheduler.core.eventsqueue import EventQueue"
   ]
  },
  {
   "cell_type": "code",
   "execution_count": 3,
   "metadata": {
    "ExecuteTime": {
     "end_time": "2023-10-19T16:44:54.109Z",
     "start_time": "2023-10-19T16:44:53.909525Z"
    }
   },
   "outputs": [
    {
     "data": {
      "text/plain": "mercury.App",
      "text/html": "<h3>Mercury Application</h3><small>This output won't appear in the web app.</small>",
      "application/mercury+json": "{\n    \"widget\": \"App\",\n    \"title\": \"Scheduler Validation Test\",\n    \"description\": \"Try the Validation mode for the Scheduler\",\n    \"show_code\": false,\n    \"show_prompt\": true,\n    \"output\": \"app\",\n    \"schedule\": \"\",\n    \"notify\": \"{}\",\n    \"continuous_update\": false,\n    \"static_notebook\": false,\n    \"show_sidebar\": true,\n    \"full_screen\": true,\n    \"allow_download\": true,\n    \"model_id\": \"mercury-app\",\n    \"code_uid\": \"App.0.40.24.9-rand71a2e84b\"\n}"
     },
     "metadata": {},
     "output_type": "display_data"
    }
   ],
   "source": [
    "# Add the parent directory to the Python search path.\n",
    "cwd = os.getcwd().replace('/demo', '')\n",
    "sys.path.insert(0, cwd)\n",
    "\n",
    "# Create a fixed representation of one day.\n",
    "day = TimeDelta(1.0, format='jd')\n",
    "\n",
    "# Application parameters.\n",
    "app = mr.App(title=\"Scheduler Validation Test\",\n",
    "        description=\"Try the Validation mode for the Scheduler\",\n",
    "        show_code=False,\n",
    "        show_prompt=True,\n",
    "        continuous_update=False,\n",
    "        static_notebook=False,\n",
    "        show_sidebar=True,\n",
    "        full_screen=True,\n",
    "        allow_download=True)"
   ]
  },
  {
   "cell_type": "code",
   "execution_count": 4,
   "metadata": {
    "ExecuteTime": {
     "end_time": "2023-10-19T16:44:54.110116Z",
     "start_time": "2023-10-19T16:44:54.080722Z"
    }
   },
   "outputs": [
    {
     "data": {
      "application/mercury+json": "{\n    \"widget\": \"OutputDir\",\n    \"model_id\": \"output-dir\",\n    \"code_uid\": \"OutputDir.0.40.18.1-randd5a5be5f\"\n}",
      "text/html": "<h3>Output Directory</h3><small>This output won't appear in the web app.</small>",
      "text/plain": "mercury.OutputDir"
     },
     "metadata": {},
     "output_type": "display_data"
    },
    {
     "name": "stdout",
     "output_type": "stream",
     "text": [
      "Output directory path: .\n"
     ]
    }
   ],
   "source": [
    "out_dir = mr.OutputDir()\n",
    "print(f\"Output directory path: {out_dir.path}\")"
   ]
  },
  {
   "cell_type": "code",
   "execution_count": 5,
   "metadata": {
    "ExecuteTime": {
     "end_time": "2023-10-19T16:44:54.219719Z",
     "start_time": "2023-10-19T16:44:54.114305Z"
    }
   },
   "outputs": [
    {
     "ename": "SyntaxError",
     "evalue": "'(' was never closed (1426942499.py, line 17)",
     "output_type": "error",
     "traceback": [
      "\u001B[0;36m  Cell \u001B[0;32mIn[5], line 17\u001B[0;36m\u001B[0m\n\u001B[0;31m    iq_selection = mr.Select(label='Image Quality',\u001B[0m\n\u001B[0m                            ^\u001B[0m\n\u001B[0;31mSyntaxError\u001B[0m\u001B[0;31m:\u001B[0m '(' was never closed\n"
     ]
    }
   ],
   "source": [
    "# Set up the UI.\n",
    "start_date = mr.Text(label='Start Date', value='2018-10-01')\n",
    "schedule_nights = mr.Numeric(label='Nights to Schedule', value=1, min=1, step=1)\n",
    "viscalc_nights = mr.Numeric(label='Nights for Visibility Calculations', value=1, min=1, step=1)\n",
    "\n",
    "site_choices = [site.name for site in Site]\n",
    "site_selection = mr.MultiSelect(label=\"Sites\",\n",
    "                                choices=site_choices,\n",
    "                                value=site_choices)\n",
    "\n",
    "cc_choices = [cc.name for cc in CloudCover]\n",
    "cc_selection = mr.Select(label='Cloud Cover',\n",
    "                         choices=cc_choices,\n",
    "                         value=CloudCover.CC50.name)\n",
    "\n",
    "iq_choices = [iq.name for iq in ImageQuality]\n",
    "iq_selection = mr.Select(label='Image Quality',\n",
    "                         choices=iq_choices,\n",
    "                         value=ImageQuality.IQ70.name)\n",
    "\n",
    "@dataclass(frozen=True)\n",
    "class Params:\n",
    "    start: Time\n",
    "    end: Time\n",
    "    num_nights_to_schedule: int\n",
    "    sites: FrozenSet[Site]\n",
    "    cc: CloudCover\n",
    "    iq: ImageQuality\n",
    "       \n",
    "def extract_params() -> Params:\n",
    "    # Parse the start time for the visibility calculations.\n",
    "    start_string = f'{start_date.value} 08:00:00'\n",
    "    try:\n",
    "        # Since we are using UT, add one day to the start date as it will roll back.\n",
    "        start = Time(start_string, format='iso', scale='utc') + day\n",
    "    except Exception as e:\n",
    "        print(f'Could not parse the start date \"{start_date.value}\".')\n",
    "        raise mr.StopExecution\n",
    "        \n",
    "    # The end time for the visibility calculations.\n",
    "    # In the case that the end time == start time, we get one night.\n",
    "    num_nights_visibility = viscalc_nights.value\n",
    "    if num_nights_visibility < 1 or int(num_nights_visibility) != num_nights_visibility:\n",
    "        print(f'The number of visibility nights must be a positive integer: \"{num_nights_visibility}\".')\n",
    "        raise mr.StopExecution\n",
    "    num_nights_visibility = int(num_nights_visibility)\n",
    "    end = start + (num_nights_visibility - 1) * day\n",
    "    \n",
    "    num_nights_to_schedule = schedule_nights.value\n",
    "    if num_nights_to_schedule < 1 or int(num_nights_to_schedule) != num_nights_to_schedule:\n",
    "        print(f'The number of nights to schedule must be a positive integer: \"{num_nights_to_schedule}\".')\n",
    "        raise mr.StopExecution\n",
    "    if num_nights_to_schedule > num_nights_visibility:\n",
    "        print(f'The number of nights to schedule must be at most the number of nights used in visibility calculations.')\n",
    "        raise mr.StopExecution\n",
    "    num_nights_to_schedule = int(num_nights_to_schedule)\n",
    "    \n",
    "    sites = frozenset(Site[s] for s in site_selection.value)\n",
    "    if not sites:\n",
    "        print('No sites specified.')\n",
    "        raise mr.StopExecution\n",
    "    \n",
    "    try:\n",
    "        cc = CloudCover[cc_selection.value]\n",
    "    except KeyError:\n",
    "        print(f'Illegal CloudCover: \"{cc_selection.value}\"')\n",
    "        raise mr.StopExecution\n",
    "    \n",
    "    try:\n",
    "        iq = ImageQuality[iq_selection.value]\n",
    "    except KeyError:\n",
    "        print(f'Illegal ImageQuality: \"{iq_selection.value}\"')\n",
    "        raise mr.StopExecution\n",
    "    \n",
    "    return Params(start=start,\n",
    "                  end=end,\n",
    "                  num_nights_to_schedule=num_nights_to_schedule,\n",
    "                  sites=sites,\n",
    "                  cc=cc,\n",
    "                  iq=iq)\n"
   ]
  },
  {
   "cell_type": "markdown",
   "metadata": {},
   "source": [
    "## SCHEDULER \n",
    "\n",
    "When the Scheduler is running, the UI will be frozen until the results are displayed.\n",
    "When the run button is enabled, the Scheduler may be invoked.\n",
    "The default values provided are the ones used during internal testing."
   ]
  },
  {
   "cell_type": "code",
   "execution_count": null,
   "metadata": {
    "ExecuteTime": {
     "start_time": "2023-10-19T16:44:54.120869Z"
    }
   },
   "outputs": [],
   "source": [
    "# Validate the UI data.\n",
    "params = extract_params()\n",
    "\n",
    "print('Parameters parsed: Scheduler execution running...\\n')\n",
    "\n",
    "# If validation is successful, we run the Scheduler.\n",
    "ObservatoryProperties.set_properties(GeminiProperties)\n",
    "\n",
    "# Read in a list of JSON data\n",
    "programs = read_ocs_zipfile(os.path.join(ROOT_DIR, 'scheduler', 'data', '2018B_program_samples.zip'))\n",
    "\n",
    "# Create the Collector and load the programs.\n",
    "collector_blueprint = CollectorBlueprint(\n",
    "    ['SCIENCE', 'PROGCAL', 'PARTNERCAL'],\n",
    "    ['Q', 'LP', 'FT', 'DD'],\n",
    "    1.0\n",
    ")\n",
    "queue = EventQueue([i for i in range(params.num_nights_to_schedule)], ALL_SITES)\n",
    "builder = ValidationBuilder(Sources(), queue)\n",
    "\n",
    "collector = builder.build_collector(\n",
    "    start=params.start,\n",
    "    end=params.end,\n",
    "    sites=params.sites,\n",
    "    semesters=frozenset([Semester(2018, SemesterHalf.B)]),\n",
    "    blueprint=collector_blueprint\n",
    ")\n",
    "# Create the Collector and load the programs.\n",
    "collector.load_programs(program_provider_class=OcsProgramProvider,\n",
    "                        data=programs)\n",
    "\n",
    "ValidationBuilder.update_collector(collector)  # ZeroTime observations\n",
    "\n",
    "\n",
    "print_collector_info(collector, samples=10)\n",
    "\n",
    "selector = ValidationBuilder.build_selector(collector,\n",
    "                                           num_nights_to_schedule=params.num_nights_to_schedule,\n",
    "                                           default_cc=params.cc,\n",
    "                                           default_iq=params.iq)\n",
    "\n",
    "# Prepare the optimizer.\n",
    "optimizer_blueprint = OptimizerBlueprint(\n",
    "    \"GreedyMax\"\n",
    ")\n",
    "optimizer = ValidationBuilder.build_optimizer(\n",
    "    blueprint=optimizer_blueprint\n",
    ")\n",
    "\n",
    "# The total nights for which visibility calculations have been done.\n",
    "total_nights = len(collector.time_grid)\n",
    "\n",
    "# Create the overall plans by night.\n",
    "overall_plans = {}\n",
    "\n",
    "for night_idx in range(selector.num_nights_to_schedule):\n",
    "    # Get the night indices for which we are selecting.\n",
    "    # TODO: We will want scores for nights to look ahead for greedy optimization.\n",
    "    # TODO: For now, we use the entire period for which visibility calculations have been done.\n",
    "    # night_indices = range(night_idx, total_nights)\n",
    "    night_indices = np.array([night_idx])\n",
    "    # selection = selector.select(night_indices=np.array([0, 1, 2])\n",
    "    selection = selector.select(night_indices=night_indices)\n",
    "    pickle_selection(selection, out_dir.path, night_idx)\n",
    "    # Run the optimizer to get the plans for the first night in the selection.\n",
    "    # mr.Md(f'### GreedyMax Output for night {night_idx}')\n",
    "    plans = optimizer.schedule(selection)\n",
    "    night_plans = plans[0]\n",
    "\n",
    "    # Store the plans in the overall_plans array for that night.\n",
    "    # TODO: This might be an issue. We may need to index nights (plans) in optimizer by night_idx.\n",
    "    overall_plans[night_idx] = night_plans\n",
    "\n",
    "    # Perform the time accounting on the plans.\n",
    "    collector.time_accounting(night_plans)\n",
    "\n",
    "\n",
    "overall_plans = [p for _, p in sorted(overall_plans.items())]\n",
    "plan_summary = StatCalculator.calculate_plans_stats(overall_plans,collector)\n",
    "# print_plans(overall_plans)\n",
    "night_tables = plans_table(overall_plans)\n",
    "pickle_plans(night_tables, out_dir.path, params.start, params.end)\n",
    "\n",
    "print('\\n\\n\\n')\n",
    "for n_idx, table_per_site in enumerate(night_tables):\n",
    "    night_date = (params.start + (n_idx - 1) * day).iso.split(' ')[0]\n",
    "    mr.Md(f\"## Night: {night_date} (Day: {n_idx})\")\n",
    "    for site in params.sites:\n",
    "        night_stats = overall_plans[n_idx][site].night_stats\n",
    "        mr.Md(f\"### Site: {site.value[0]} \")\n",
    "        display(table_per_site[site])\n",
    "        mr.Md(f'Time loss: {night_stats.time_loss}')\n",
    "        mr.Md(f'Plan_Score: {night_stats.plan_score}')\n",
    "        mr.Md(f'Number of ToOs: {night_stats.n_toos}')\n",
    "        mr.Md(f'Schedule Observations by band')\n",
    "        for key, value in night_stats.completion_fraction.items():\n",
    "            mr.Md(f'Band {key:<10}{value}')\n",
    "    mr.Md('---')            \n",
    "mr.Md('## Program Completion')\n",
    "df_pcompl = pd.DataFrame(plan_summary).T.rename(columns={0: \"% Completion\", 1: \"Score\"})\n",
    "display(df_pcompl)\n",
    "\n",
    "print('DONE')\n"
   ]
  },
  {
   "cell_type": "code",
   "execution_count": null,
   "outputs": [],
   "source": [],
   "metadata": {
    "collapsed": false,
    "ExecuteTime": {
     "start_time": "2023-10-19T16:44:54.123316Z"
    }
   }
  }
 ],
 "metadata": {
  "kernelspec": {
   "display_name": "scheduler-env",
   "language": "python",
   "name": "python3"
  },
  "language_info": {
   "codemirror_mode": {
    "name": "ipython",
    "version": 3
   },
   "file_extension": ".py",
   "mimetype": "text/x-python",
   "name": "python",
   "nbconvert_exporter": "python",
   "pygments_lexer": "ipython3",
   "version": "3.10.11"
  },
  "orig_nbformat": 4
 },
 "nbformat": 4,
 "nbformat_minor": 2
}
